{
 "cells": [
  {
   "cell_type": "code",
   "execution_count": 1,
   "id": "1db13bc9-4ffd-49aa-9ef7-b0e158a6eac7",
   "metadata": {},
   "outputs": [],
   "source": [
    "import spacy \n",
    "import pyArango\n",
    "import os\n",
    "from os import path\n",
    "import time\n",
    "import glob\n",
    "import pandas as pd"
   ]
  },
  {
   "cell_type": "code",
   "execution_count": 2,
   "id": "7e584156-e4a5-4dbf-b3c2-230a5080d8ce",
   "metadata": {},
   "outputs": [],
   "source": [
    "def get_text(path):\n",
    "    with open(path, encoding='utf8') as f:\n",
    "        return(f.read().replace('\\n',' '))\n",
    "        f.close()"
   ]
  },
  {
   "cell_type": "code",
   "execution_count": 3,
   "id": "bcadc304-c82a-4164-b8c8-ab130f2da5a1",
   "metadata": {},
   "outputs": [
    {
     "data": {
      "text/plain": [
       "'/home/paul/projects/arangoDB_test'"
      ]
     },
     "execution_count": 3,
     "metadata": {},
     "output_type": "execute_result"
    }
   ],
   "source": [
    "dir_path = os.getcwd()\n",
    "dir_path"
   ]
  },
  {
   "cell_type": "code",
   "execution_count": 4,
   "id": "022c57a8-476d-4e0d-942e-d99923742b7d",
   "metadata": {},
   "outputs": [],
   "source": [
    "textpath = os.path.abspath(path.join(dir_path,'..','extractedText.txt'))"
   ]
  },
  {
   "cell_type": "code",
   "execution_count": 5,
   "id": "101611ae-2365-428f-a3e7-ce99eac7b01a",
   "metadata": {},
   "outputs": [
    {
     "data": {
      "text/plain": [
       "['/home/paul/projects/text_for_app/jean_blog.txt',\n",
       " '/home/paul/projects/text_for_app/emploi étudiant et inégalités sociales.txt']"
      ]
     },
     "execution_count": 5,
     "metadata": {},
     "output_type": "execute_result"
    }
   ],
   "source": [
    "files = glob.glob('/home/paul/projects/text_for_app/*.{}'.format('txt'))\n",
    "files"
   ]
  },
  {
   "cell_type": "code",
   "execution_count": 6,
   "id": "d7308375-791a-4596-8c6c-c3a289a1435d",
   "metadata": {},
   "outputs": [],
   "source": [
    "def get_filename_from_path(path):\n",
    "    return os.path.normpath(path).split(os.sep)[-1]"
   ]
  },
  {
   "cell_type": "code",
   "execution_count": 7,
   "id": "15017e4a-090c-4144-808d-edcfad33ca24",
   "metadata": {},
   "outputs": [],
   "source": [
    "documents = pd.DataFrame({'filepath':files,\n",
    "                          'doc_name':[get_filename_from_path(filepath) for filepath in files],\n",
    "                          'doc_number':list(range(0,len(files)))})"
   ]
  },
  {
   "cell_type": "code",
   "execution_count": 8,
   "id": "e43bb185-e8d8-4053-a6de-ae8e31eae6b2",
   "metadata": {},
   "outputs": [
    {
     "data": {
      "text/html": [
       "<div>\n",
       "<style scoped>\n",
       "    .dataframe tbody tr th:only-of-type {\n",
       "        vertical-align: middle;\n",
       "    }\n",
       "\n",
       "    .dataframe tbody tr th {\n",
       "        vertical-align: top;\n",
       "    }\n",
       "\n",
       "    .dataframe thead th {\n",
       "        text-align: right;\n",
       "    }\n",
       "</style>\n",
       "<table border=\"1\" class=\"dataframe\">\n",
       "  <thead>\n",
       "    <tr style=\"text-align: right;\">\n",
       "      <th></th>\n",
       "      <th>filepath</th>\n",
       "      <th>doc_name</th>\n",
       "      <th>doc_number</th>\n",
       "    </tr>\n",
       "  </thead>\n",
       "  <tbody>\n",
       "    <tr>\n",
       "      <th>0</th>\n",
       "      <td>/home/paul/projects/text_for_app/jean_blog.txt</td>\n",
       "      <td>jean_blog.txt</td>\n",
       "      <td>0</td>\n",
       "    </tr>\n",
       "    <tr>\n",
       "      <th>1</th>\n",
       "      <td>/home/paul/projects/text_for_app/emploi étudia...</td>\n",
       "      <td>emploi étudiant et inégalités sociales.txt</td>\n",
       "      <td>1</td>\n",
       "    </tr>\n",
       "  </tbody>\n",
       "</table>\n",
       "</div>"
      ],
      "text/plain": [
       "                                            filepath  \\\n",
       "0     /home/paul/projects/text_for_app/jean_blog.txt   \n",
       "1  /home/paul/projects/text_for_app/emploi étudia...   \n",
       "\n",
       "                                     doc_name  doc_number  \n",
       "0                               jean_blog.txt           0  \n",
       "1  emploi étudiant et inégalités sociales.txt           1  "
      ]
     },
     "execution_count": 8,
     "metadata": {},
     "output_type": "execute_result"
    }
   ],
   "source": [
    "documents"
   ]
  },
  {
   "cell_type": "code",
   "execution_count": 9,
   "id": "ec69c382-b676-49ef-8897-7f246f2090fb",
   "metadata": {},
   "outputs": [],
   "source": [
    "nlp = spacy.load('fr_core_news_lg')"
   ]
  },
  {
   "cell_type": "code",
   "execution_count": 10,
   "id": "736bb2da-b190-4830-bda2-0925598c5f9e",
   "metadata": {},
   "outputs": [],
   "source": [
    "def create_dependancy_df_list(processed_text):\n",
    "    df_list = []\n",
    "    for sentence in processed_text.sents:\n",
    "        token_text, token_dep, token_head_text, token_head_pos = [], [], [], []\n",
    "        for token in sentence:\n",
    "            if not token.is_punct and not token.is_stop and not token.is_space:\n",
    "                token_text.append(token.text)\n",
    "                token_dep.append(token.dep_), \n",
    "                token_head_text.append(token.head.text), \n",
    "                token_head_pos.append( token.head.pos_)\n",
    "        df = pd.DataFrame({'token':token_text,\n",
    "                           'dep':token_dep,\n",
    "                           'head_text':token_head_text,\n",
    "                           'head_pos':token_head_pos})    \n",
    "        if not df.empty:\n",
    "            df_list.append(df)\n",
    "        else:\n",
    "            pass\n",
    "    return df_list"
   ]
  },
  {
   "cell_type": "code",
   "execution_count": 11,
   "id": "b0142263-677d-4672-a47b-5da0755d3789",
   "metadata": {},
   "outputs": [],
   "source": [
    "file_1_processed = nlp(get_text(documents['filepath'][0]))"
   ]
  },
  {
   "cell_type": "code",
   "execution_count": 12,
   "id": "d1cae396-7448-4cd6-895e-016bb611bfd0",
   "metadata": {},
   "outputs": [
    {
     "data": {
      "text/html": [
       "<div>\n",
       "<style scoped>\n",
       "    .dataframe tbody tr th:only-of-type {\n",
       "        vertical-align: middle;\n",
       "    }\n",
       "\n",
       "    .dataframe tbody tr th {\n",
       "        vertical-align: top;\n",
       "    }\n",
       "\n",
       "    .dataframe thead th {\n",
       "        text-align: right;\n",
       "    }\n",
       "</style>\n",
       "<table border=\"1\" class=\"dataframe\">\n",
       "  <thead>\n",
       "    <tr style=\"text-align: right;\">\n",
       "      <th></th>\n",
       "      <th>token</th>\n",
       "      <th>dep</th>\n",
       "      <th>head_text</th>\n",
       "      <th>head_pos</th>\n",
       "    </tr>\n",
       "  </thead>\n",
       "  <tbody>\n",
       "    <tr>\n",
       "      <th>0</th>\n",
       "      <td>oui</td>\n",
       "      <td>advmod</td>\n",
       "      <td>est</td>\n",
       "      <td>VERB</td>\n",
       "    </tr>\n",
       "    <tr>\n",
       "      <th>1</th>\n",
       "      <td>oui</td>\n",
       "      <td>dep</td>\n",
       "      <td>oui</td>\n",
       "      <td>ADV</td>\n",
       "    </tr>\n",
       "    <tr>\n",
       "      <th>2</th>\n",
       "      <td>taille</td>\n",
       "      <td>obl:arg</td>\n",
       "      <td>est</td>\n",
       "      <td>VERB</td>\n",
       "    </tr>\n",
       "    <tr>\n",
       "      <th>3</th>\n",
       "      <td>aberration</td>\n",
       "      <td>conj</td>\n",
       "      <td>est</td>\n",
       "      <td>VERB</td>\n",
       "    </tr>\n",
       "    <tr>\n",
       "      <th>4</th>\n",
       "      <td>perverse</td>\n",
       "      <td>amod</td>\n",
       "      <td>aberration</td>\n",
       "      <td>NOUN</td>\n",
       "    </tr>\n",
       "    <tr>\n",
       "      <th>5</th>\n",
       "      <td>aime</td>\n",
       "      <td>ROOT</td>\n",
       "      <td>aime</td>\n",
       "      <td>VERB</td>\n",
       "    </tr>\n",
       "    <tr>\n",
       "      <th>6</th>\n",
       "      <td>beaucoup</td>\n",
       "      <td>advmod</td>\n",
       "      <td>aime</td>\n",
       "      <td>VERB</td>\n",
       "    </tr>\n",
       "    <tr>\n",
       "      <th>7</th>\n",
       "      <td>porter</td>\n",
       "      <td>xcomp</td>\n",
       "      <td>aime</td>\n",
       "      <td>VERB</td>\n",
       "    </tr>\n",
       "  </tbody>\n",
       "</table>\n",
       "</div>"
      ],
      "text/plain": [
       "        token      dep   head_text head_pos\n",
       "0         oui   advmod         est     VERB\n",
       "1         oui      dep         oui      ADV\n",
       "2      taille  obl:arg         est     VERB\n",
       "3  aberration     conj         est     VERB\n",
       "4    perverse     amod  aberration     NOUN\n",
       "5        aime     ROOT        aime     VERB\n",
       "6    beaucoup   advmod        aime     VERB\n",
       "7      porter    xcomp        aime     VERB"
      ]
     },
     "execution_count": 12,
     "metadata": {},
     "output_type": "execute_result"
    }
   ],
   "source": [
    "create_dependancy_df_list(file_1_processed)[5]"
   ]
  },
  {
   "cell_type": "code",
   "execution_count": 33,
   "id": "c70280da-ba8d-4e9e-ad3b-7f9593d2b857",
   "metadata": {},
   "outputs": [],
   "source": [
    "from spacy import displacy"
   ]
  },
  {
   "cell_type": "code",
   "execution_count": 34,
   "id": "ae10b0c8-b1f6-4565-892d-a8805af3652b",
   "metadata": {},
   "outputs": [],
   "source": [
    "sentence = list(file_1_processed.sents)[0]"
   ]
  },
  {
   "cell_type": "code",
   "execution_count": 35,
   "id": "bbc9b672-a613-4f41-baf5-49f9a57a4856",
   "metadata": {},
   "outputs": [
    {
     "data": {
      "text/html": [
       "<span class=\"tex2jax_ignore\"><svg xmlns=\"http://www.w3.org/2000/svg\" xmlns:xlink=\"http://www.w3.org/1999/xlink\" xml:lang=\"fr\" id=\"f3ce6d4a00a24baa846ea8f8e04b427d-0\" class=\"displacy\" width=\"2325\" height=\"399.5\" direction=\"ltr\" style=\"max-width: none; height: 399.5px; color: #000000; background: #ffffff; font-family: Arial; direction: ltr\">\n",
       "<text class=\"displacy-token\" fill=\"currentColor\" text-anchor=\"middle\" y=\"309.5\">\n",
       "    <tspan class=\"displacy-word\" fill=\"currentColor\" x=\"50\">Je</tspan>\n",
       "    <tspan class=\"displacy-tag\" dy=\"2em\" fill=\"currentColor\" x=\"50\">PRON</tspan>\n",
       "</text>\n",
       "\n",
       "<text class=\"displacy-token\" fill=\"currentColor\" text-anchor=\"middle\" y=\"309.5\">\n",
       "    <tspan class=\"displacy-word\" fill=\"currentColor\" x=\"225\">ne</tspan>\n",
       "    <tspan class=\"displacy-tag\" dy=\"2em\" fill=\"currentColor\" x=\"225\">ADV</tspan>\n",
       "</text>\n",
       "\n",
       "<text class=\"displacy-token\" fill=\"currentColor\" text-anchor=\"middle\" y=\"309.5\">\n",
       "    <tspan class=\"displacy-word\" fill=\"currentColor\" x=\"400\">vais</tspan>\n",
       "    <tspan class=\"displacy-tag\" dy=\"2em\" fill=\"currentColor\" x=\"400\">VERB</tspan>\n",
       "</text>\n",
       "\n",
       "<text class=\"displacy-token\" fill=\"currentColor\" text-anchor=\"middle\" y=\"309.5\">\n",
       "    <tspan class=\"displacy-word\" fill=\"currentColor\" x=\"575\">pas</tspan>\n",
       "    <tspan class=\"displacy-tag\" dy=\"2em\" fill=\"currentColor\" x=\"575\">ADV</tspan>\n",
       "</text>\n",
       "\n",
       "<text class=\"displacy-token\" fill=\"currentColor\" text-anchor=\"middle\" y=\"309.5\">\n",
       "    <tspan class=\"displacy-word\" fill=\"currentColor\" x=\"750\">faire</tspan>\n",
       "    <tspan class=\"displacy-tag\" dy=\"2em\" fill=\"currentColor\" x=\"750\">VERB</tspan>\n",
       "</text>\n",
       "\n",
       "<text class=\"displacy-token\" fill=\"currentColor\" text-anchor=\"middle\" y=\"309.5\">\n",
       "    <tspan class=\"displacy-word\" fill=\"currentColor\" x=\"925\">inutilement</tspan>\n",
       "    <tspan class=\"displacy-tag\" dy=\"2em\" fill=\"currentColor\" x=\"925\">ADV</tspan>\n",
       "</text>\n",
       "\n",
       "<text class=\"displacy-token\" fill=\"currentColor\" text-anchor=\"middle\" y=\"309.5\">\n",
       "    <tspan class=\"displacy-word\" fill=\"currentColor\" x=\"1100\">durer</tspan>\n",
       "    <tspan class=\"displacy-tag\" dy=\"2em\" fill=\"currentColor\" x=\"1100\">VERB</tspan>\n",
       "</text>\n",
       "\n",
       "<text class=\"displacy-token\" fill=\"currentColor\" text-anchor=\"middle\" y=\"309.5\">\n",
       "    <tspan class=\"displacy-word\" fill=\"currentColor\" x=\"1275\">le</tspan>\n",
       "    <tspan class=\"displacy-tag\" dy=\"2em\" fill=\"currentColor\" x=\"1275\">DET</tspan>\n",
       "</text>\n",
       "\n",
       "<text class=\"displacy-token\" fill=\"currentColor\" text-anchor=\"middle\" y=\"309.5\">\n",
       "    <tspan class=\"displacy-word\" fill=\"currentColor\" x=\"1450\">suspense :</tspan>\n",
       "    <tspan class=\"displacy-tag\" dy=\"2em\" fill=\"currentColor\" x=\"1450\">NOUN</tspan>\n",
       "</text>\n",
       "\n",
       "<text class=\"displacy-token\" fill=\"currentColor\" text-anchor=\"middle\" y=\"309.5\">\n",
       "    <tspan class=\"displacy-word\" fill=\"currentColor\" x=\"1625\">la</tspan>\n",
       "    <tspan class=\"displacy-tag\" dy=\"2em\" fill=\"currentColor\" x=\"1625\">DET</tspan>\n",
       "</text>\n",
       "\n",
       "<text class=\"displacy-token\" fill=\"currentColor\" text-anchor=\"middle\" y=\"309.5\">\n",
       "    <tspan class=\"displacy-word\" fill=\"currentColor\" x=\"1800\">réponse</tspan>\n",
       "    <tspan class=\"displacy-tag\" dy=\"2em\" fill=\"currentColor\" x=\"1800\">NOUN</tspan>\n",
       "</text>\n",
       "\n",
       "<text class=\"displacy-token\" fill=\"currentColor\" text-anchor=\"middle\" y=\"309.5\">\n",
       "    <tspan class=\"displacy-word\" fill=\"currentColor\" x=\"1975\">est</tspan>\n",
       "    <tspan class=\"displacy-tag\" dy=\"2em\" fill=\"currentColor\" x=\"1975\">AUX</tspan>\n",
       "</text>\n",
       "\n",
       "<text class=\"displacy-token\" fill=\"currentColor\" text-anchor=\"middle\" y=\"309.5\">\n",
       "    <tspan class=\"displacy-word\" fill=\"currentColor\" x=\"2150\">oui.</tspan>\n",
       "    <tspan class=\"displacy-tag\" dy=\"2em\" fill=\"currentColor\" x=\"2150\">ADV</tspan>\n",
       "</text>\n",
       "\n",
       "<g class=\"displacy-arrow\">\n",
       "    <path class=\"displacy-arc\" id=\"arrow-f3ce6d4a00a24baa846ea8f8e04b427d-0-0\" stroke-width=\"2px\" d=\"M70,264.5 C70,89.5 395.0,89.5 395.0,264.5\" fill=\"none\" stroke=\"currentColor\"/>\n",
       "    <text dy=\"1.25em\" style=\"font-size: 0.8em; letter-spacing: 1px\">\n",
       "        <textPath xlink:href=\"#arrow-f3ce6d4a00a24baa846ea8f8e04b427d-0-0\" class=\"displacy-label\" startOffset=\"50%\" side=\"left\" fill=\"currentColor\" text-anchor=\"middle\">nsubj</textPath>\n",
       "    </text>\n",
       "    <path class=\"displacy-arrowhead\" d=\"M70,266.5 L62,254.5 78,254.5\" fill=\"currentColor\"/>\n",
       "</g>\n",
       "\n",
       "<g class=\"displacy-arrow\">\n",
       "    <path class=\"displacy-arc\" id=\"arrow-f3ce6d4a00a24baa846ea8f8e04b427d-0-1\" stroke-width=\"2px\" d=\"M245,264.5 C245,177.0 390.0,177.0 390.0,264.5\" fill=\"none\" stroke=\"currentColor\"/>\n",
       "    <text dy=\"1.25em\" style=\"font-size: 0.8em; letter-spacing: 1px\">\n",
       "        <textPath xlink:href=\"#arrow-f3ce6d4a00a24baa846ea8f8e04b427d-0-1\" class=\"displacy-label\" startOffset=\"50%\" side=\"left\" fill=\"currentColor\" text-anchor=\"middle\">advmod</textPath>\n",
       "    </text>\n",
       "    <path class=\"displacy-arrowhead\" d=\"M245,266.5 L237,254.5 253,254.5\" fill=\"currentColor\"/>\n",
       "</g>\n",
       "\n",
       "<g class=\"displacy-arrow\">\n",
       "    <path class=\"displacy-arc\" id=\"arrow-f3ce6d4a00a24baa846ea8f8e04b427d-0-2\" stroke-width=\"2px\" d=\"M420,264.5 C420,177.0 565.0,177.0 565.0,264.5\" fill=\"none\" stroke=\"currentColor\"/>\n",
       "    <text dy=\"1.25em\" style=\"font-size: 0.8em; letter-spacing: 1px\">\n",
       "        <textPath xlink:href=\"#arrow-f3ce6d4a00a24baa846ea8f8e04b427d-0-2\" class=\"displacy-label\" startOffset=\"50%\" side=\"left\" fill=\"currentColor\" text-anchor=\"middle\">advmod</textPath>\n",
       "    </text>\n",
       "    <path class=\"displacy-arrowhead\" d=\"M565.0,266.5 L573.0,254.5 557.0,254.5\" fill=\"currentColor\"/>\n",
       "</g>\n",
       "\n",
       "<g class=\"displacy-arrow\">\n",
       "    <path class=\"displacy-arc\" id=\"arrow-f3ce6d4a00a24baa846ea8f8e04b427d-0-3\" stroke-width=\"2px\" d=\"M420,264.5 C420,89.5 745.0,89.5 745.0,264.5\" fill=\"none\" stroke=\"currentColor\"/>\n",
       "    <text dy=\"1.25em\" style=\"font-size: 0.8em; letter-spacing: 1px\">\n",
       "        <textPath xlink:href=\"#arrow-f3ce6d4a00a24baa846ea8f8e04b427d-0-3\" class=\"displacy-label\" startOffset=\"50%\" side=\"left\" fill=\"currentColor\" text-anchor=\"middle\">xcomp</textPath>\n",
       "    </text>\n",
       "    <path class=\"displacy-arrowhead\" d=\"M745.0,266.5 L753.0,254.5 737.0,254.5\" fill=\"currentColor\"/>\n",
       "</g>\n",
       "\n",
       "<g class=\"displacy-arrow\">\n",
       "    <path class=\"displacy-arc\" id=\"arrow-f3ce6d4a00a24baa846ea8f8e04b427d-0-4\" stroke-width=\"2px\" d=\"M770,264.5 C770,177.0 915.0,177.0 915.0,264.5\" fill=\"none\" stroke=\"currentColor\"/>\n",
       "    <text dy=\"1.25em\" style=\"font-size: 0.8em; letter-spacing: 1px\">\n",
       "        <textPath xlink:href=\"#arrow-f3ce6d4a00a24baa846ea8f8e04b427d-0-4\" class=\"displacy-label\" startOffset=\"50%\" side=\"left\" fill=\"currentColor\" text-anchor=\"middle\">advmod</textPath>\n",
       "    </text>\n",
       "    <path class=\"displacy-arrowhead\" d=\"M915.0,266.5 L923.0,254.5 907.0,254.5\" fill=\"currentColor\"/>\n",
       "</g>\n",
       "\n",
       "<g class=\"displacy-arrow\">\n",
       "    <path class=\"displacy-arc\" id=\"arrow-f3ce6d4a00a24baa846ea8f8e04b427d-0-5\" stroke-width=\"2px\" d=\"M770,264.5 C770,89.5 1095.0,89.5 1095.0,264.5\" fill=\"none\" stroke=\"currentColor\"/>\n",
       "    <text dy=\"1.25em\" style=\"font-size: 0.8em; letter-spacing: 1px\">\n",
       "        <textPath xlink:href=\"#arrow-f3ce6d4a00a24baa846ea8f8e04b427d-0-5\" class=\"displacy-label\" startOffset=\"50%\" side=\"left\" fill=\"currentColor\" text-anchor=\"middle\">xcomp</textPath>\n",
       "    </text>\n",
       "    <path class=\"displacy-arrowhead\" d=\"M1095.0,266.5 L1103.0,254.5 1087.0,254.5\" fill=\"currentColor\"/>\n",
       "</g>\n",
       "\n",
       "<g class=\"displacy-arrow\">\n",
       "    <path class=\"displacy-arc\" id=\"arrow-f3ce6d4a00a24baa846ea8f8e04b427d-0-6\" stroke-width=\"2px\" d=\"M1295,264.5 C1295,177.0 1440.0,177.0 1440.0,264.5\" fill=\"none\" stroke=\"currentColor\"/>\n",
       "    <text dy=\"1.25em\" style=\"font-size: 0.8em; letter-spacing: 1px\">\n",
       "        <textPath xlink:href=\"#arrow-f3ce6d4a00a24baa846ea8f8e04b427d-0-6\" class=\"displacy-label\" startOffset=\"50%\" side=\"left\" fill=\"currentColor\" text-anchor=\"middle\">det</textPath>\n",
       "    </text>\n",
       "    <path class=\"displacy-arrowhead\" d=\"M1295,266.5 L1287,254.5 1303,254.5\" fill=\"currentColor\"/>\n",
       "</g>\n",
       "\n",
       "<g class=\"displacy-arrow\">\n",
       "    <path class=\"displacy-arc\" id=\"arrow-f3ce6d4a00a24baa846ea8f8e04b427d-0-7\" stroke-width=\"2px\" d=\"M1120,264.5 C1120,89.5 1445.0,89.5 1445.0,264.5\" fill=\"none\" stroke=\"currentColor\"/>\n",
       "    <text dy=\"1.25em\" style=\"font-size: 0.8em; letter-spacing: 1px\">\n",
       "        <textPath xlink:href=\"#arrow-f3ce6d4a00a24baa846ea8f8e04b427d-0-7\" class=\"displacy-label\" startOffset=\"50%\" side=\"left\" fill=\"currentColor\" text-anchor=\"middle\">obj</textPath>\n",
       "    </text>\n",
       "    <path class=\"displacy-arrowhead\" d=\"M1445.0,266.5 L1453.0,254.5 1437.0,254.5\" fill=\"currentColor\"/>\n",
       "</g>\n",
       "\n",
       "<g class=\"displacy-arrow\">\n",
       "    <path class=\"displacy-arc\" id=\"arrow-f3ce6d4a00a24baa846ea8f8e04b427d-0-8\" stroke-width=\"2px\" d=\"M1645,264.5 C1645,177.0 1790.0,177.0 1790.0,264.5\" fill=\"none\" stroke=\"currentColor\"/>\n",
       "    <text dy=\"1.25em\" style=\"font-size: 0.8em; letter-spacing: 1px\">\n",
       "        <textPath xlink:href=\"#arrow-f3ce6d4a00a24baa846ea8f8e04b427d-0-8\" class=\"displacy-label\" startOffset=\"50%\" side=\"left\" fill=\"currentColor\" text-anchor=\"middle\">det</textPath>\n",
       "    </text>\n",
       "    <path class=\"displacy-arrowhead\" d=\"M1645,266.5 L1637,254.5 1653,254.5\" fill=\"currentColor\"/>\n",
       "</g>\n",
       "\n",
       "<g class=\"displacy-arrow\">\n",
       "    <path class=\"displacy-arc\" id=\"arrow-f3ce6d4a00a24baa846ea8f8e04b427d-0-9\" stroke-width=\"2px\" d=\"M1820,264.5 C1820,89.5 2145.0,89.5 2145.0,264.5\" fill=\"none\" stroke=\"currentColor\"/>\n",
       "    <text dy=\"1.25em\" style=\"font-size: 0.8em; letter-spacing: 1px\">\n",
       "        <textPath xlink:href=\"#arrow-f3ce6d4a00a24baa846ea8f8e04b427d-0-9\" class=\"displacy-label\" startOffset=\"50%\" side=\"left\" fill=\"currentColor\" text-anchor=\"middle\">nsubj</textPath>\n",
       "    </text>\n",
       "    <path class=\"displacy-arrowhead\" d=\"M1820,266.5 L1812,254.5 1828,254.5\" fill=\"currentColor\"/>\n",
       "</g>\n",
       "\n",
       "<g class=\"displacy-arrow\">\n",
       "    <path class=\"displacy-arc\" id=\"arrow-f3ce6d4a00a24baa846ea8f8e04b427d-0-10\" stroke-width=\"2px\" d=\"M1995,264.5 C1995,177.0 2140.0,177.0 2140.0,264.5\" fill=\"none\" stroke=\"currentColor\"/>\n",
       "    <text dy=\"1.25em\" style=\"font-size: 0.8em; letter-spacing: 1px\">\n",
       "        <textPath xlink:href=\"#arrow-f3ce6d4a00a24baa846ea8f8e04b427d-0-10\" class=\"displacy-label\" startOffset=\"50%\" side=\"left\" fill=\"currentColor\" text-anchor=\"middle\">cop</textPath>\n",
       "    </text>\n",
       "    <path class=\"displacy-arrowhead\" d=\"M1995,266.5 L1987,254.5 2003,254.5\" fill=\"currentColor\"/>\n",
       "</g>\n",
       "\n",
       "<g class=\"displacy-arrow\">\n",
       "    <path class=\"displacy-arc\" id=\"arrow-f3ce6d4a00a24baa846ea8f8e04b427d-0-11\" stroke-width=\"2px\" d=\"M420,264.5 C420,2.0 2150.0,2.0 2150.0,264.5\" fill=\"none\" stroke=\"currentColor\"/>\n",
       "    <text dy=\"1.25em\" style=\"font-size: 0.8em; letter-spacing: 1px\">\n",
       "        <textPath xlink:href=\"#arrow-f3ce6d4a00a24baa846ea8f8e04b427d-0-11\" class=\"displacy-label\" startOffset=\"50%\" side=\"left\" fill=\"currentColor\" text-anchor=\"middle\">parataxis</textPath>\n",
       "    </text>\n",
       "    <path class=\"displacy-arrowhead\" d=\"M2150.0,266.5 L2158.0,254.5 2142.0,254.5\" fill=\"currentColor\"/>\n",
       "</g>\n",
       "</svg></span>"
      ],
      "text/plain": [
       "<IPython.core.display.HTML object>"
      ]
     },
     "metadata": {},
     "output_type": "display_data"
    }
   ],
   "source": [
    "displacy.render(sentence)"
   ]
  },
  {
   "cell_type": "code",
   "execution_count": 16,
   "id": "0b0f1fc2-51f4-49f0-aa60-2a013b5420be",
   "metadata": {},
   "outputs": [
    {
     "data": {
      "text/html": [
       "<div>\n",
       "<style scoped>\n",
       "    .dataframe tbody tr th:only-of-type {\n",
       "        vertical-align: middle;\n",
       "    }\n",
       "\n",
       "    .dataframe tbody tr th {\n",
       "        vertical-align: top;\n",
       "    }\n",
       "\n",
       "    .dataframe thead th {\n",
       "        text-align: right;\n",
       "    }\n",
       "</style>\n",
       "<table border=\"1\" class=\"dataframe\">\n",
       "  <thead>\n",
       "    <tr style=\"text-align: right;\">\n",
       "      <th></th>\n",
       "      <th>token</th>\n",
       "      <th>lemma</th>\n",
       "    </tr>\n",
       "  </thead>\n",
       "  <tbody>\n",
       "    <tr>\n",
       "      <th>0</th>\n",
       "      <td>faire</td>\n",
       "      <td>faire</td>\n",
       "    </tr>\n",
       "    <tr>\n",
       "      <th>1</th>\n",
       "      <td>inutilement</td>\n",
       "      <td>inutilement</td>\n",
       "    </tr>\n",
       "    <tr>\n",
       "      <th>2</th>\n",
       "      <td>durer</td>\n",
       "      <td>durer</td>\n",
       "    </tr>\n",
       "    <tr>\n",
       "      <th>3</th>\n",
       "      <td>suspense</td>\n",
       "      <td>suspense</td>\n",
       "    </tr>\n",
       "    <tr>\n",
       "      <th>4</th>\n",
       "      <td>réponse</td>\n",
       "      <td>réponse</td>\n",
       "    </tr>\n",
       "    <tr>\n",
       "      <th>...</th>\n",
       "      <td>...</td>\n",
       "      <td>...</td>\n",
       "    </tr>\n",
       "    <tr>\n",
       "      <th>107</th>\n",
       "      <td>évoluer</td>\n",
       "      <td>évoluer</td>\n",
       "    </tr>\n",
       "    <tr>\n",
       "      <th>108</th>\n",
       "      <td>cesse</td>\n",
       "      <td>cesse</td>\n",
       "    </tr>\n",
       "    <tr>\n",
       "      <th>109</th>\n",
       "      <td>jamais</td>\n",
       "      <td>jamais</td>\n",
       "    </tr>\n",
       "    <tr>\n",
       "      <th>110</th>\n",
       "      <td>étonner</td>\n",
       "      <td>étonner</td>\n",
       "    </tr>\n",
       "    <tr>\n",
       "      <th>111</th>\n",
       "      <td>intéresse</td>\n",
       "      <td>intéresse</td>\n",
       "    </tr>\n",
       "  </tbody>\n",
       "</table>\n",
       "<p>112 rows × 2 columns</p>\n",
       "</div>"
      ],
      "text/plain": [
       "           token        lemma\n",
       "0          faire        faire\n",
       "1    inutilement  inutilement\n",
       "2          durer        durer\n",
       "3       suspense     suspense\n",
       "4        réponse      réponse\n",
       "..           ...          ...\n",
       "107      évoluer      évoluer\n",
       "108        cesse        cesse\n",
       "109       jamais       jamais\n",
       "110      étonner      étonner\n",
       "111    intéresse    intéresse\n",
       "\n",
       "[112 rows x 2 columns]"
      ]
     },
     "execution_count": 16,
     "metadata": {},
     "output_type": "execute_result"
    }
   ],
   "source": [
    "tokens, lemmas = [], []\n",
    "for token in file_1_processed:\n",
    "    if not token.is_punct and not token.is_stop and not token.is_space:\n",
    "        tokens.append(token.text.lower())\n",
    "        lemmas.append(token.lemma_.lower())\n",
    "pd.DataFrame({'token':tokens,\n",
    "              'lemma':lemmas})"
   ]
  },
  {
   "cell_type": "code",
   "execution_count": 17,
   "id": "a0b3e145-6a34-4ee9-9cfc-98dd49303708",
   "metadata": {},
   "outputs": [],
   "source": [
    "def get_vocab_table(processed_text):\n",
    "    tokens, lemmas = [], []\n",
    "    for token in file_1_processed:\n",
    "        if not token.is_punct and not token.is_stop and not token.is_space:\n",
    "            tokens.append(token.text.lower())\n",
    "            lemmas.append(token.lemma_.lower())\n",
    "    vocab_table = pd.DataFrame({'token':tokens,\n",
    "                                'lemma':lemmas})\n",
    "    return vocab_table"
   ]
  },
  {
   "cell_type": "code",
   "execution_count": 18,
   "id": "2b288720-62bb-499f-9232-72334de4ed57",
   "metadata": {},
   "outputs": [
    {
     "data": {
      "text/html": [
       "<div>\n",
       "<style scoped>\n",
       "    .dataframe tbody tr th:only-of-type {\n",
       "        vertical-align: middle;\n",
       "    }\n",
       "\n",
       "    .dataframe tbody tr th {\n",
       "        vertical-align: top;\n",
       "    }\n",
       "\n",
       "    .dataframe thead th {\n",
       "        text-align: right;\n",
       "    }\n",
       "</style>\n",
       "<table border=\"1\" class=\"dataframe\">\n",
       "  <thead>\n",
       "    <tr style=\"text-align: right;\">\n",
       "      <th></th>\n",
       "      <th>token</th>\n",
       "      <th>lemma</th>\n",
       "    </tr>\n",
       "  </thead>\n",
       "  <tbody>\n",
       "    <tr>\n",
       "      <th>0</th>\n",
       "      <td>faire</td>\n",
       "      <td>faire</td>\n",
       "    </tr>\n",
       "    <tr>\n",
       "      <th>1</th>\n",
       "      <td>inutilement</td>\n",
       "      <td>inutilement</td>\n",
       "    </tr>\n",
       "    <tr>\n",
       "      <th>2</th>\n",
       "      <td>durer</td>\n",
       "      <td>durer</td>\n",
       "    </tr>\n",
       "    <tr>\n",
       "      <th>3</th>\n",
       "      <td>suspense</td>\n",
       "      <td>suspense</td>\n",
       "    </tr>\n",
       "    <tr>\n",
       "      <th>4</th>\n",
       "      <td>réponse</td>\n",
       "      <td>réponse</td>\n",
       "    </tr>\n",
       "    <tr>\n",
       "      <th>...</th>\n",
       "      <td>...</td>\n",
       "      <td>...</td>\n",
       "    </tr>\n",
       "    <tr>\n",
       "      <th>107</th>\n",
       "      <td>évoluer</td>\n",
       "      <td>évoluer</td>\n",
       "    </tr>\n",
       "    <tr>\n",
       "      <th>108</th>\n",
       "      <td>cesse</td>\n",
       "      <td>cesse</td>\n",
       "    </tr>\n",
       "    <tr>\n",
       "      <th>109</th>\n",
       "      <td>jamais</td>\n",
       "      <td>jamais</td>\n",
       "    </tr>\n",
       "    <tr>\n",
       "      <th>110</th>\n",
       "      <td>étonner</td>\n",
       "      <td>étonner</td>\n",
       "    </tr>\n",
       "    <tr>\n",
       "      <th>111</th>\n",
       "      <td>intéresse</td>\n",
       "      <td>intéresse</td>\n",
       "    </tr>\n",
       "  </tbody>\n",
       "</table>\n",
       "<p>112 rows × 2 columns</p>\n",
       "</div>"
      ],
      "text/plain": [
       "           token        lemma\n",
       "0          faire        faire\n",
       "1    inutilement  inutilement\n",
       "2          durer        durer\n",
       "3       suspense     suspense\n",
       "4        réponse      réponse\n",
       "..           ...          ...\n",
       "107      évoluer      évoluer\n",
       "108        cesse        cesse\n",
       "109       jamais       jamais\n",
       "110      étonner      étonner\n",
       "111    intéresse    intéresse\n",
       "\n",
       "[112 rows x 2 columns]"
      ]
     },
     "execution_count": 18,
     "metadata": {},
     "output_type": "execute_result"
    }
   ],
   "source": [
    "doc_1_vocab = get_vocab_table(file_1_processed)\n",
    "doc_1_vocab"
   ]
  },
  {
   "cell_type": "code",
   "execution_count": 19,
   "id": "af23ba6c-98a6-44a1-84b0-f18b379e0d7f",
   "metadata": {},
   "outputs": [
    {
     "data": {
      "text/plain": [
       "vêtement     5\n",
       "style        3\n",
       "oui          3\n",
       "hideux       2\n",
       "valeur       2\n",
       "            ..\n",
       "pied         1\n",
       "pantalon     1\n",
       "moudre       1\n",
       "beaucoup     1\n",
       "intéresse    1\n",
       "Name: lemma, Length: 93, dtype: int64"
      ]
     },
     "execution_count": 19,
     "metadata": {},
     "output_type": "execute_result"
    }
   ],
   "source": [
    "doc_1_vocab['lemma'].value_counts()"
   ]
  },
  {
   "cell_type": "code",
   "execution_count": 20,
   "id": "b1d5a824-d444-4f7e-a7db-ba6af0176128",
   "metadata": {},
   "outputs": [],
   "source": [
    "from pyArango.connection import *\n",
    "from pyArango.collection import Collection, Field, Edges\n",
    "from pyArango.graph import Graph, EdgeDefinition"
   ]
  },
  {
   "cell_type": "markdown",
   "id": "8ddda92f-6abb-49fe-9f45-ebf6441b06c4",
   "metadata": {},
   "source": [
    "Connection à la base de données"
   ]
  },
  {
   "cell_type": "code",
   "execution_count": 21,
   "id": "73672bfc-6359-4176-abe2-2a90f08f8bac",
   "metadata": {},
   "outputs": [],
   "source": [
    "conn = Connection(username='root',\n",
    "                  password='root')"
   ]
  },
  {
   "cell_type": "markdown",
   "id": "da6ceb3a-27bd-4e03-810e-8c0d1c0d322a",
   "metadata": {},
   "source": [
    "test d'existence de la base de données et création si besoin"
   ]
  },
  {
   "cell_type": "code",
   "execution_count": 22,
   "id": "fd454988-1eb5-42cd-8a46-def8562cc886",
   "metadata": {},
   "outputs": [],
   "source": [
    "if 'text_graph_test' in conn.databases:\n",
    "    pass\n",
    "else :\n",
    "    conn.createDatabase(name='text_graph_test')"
   ]
  },
  {
   "cell_type": "code",
   "execution_count": 23,
   "id": "b656d71e-0fb3-49d1-ba14-34d875cd7ed4",
   "metadata": {},
   "outputs": [],
   "source": [
    "db = conn['text_graph_test']"
   ]
  },
  {
   "cell_type": "markdown",
   "id": "5b9a0fa7-70e7-4280-b331-3449ed106bcf",
   "metadata": {},
   "source": [
    "Construction des classes contenant les informations des collections "
   ]
  },
  {
   "cell_type": "code",
   "execution_count": 29,
   "id": "231440e5-381e-43ca-ac75-4f754179cc1b",
   "metadata": {},
   "outputs": [],
   "source": [
    "class tokens(Collection):\n",
    "    _fields = {\n",
    "        'token':Field()\n",
    "    }"
   ]
  },
  {
   "cell_type": "code",
   "execution_count": 30,
   "id": "fe9a3f4e-66fc-423c-b266-a59752fe10a1",
   "metadata": {},
   "outputs": [],
   "source": [
    "class lemmas(Collection):\n",
    "    _fields = {\n",
    "        'lemma':Field()\n",
    "    }"
   ]
  },
  {
   "cell_type": "code",
   "execution_count": 31,
   "id": "5ddb9fe7-0a24-4f65-935a-07b74ceae0a3",
   "metadata": {},
   "outputs": [],
   "source": [
    "class contracts_to(Edges):\n",
    "    _fields = {}"
   ]
  },
  {
   "cell_type": "markdown",
   "id": "d6a45558-0415-4354-b346-9da186ac9b8a",
   "metadata": {},
   "source": [
    "Construction du graphe"
   ]
  },
  {
   "cell_type": "code",
   "execution_count": 32,
   "id": "d7e90f2b-dd1b-41a8-8839-c1c008988aef",
   "metadata": {},
   "outputs": [],
   "source": [
    "class first_graph(Graph):\n",
    "    _edgeDefinitions = [EdgeDefinition('contracts_to',fromCollections=['tokens'], toCollections=['lemmas'])]\n",
    "    _orphanedCollections = []"
   ]
  },
  {
   "cell_type": "code",
   "execution_count": 30,
   "id": "13448122-660a-4479-af6c-2ee74030ab1e",
   "metadata": {},
   "outputs": [],
   "source": [
    "if 'first_graph' not in db.graphs:\n",
    "    graph = db.createGraph('first_graph')\n",
    "else :\n",
    "    graph = db.graphs['first_graph']"
   ]
  },
  {
   "cell_type": "markdown",
   "id": "0c8302d3-7adb-49c8-a259-80f92a5ad0e5",
   "metadata": {},
   "source": [
    "Check d'existence et insertion en base de données des collections"
   ]
  },
  {
   "cell_type": "code",
   "execution_count": 41,
   "id": "8956de1e-018c-41c4-b982-87ed5897d0ca",
   "metadata": {},
   "outputs": [],
   "source": [
    "if not ('lemmas' in db.collections) & ('tokens' in db.collections):\n",
    "    db.createCollection('tokens')\n",
    "    db.createCollection('lemmas')\n",
    "else :\n",
    "    pass"
   ]
  },
  {
   "cell_type": "markdown",
   "id": "6ea01a62-18a7-4888-bce0-566f8b8bea28",
   "metadata": {},
   "source": [
    "Remplissage des tables et lien entre tokens et lemmas"
   ]
  },
  {
   "cell_type": "markdown",
   "id": "fba9fe99-e72c-4f6d-aca3-06f31f2e834e",
   "metadata": {},
   "source": [
    "## Ecrit de cette manière, on ajoute autant de fois un lemme qu'il est trouvé dans le dataframe\n",
    "- Il faut trouver comment unir deux tables aux nombres d'entrées différents"
   ]
  },
  {
   "cell_type": "code",
   "execution_count": 42,
   "id": "70a595d3-73ca-4e4e-876b-aadab16a0d89",
   "metadata": {},
   "outputs": [],
   "source": [
    "tokens_for_insertion = []\n",
    "lemmas_for_insertion = []\n",
    "for i in range(0,doc_1_vocab.shape[0]):\n",
    "    tokens_for_insertion.append(graph.createVertex('tokens',{'token':doc_1_vocab['token'][i]}))\n",
    "    lemmas_for_insertion.append(graph.createVertex('lemmas',{'lemma':doc_1_vocab['lemma'][i]}))"
   ]
  },
  {
   "cell_type": "code",
   "execution_count": 43,
   "id": "0481557a-2de4-4dd9-9285-4201f7eaa613",
   "metadata": {},
   "outputs": [],
   "source": [
    "for i in range(0,len(tokens_for_insertion)):\n",
    "    graph.link('contracts_to',tokens_for_insertion[i],lemmas_for_insertion[i],{})"
   ]
  },
  {
   "cell_type": "markdown",
   "id": "5b6c4760-222a-4e8f-a18e-a2ee9e271707",
   "metadata": {},
   "source": [
    "## Recherche d'alternative sur comment insérer les données "
   ]
  },
  {
   "cell_type": "code",
   "execution_count": null,
   "id": "ef147bd6-fe35-4a27-adbe-435ba849d94f",
   "metadata": {},
   "outputs": [],
   "source": []
  },
  {
   "cell_type": "code",
   "execution_count": null,
   "id": "a8fa775d-678c-492d-9a78-ef304b1082d3",
   "metadata": {},
   "outputs": [],
   "source": []
  },
  {
   "cell_type": "code",
   "execution_count": null,
   "id": "a492488c-ea7a-4ebb-8b70-08b2fc6708d7",
   "metadata": {},
   "outputs": [],
   "source": []
  },
  {
   "cell_type": "code",
   "execution_count": null,
   "id": "b4634c2f-9440-4b07-a57d-db70cd33d1d1",
   "metadata": {},
   "outputs": [],
   "source": []
  },
  {
   "cell_type": "code",
   "execution_count": null,
   "id": "f311a0c6-5b9b-4d3d-a687-6c86eef65d2e",
   "metadata": {},
   "outputs": [],
   "source": []
  },
  {
   "cell_type": "code",
   "execution_count": null,
   "id": "25851b0d-01b2-4dc1-b59f-dada6a2176d8",
   "metadata": {},
   "outputs": [],
   "source": []
  },
  {
   "cell_type": "markdown",
   "id": "d6a5ba9c-7590-40b4-96d5-c13bd9d7e83c",
   "metadata": {},
   "source": [
    "Requette depuis la base de données "
   ]
  },
  {
   "cell_type": "code",
   "execution_count": null,
   "id": "cf18409b-1d35-4a44-947a-7d64a7608e63",
   "metadata": {},
   "outputs": [],
   "source": [
    "aql = '''FOR doc, connection in INBOUND\n",
    "         FILTER doc.\"lemmas\" == \"durer\"'''"
   ]
  },
  {
   "cell_type": "code",
   "execution_count": 26,
   "id": "44f6aed1-3026-4a8f-a0a8-3ffd8c4b8458",
   "metadata": {},
   "outputs": [],
   "source": [
    "test_table_insertion = doc_1_vocab"
   ]
  },
  {
   "cell_type": "code",
   "execution_count": 27,
   "id": "62f05583-4bc0-4376-880c-bc2da30ffa7e",
   "metadata": {},
   "outputs": [],
   "source": [
    "test_table_insertion['index_token'] = list(range(0,test_table_insertion.shape[0]))"
   ]
  },
  {
   "cell_type": "code",
   "execution_count": 32,
   "id": "ba8f89af-038b-40cc-a8b8-9b2ae76140c0",
   "metadata": {},
   "outputs": [
    {
     "data": {
      "text/plain": [
       "\u001b[0;31mSignature:\u001b[0m \u001b[0mgraph\u001b[0m\u001b[0;34m.\u001b[0m\u001b[0mcreateVertex\u001b[0m\u001b[0;34m(\u001b[0m\u001b[0mcollectionName\u001b[0m\u001b[0;34m,\u001b[0m \u001b[0mdocAttributes\u001b[0m\u001b[0;34m,\u001b[0m \u001b[0mwaitForSync\u001b[0m\u001b[0;34m=\u001b[0m\u001b[0;32mFalse\u001b[0m\u001b[0;34m)\u001b[0m\u001b[0;34m\u001b[0m\u001b[0;34m\u001b[0m\u001b[0m\n",
       "\u001b[0;31mDocstring:\u001b[0m adds a vertex to the graph and returns it\n",
       "\u001b[0;31mFile:\u001b[0m      ~/anaconda3/lib/python3.8/site-packages/pyArango/graph.py\n",
       "\u001b[0;31mType:\u001b[0m      method\n"
      ]
     },
     "metadata": {},
     "output_type": "display_data"
    }
   ],
   "source": []
  },
  {
   "cell_type": "code",
   "execution_count": null,
   "id": "ac51832a-844c-47bf-a184-140f4889c9b5",
   "metadata": {},
   "outputs": [],
   "source": []
  }
 ],
 "metadata": {
  "kernelspec": {
   "display_name": "Python 3 (ipykernel)",
   "language": "python",
   "name": "python3"
  },
  "language_info": {
   "codemirror_mode": {
    "name": "ipython",
    "version": 3
   },
   "file_extension": ".py",
   "mimetype": "text/x-python",
   "name": "python",
   "nbconvert_exporter": "python",
   "pygments_lexer": "ipython3",
   "version": "3.8.8"
  }
 },
 "nbformat": 4,
 "nbformat_minor": 5
}
