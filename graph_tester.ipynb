{
 "cells": [
  {
   "cell_type": "code",
   "execution_count": 1,
   "id": "5ea91e7c-ad74-4787-a5ba-80bc6cb71103",
   "metadata": {},
   "outputs": [],
   "source": [
    "import pandas as pd\n",
    "from arango import ArangoClient\n",
    "\n",
    "from sklearn.feature_extraction.text import CountVectorizer\n",
    "from sklearn.preprocessing import minmax_scale\n",
    "import networkx as nx\n",
    "\n",
    "import plotly.graph_objects as go\n",
    "\n",
    "\n",
    "import plotly.io as pio\n",
    "from sklearn.feature_extraction.text import CountVectorizer\n",
    "from sklearn.preprocessing import minmax_scale\n",
    "import networkx as nx\n",
    "import plotly.graph_objects as go\n",
    "import plotly.io as pio\n",
    "\n",
    "import numpy as np\n",
    "from sklearn.preprocessing import minmax_scale\n",
    "client = ArangoClient(hosts=\"http://localhost:8529\")\n",
    "sys_db = client.db('_system', username='root',password='root')\n",
    "db = client.db(\"text\", username=\"root\", password=\"root\")"
   ]
  },
  {
   "cell_type": "markdown",
   "id": "9105c5f1-d263-4cd8-984d-67a73868107a",
   "metadata": {},
   "source": [
    "## Graphe de co-occurence\n"
   ]
  },
  {
   "cell_type": "code",
   "execution_count": 78,
   "id": "c1f17829-783d-4e0c-8c34-73f45f79414e",
   "metadata": {},
   "outputs": [],
   "source": [
    "pio.renderers.default='browser'"
   ]
  },
  {
   "cell_type": "code",
   "execution_count": null,
   "id": "d0c6136b-d31b-4b3a-9185-bdd9e7635e33",
   "metadata": {},
   "outputs": [],
   "source": [
    "lemmas_from_sentences = pd.DataFrame(list(db.aql.execute('''for start_vertex in sentences\n",
    "        for v, e in inbound start_vertex is_from\n",
    "        filter e.type == 'lemmaToSent'\n",
    "        collect sent = e._to, lemmas = v.lemma into groups ={\n",
    "        \"sentence\" : e._to,\n",
    "        \"lemma\" : v.lemma\n",
    "        }\n",
    "        return {\"sentence\":sent,\n",
    "                \"lemma\":lemmas}\n",
    "                '''))).groupby('sentence')['lemma'].apply(' '.join)\n",
    "\n",
    "vectorizer = CountVectorizer(min_df=10)\n",
    "\n",
    "termDocMatrix  = vectorizer.fit_transform(lemmas_from_sentences)\n",
    "\n",
    "coOccurenceMatrix = termDocMatrix.T.dot(termDocMatrix)\n",
    "# retire les liens d'un nodeà lui même dnas la matrice\n",
    "\n",
    "coOccurenceMatrix.setdiag(0)\n",
    "\n",
    "# construction du graphe\n",
    "G = nx.from_scipy_sparse_array(coOccurenceMatrix,\n",
    "                                parallel_edges=False)\n",
    "\n",
    "# retire les arretes qui connectent un noeud à lui même \n",
    "\n",
    "G.remove_edges_from(nx.selfloop_edges(G))\n",
    "\n",
    "\n",
    "\n",
    "# définition de la position des noeuds par spatialisation fruchterman reingold\n",
    "\n",
    "FRL = nx.drawing.layout.fruchterman_reingold_layout(G)\n",
    "\n",
    "# kamada kawai\n",
    "# KMK = nx.drawing.layout.kamada_kawai_layout(G)\n",
    "\n",
    "for i in range(0,len(FRL)):\n",
    "    G.nodes[i]['pos'] = FRL[i]\n",
    "    \n",
    "\n",
    "\n",
    "def make_edge(x, y, width,scaledWidth):\n",
    "    \"\"\"\n",
    "    Args:\n",
    "        x: a tuple of the x from and to, in the form: tuple([x0, x1, None])\n",
    "        y: a tuple of the y from and to, in the form: tuple([y0, y1, None])\n",
    "        width: The width of the line\n",
    "\n",
    "    Returns:\n",
    "        a Scatter plot which represents a line between the two points given. \n",
    "    \"\"\"\n",
    "    return  go.Scatter(\n",
    "                x=x,\n",
    "                y=y,\n",
    "                line=dict(width=width,color='#888'),\n",
    "                hoverinfo='none',\n",
    "                mode='lines',\n",
    "                opacity=scaledWidth)\n",
    "\n",
    "\n",
    "\n",
    "\n",
    "xTupleList = []\n",
    "yTupleList = []\n",
    "\n",
    "for ed in G.edges(): \n",
    "    xfrom = G.nodes()[ed[0]]['pos'][0]\n",
    "    yfrom = G.nodes()[ed[0]]['pos'][1]\n",
    "    \n",
    "    xto = G.nodes()[ed[1]]['pos'][0]\n",
    "    yto = G.nodes()[ed[1]]['pos'][1]\n",
    "    xTupleList.append((xfrom,xto,None))\n",
    "    yTupleList.append((yfrom,yto,None))\n",
    "\n",
    "widthList = np.array([G.edges[ed]['weight'] for ed in G.edges()])\n",
    "\n",
    "scaledWidthList = minmax_scale(widthList)\n",
    "\n",
    "\n",
    "\n",
    "edge_trace = [make_edge(x,y,w,sw) for x,y,w,sw in zip(xTupleList,yTupleList,widthList*0.5,scaledWidthList)]\n",
    "\n",
    "\n",
    "\n",
    "\n",
    "node_x = []\n",
    "node_y = []\n",
    "for node in G.nodes():\n",
    "    x, y = G.nodes[node]['pos']\n",
    "    node_x.append(x)\n",
    "    node_y.append(y)\n",
    "    \n",
    "    \n",
    "    \n",
    "\n",
    "node_trace = go.Scatter(\n",
    "    x=node_x, y=node_y,\n",
    "    mode='markers+text',\n",
    "    text='text',\n",
    "    textposition='top center',\n",
    "    marker=dict(\n",
    "        showscale=True,\n",
    "        # colorscale options\n",
    "        #'Greys' | 'YlGnBu' | 'Greens' | 'YlOrRd' | 'Bluered' | 'RdBu' |\n",
    "        #'Reds' | 'Blues' | 'Picnic' | 'Rainbow' | 'Portland' | 'Jet' |\n",
    "        #'Hot' | 'Blackbody' | 'Earth' | 'Electric' | 'Viridis' |\n",
    "        colorscale='YlGnBu',\n",
    "        reversescale=True,\n",
    "        color=[],\n",
    "        size=10,\n",
    "        colorbar=dict(\n",
    "            thickness=15,\n",
    "            title=\"Nombre d'occurences\",\n",
    "            xanchor='left',\n",
    "            titleside='right'\n",
    "        ),\n",
    "        line_width=2))\n",
    "\n",
    "\n",
    "\n",
    "\n",
    "node_trace.marker.color = list(vectorizer.vocabulary_.values())\n",
    "node_trace.text = list(vectorizer.vocabulary_.keys())\n",
    "\n",
    "\n",
    "layout = go.Layout(\n",
    "    paper_bgcolor='rgba(0,0,0,0)', # transparent background\n",
    "    plot_bgcolor='rgba(0,0,0,0)', # transparent 2nd background\n",
    "    xaxis =  {'showgrid': False, 'zeroline': False}, # no gridlines\n",
    "    yaxis = {'showgrid': False, 'zeroline': False}, # no gridlines\n",
    ")\n",
    "\n",
    "\n",
    "fig = go.Figure(layout = layout)\n",
    "\n",
    "# Add all edge traces\n",
    "for trace in edge_trace:\n",
    "    fig.add_trace(trace)# Add node trace\n",
    "fig.add_trace(node_trace)# Remove legend\n",
    "fig.update_layout(showlegend = False)"
   ]
  },
  {
   "cell_type": "markdown",
   "id": "46a84094-6450-43ee-9c43-2ca9cd309a86",
   "metadata": {},
   "source": [
    "## visualisation de relations syntagmatiques"
   ]
  },
  {
   "cell_type": "code",
   "execution_count": 2,
   "id": "3bf73f74-fc73-45fd-8ff6-bab18753cabc",
   "metadata": {},
   "outputs": [],
   "source": [
    "def get_syntagmatic_data(word):\n",
    "    data = pd.DataFrame(list(db.aql.execute(f'''\n",
    "    for token in tokens\n",
    "    filter token.token == '{word}'\n",
    "    let selected_token = token._id\n",
    "\n",
    "    for v, e in 1..1 \n",
    "    any selected_token\n",
    "    syntagmatic_link\n",
    "    filter e.dep_relation != 'ROOT'\n",
    "\n",
    "    return {{\"token\": v.token,\n",
    "            \"relation\" : e.dep_relation,\n",
    "            \"from_sentence\" : e.from_sentence_number,\n",
    "            \"head_pos_tag\" : e.head_pos_tag\n",
    "            }}\n",
    "\n",
    "\n",
    "                    ''')))    \n",
    "    \n",
    "    # à remplacer avec une requette donnant le titre du document\n",
    "    if data.shape == (0,0):\n",
    "        return \"Mot non trouvé\"\n",
    "    else :\n",
    "        data['doc'] = data['from_sentence'].str.extract('(doc\\d+)')\n",
    "        return data"
   ]
  },
  {
   "cell_type": "code",
   "execution_count": 3,
   "id": "94eb6175-5d1e-43e5-aa23-76a51025d3c7",
   "metadata": {},
   "outputs": [],
   "source": [
    "def make_edge(x, y, width,scaledWidth):\n",
    "    \"\"\"\n",
    "    Args:\n",
    "        x: a tuple of the x from and to, in the form: tuple([x0, x1, None])\n",
    "        y: a tuple of the y from and to, in the form: tuple([y0, y1, None])\n",
    "        width: The width of the line\n",
    "\n",
    "    Returns:\n",
    "        a Scatter plot which represents a line between the two points given. \n",
    "    \"\"\"\n",
    "    return  go.Scatter(\n",
    "                x=x,\n",
    "                y=y,\n",
    "                line=dict(width=width,color='#888'),\n",
    "                hoverinfo='none',\n",
    "                mode='lines',\n",
    "                opacity=scaledWidth)"
   ]
  },
  {
   "cell_type": "markdown",
   "id": "fa4aac26-d13b-4f8f-a15f-1addd0feafb2",
   "metadata": {},
   "source": [
    "# todo :\n",
    "- ajouter dans full edgelist des données pour : \n",
    "    - donner les informations sur combien de fois le mot est apparu en hover\n",
    "- extraire le titre du document pour l'insérer dans le graphe"
   ]
  },
  {
   "cell_type": "code",
   "execution_count": 4,
   "id": "7d760f0b-158f-4c32-ae37-550b916093a3",
   "metadata": {},
   "outputs": [],
   "source": [
    "def plot_word_of_interest(word_of_interest):\n",
    "    \n",
    "# récupération table de relations syntagmatiques depuis la db\n",
    "    syntagmatic_data = get_syntagmatic_data(word_of_interest)\n",
    "    \n",
    "    if type(syntagmatic_data) == str :\n",
    "        return syntagmatic_data\n",
    "    else:\n",
    "        \n",
    "        size_of_interest = 10\n",
    "\n",
    "        syntagmatic_data = syntagmatic_data.sort_values('from_sentence')\n",
    "    # ajout d'un 1 pour calculer les fréquences par aggrégation\n",
    "        syntagmatic_data['count'] = 1\n",
    "\n",
    "        # construction d'une edgelist pour créer le graphe\n",
    "        edgelist = syntagmatic_data.groupby(['token','doc']).aggregate('sum')\n",
    "        # l'index est multiple, on l'applatit\n",
    "        edgelist = pd.DataFrame(edgelist.to_records())\n",
    "\n",
    "        edgelist.rename(columns={\"token\":'from',\n",
    "                                      'doc':'to'}, inplace=True)\n",
    "        # on calcule la fréquence sur le lien racine / document\n",
    "        edgelist_token_doc = pd.DataFrame(edgelist.groupby('to').aggregate('sum').to_records())\n",
    "        edgelist_token_doc['from'] = word_of_interest\n",
    "\n",
    "        # concaténation des docs et mots en une edgelist\n",
    "        full_edgelist = pd.concat([edgelist, edgelist_token_doc])\n",
    "\n",
    "        # création du graphe et calcul de la spatialisation\n",
    "        G = nx.from_pandas_edgelist(full_edgelist,'from','to',edge_attr='count')\n",
    "        KKL = nx.drawing.layout.kamada_kawai_layout(G)\n",
    "\n",
    "        # insertion de la spatialisation pour la construction des arrêtes\n",
    "        x_from_to = []\n",
    "        y_from_to = []\n",
    "        for from_vertex, to_vertex in zip(full_edgelist['from'], full_edgelist['to']):\n",
    "            x_from_to.append((KKL[from_vertex][0], KKL[to_vertex][0]))\n",
    "            y_from_to.append((KKL[from_vertex][1], KKL[to_vertex][1]))\n",
    "\n",
    "        full_edgelist['from_and_to_x'] = x_from_to\n",
    "        full_edgelist['from_and_to_y'] = y_from_to\n",
    "        full_edgelist.reset_index(inplace=True,drop=True)\n",
    "\n",
    "        # construction d'une échelle allant de 0.1 à 1 pour la transparence et épaisseur des arrêtes\n",
    "        mask = full_edgelist['from'] == word_of_interest\n",
    "        indexes_root_word, indexes_doc_words = full_edgelist[mask].index, full_edgelist[~mask].index\n",
    "\n",
    "        full_edgelist.loc[indexes_root_word,'adjusted_count'] = minmax_scale(full_edgelist['count'][indexes_root_word]) +1\n",
    "        full_edgelist.loc[indexes_doc_words,'adjusted_count'] = minmax_scale(full_edgelist['count'][indexes_doc_words]) +1\n",
    "\n",
    "        # Sans le +0.1 le minmax donne 0 et donc pas de ligne. Si on ajout 0.1 on sort du range 0 - 1 autorisé par la valeur de transparence\n",
    "\n",
    "        full_edgelist['opacity'] = minmax_scale(full_edgelist['adjusted_count'])+0.1\n",
    "        full_edgelist['opacity'] = full_edgelist['opacity'].clip(upper=1)\n",
    "\n",
    "        # création de la disposition des arrêtes\n",
    "        edge_trace = [make_edge(x,y,w,sw) for x,y,w,sw in zip(full_edgelist['from_and_to_x'],\n",
    "                                                              full_edgelist['from_and_to_y'],\n",
    "                                                              full_edgelist['adjusted_count'],\n",
    "                                                              full_edgelist['opacity'])]\n",
    "\n",
    "        # Disposition des noeuds\n",
    "        df_KKL = pd.DataFrame(KKL).T\n",
    "        df_KKL.columns = ['x','y']\n",
    "\n",
    "        # coloration en fonction du mot racine, document et mot relié\n",
    "\n",
    "        df_KKL['color'] = 'rgb(255,102,102)'\n",
    "\n",
    "        df_KKL.loc[word_of_interest,'color'] = 'rgb(0,204,0)'\n",
    "\n",
    "\n",
    "        # A MODIFIER : besoin d'un filtre capable de repérer les documents finit par .txt ? \n",
    "        mask_doc = df_KKL.index.str.match('(doc)')\n",
    "\n",
    "\n",
    "\n",
    "\n",
    "        df_KKL.loc[df_KKL.index[mask_doc],'color'] = 'rgb(0,128,255)'\n",
    "        \n",
    "        ######\n",
    "        # faire un merge de ces infos sur df_KKL et ajouter le word of interest avec une tailel arbitraire\n",
    "        ######\n",
    "        doc_count = syntagmatic_data.groupby('doc').sum('count')\n",
    "        doc_count['count'] =( minmax_scale(doc_count['count']) +1) *5\n",
    "        token_count = syntagmatic_data.groupby('token').sum('count')\n",
    "        token_count['count'] = (minmax_scale(token_count['count']) +1) *5\n",
    "\n",
    "        df_count = pd.concat([doc_count,token_count,pd.DataFrame({'count':[size_of_interest]},index=[word_of_interest])])\n",
    "        \n",
    "        df_KKL = df_KKL.join(df_count)\n",
    "        node_trace = go.Scatter(\n",
    "        x=df_KKL['x'], y=df_KKL['y'],\n",
    "        mode='markers+text',\n",
    "        textposition='top center',\n",
    "        marker_color=df_KKL['color'],\n",
    "        marker_size=df_KKL['count'])\n",
    "        node_trace.text = df_KKL.index\n",
    "\n",
    "        fig = go.Figure()\n",
    "        for trace in edge_trace:\n",
    "            fig.add_trace(trace)# Add node trace\n",
    "        fig.add_trace(node_trace)\n",
    "        # Remove legend\n",
    "        fig.update_layout(showlegend = False)\n",
    "        return fig"
   ]
  },
  {
   "cell_type": "code",
   "execution_count": 62,
   "id": "977d61ca-271d-443e-bf89-a673756b95e4",
   "metadata": {},
   "outputs": [
    {
     "data": {
      "application/vnd.plotly.v1+json": {
       "config": {
        "plotlyServerURL": "https://plot.ly"
       },
       "data": [
        {
         "hoverinfo": "none",
         "line": {
          "color": "#888",
          "width": 1.4285714285714286
         },
         "mode": "lines",
         "opacity": 0.5285714285714286,
         "type": "scatter",
         "x": [
          0.24820559036920276,
          -0.1825421693482614
         ],
         "y": [
          -0.16014279006951537,
          -0.2213543555482491
         ]
        },
        {
         "hoverinfo": "none",
         "line": {
          "color": "#888",
          "width": 1
         },
         "mode": "lines",
         "opacity": 0.1,
         "type": "scatter",
         "x": [
          0.24820559036920276,
          0.3844575264128282
         ],
         "y": [
          -0.16014279006951537,
          0.2377842521750975
         ]
        },
        {
         "hoverinfo": "none",
         "line": {
          "color": "#888",
          "width": 1
         },
         "mode": "lines",
         "opacity": 0.1,
         "type": "scatter",
         "x": [
          0.6153311736654009,
          0.3844575264128282
         ],
         "y": [
          0.2670826859083052,
          0.2377842521750975
         ]
        },
        {
         "hoverinfo": "none",
         "line": {
          "color": "#888",
          "width": 1
         },
         "mode": "lines",
         "opacity": 0.1,
         "type": "scatter",
         "x": [
          0.6693498670075952,
          0.3844575264128282
         ],
         "y": [
          0.37786791865112945,
          0.2377842521750975
         ]
        },
        {
         "hoverinfo": "none",
         "line": {
          "color": "#888",
          "width": 1
         },
         "mode": "lines",
         "opacity": 0.1,
         "type": "scatter",
         "x": [
          0.7464245320326749,
          0.3844575264128282
         ],
         "y": [
          0.44414098772144767,
          0.2377842521750975
         ]
        },
        {
         "hoverinfo": "none",
         "line": {
          "color": "#888",
          "width": 1.4285714285714286
         },
         "mode": "lines",
         "opacity": 0.5285714285714286,
         "type": "scatter",
         "x": [
          -0.007163445598616272,
          -0.1825421693482614
         ],
         "y": [
          -0.5658798505455381,
          -0.2213543555482491
         ]
        },
        {
         "hoverinfo": "none",
         "line": {
          "color": "#888",
          "width": 1
         },
         "mode": "lines",
         "opacity": 0.1,
         "type": "scatter",
         "x": [
          0.07468545023938662,
          -0.1825421693482614
         ],
         "y": [
          -0.4881535108642083,
          -0.2213543555482491
         ]
        },
        {
         "hoverinfo": "none",
         "line": {
          "color": "#888",
          "width": 2
         },
         "mode": "lines",
         "opacity": 1,
         "type": "scatter",
         "x": [
          0.04213045964410138,
          -0.1825421693482614
         ],
         "y": [
          -0.37343289618899367,
          -0.2213543555482491
         ]
        },
        {
         "hoverinfo": "none",
         "line": {
          "color": "#888",
          "width": 1
         },
         "mode": "lines",
         "opacity": 0.1,
         "type": "scatter",
         "x": [
          0.5479014935382839,
          0.3844575264128282
         ],
         "y": [
          0.3992293502143522,
          0.2377842521750975
         ]
        },
        {
         "hoverinfo": "none",
         "line": {
          "color": "#888",
          "width": 1
         },
         "mode": "lines",
         "opacity": 0.1,
         "type": "scatter",
         "x": [
          0.5408820142693963,
          0.3844575264128282
         ],
         "y": [
          0.5222394349491583,
          0.2377842521750975
         ]
        },
        {
         "hoverinfo": "none",
         "line": {
          "color": "#888",
          "width": 1
         },
         "mode": "lines",
         "opacity": 0.1,
         "type": "scatter",
         "x": [
          -0.29767801005856953,
          -0.1825421693482614
         ],
         "y": [
          -0.3493797683744798,
          -0.2213543555482491
         ]
        },
        {
         "hoverinfo": "none",
         "line": {
          "color": "#888",
          "width": 1
         },
         "mode": "lines",
         "opacity": 0.1,
         "type": "scatter",
         "x": [
          -0.3628051493751814,
          -0.1825421693482614
         ],
         "y": [
          -0.05910731545940592,
          -0.2213543555482491
         ]
        },
        {
         "hoverinfo": "none",
         "line": {
          "color": "#888",
          "width": 1
         },
         "mode": "lines",
         "opacity": 0.1,
         "type": "scatter",
         "x": [
          -0.2748090945605674,
          -0.1825421693482614
         ],
         "y": [
          0.029067749882154888,
          -0.2213543555482491
         ]
        },
        {
         "hoverinfo": "none",
         "line": {
          "color": "#888",
          "width": 1
         },
         "mode": "lines",
         "opacity": 0.1,
         "type": "scatter",
         "x": [
          0.060673544687745135,
          -0.1825421693482614
         ],
         "y": [
          0.03011375520072895,
          -0.2213543555482491
         ]
        },
        {
         "hoverinfo": "none",
         "line": {
          "color": "#888",
          "width": 1
         },
         "mode": "lines",
         "opacity": 0.1,
         "type": "scatter",
         "x": [
          0.060673544687745135,
          0.3844575264128282
         ],
         "y": [
          0.03011375520072895,
          0.2377842521750975
         ]
        },
        {
         "hoverinfo": "none",
         "line": {
          "color": "#888",
          "width": 1
         },
         "mode": "lines",
         "opacity": 0.1,
         "type": "scatter",
         "x": [
          0.6818258562107969,
          0.3844575264128282
         ],
         "y": [
          0.5087269993246968,
          0.2377842521750975
         ]
        },
        {
         "hoverinfo": "none",
         "line": {
          "color": "#888",
          "width": 1
         },
         "mode": "lines",
         "opacity": 0.1,
         "type": "scatter",
         "x": [
          -0.24135176151253546,
          -0.1825421693482614
         ],
         "y": [
          -0.07805164435000872,
          -0.2213543555482491
         ]
        },
        {
         "hoverinfo": "none",
         "line": {
          "color": "#888",
          "width": 1.3636363636363635
         },
         "mode": "lines",
         "opacity": 0.4636363636363635,
         "type": "scatter",
         "x": [
          -0.06334074640419336,
          -0.1825421693482614
         ],
         "y": [
          0.23174440084382233,
          -0.2213543555482491
         ]
        },
        {
         "hoverinfo": "none",
         "line": {
          "color": "#888",
          "width": 1.083916083916084
         },
         "mode": "lines",
         "opacity": 0.18391608391608397,
         "type": "scatter",
         "x": [
          -0.06334074640419336,
          0.3844575264128282
         ],
         "y": [
          0.23174440084382233,
          0.2377842521750975
         ]
        },
        {
         "hoverinfo": "none",
         "line": {
          "color": "#888",
          "width": 1.1428571428571428
         },
         "mode": "lines",
         "opacity": 0.2428571428571428,
         "type": "scatter",
         "x": [
          -0.30262325967782,
          -0.1825421693482614
         ],
         "y": [
          0.11918830742779672,
          -0.2213543555482491
         ]
        },
        {
         "hoverinfo": "none",
         "line": {
          "color": "#888",
          "width": 1
         },
         "mode": "lines",
         "opacity": 0.1,
         "type": "scatter",
         "x": [
          -0.37291799260569214,
          -0.1825421693482614
         ],
         "y": [
          0.15168393625212767,
          -0.2213543555482491
         ]
        },
        {
         "hoverinfo": "none",
         "line": {
          "color": "#888",
          "width": 1
         },
         "mode": "lines",
         "opacity": 0.1,
         "type": "scatter",
         "x": [
          0.6293644644464421,
          0.3844575264128282
         ],
         "y": [
          0.5790359166616931,
          0.2377842521750975
         ]
        },
        {
         "hoverinfo": "none",
         "line": {
          "color": "#888",
          "width": 1
         },
         "mode": "lines",
         "opacity": 0.1,
         "type": "scatter",
         "x": [
          -0.3902975148139054,
          -0.1825421693482614
         ],
         "y": [
          0.05790491718772757,
          -0.2213543555482491
         ]
        },
        {
         "hoverinfo": "none",
         "line": {
          "color": "#888",
          "width": 1
         },
         "mode": "lines",
         "opacity": 0.1,
         "type": "scatter",
         "x": [
          0.5457309983733016,
          0.3844575264128282
         ],
         "y": [
          0.6313212198595333,
          0.2377842521750975
         ]
        },
        {
         "hoverinfo": "none",
         "line": {
          "color": "#888",
          "width": 1
         },
         "mode": "lines",
         "opacity": 0.1,
         "type": "scatter",
         "x": [
          0.4649794020951667,
          0.3844575264128282
         ],
         "y": [
          0.6690983854633485,
          0.2377842521750975
         ]
        },
        {
         "hoverinfo": "none",
         "line": {
          "color": "#888",
          "width": 1
         },
         "mode": "lines",
         "opacity": 0.1,
         "type": "scatter",
         "x": [
          -0.452125347814132,
          -0.1825421693482614
         ],
         "y": [
          0.13023643725363887,
          -0.2213543555482491
         ]
        },
        {
         "hoverinfo": "none",
         "line": {
          "color": "#888",
          "width": 1
         },
         "mode": "lines",
         "opacity": 0.1,
         "type": "scatter",
         "x": [
          -0.5160953447797142,
          -0.1825421693482614
         ],
         "y": [
          0.08912764101607334,
          -0.2213543555482491
         ]
        },
        {
         "hoverinfo": "none",
         "line": {
          "color": "#888",
          "width": 1
         },
         "mode": "lines",
         "opacity": 0.1,
         "type": "scatter",
         "x": [
          0.30583166750605134,
          0.3844575264128282
         ],
         "y": [
          0.5237273253142707,
          0.2377842521750975
         ]
        },
        {
         "hoverinfo": "none",
         "line": {
          "color": "#888",
          "width": 1
         },
         "mode": "lines",
         "opacity": 0.1,
         "type": "scatter",
         "x": [
          -0.6142469348188331,
          -0.1825421693482614
         ],
         "y": [
          -0.033136180341249905,
          -0.2213543555482491
         ]
        },
        {
         "hoverinfo": "none",
         "line": {
          "color": "#888",
          "width": 1.1428571428571428
         },
         "mode": "lines",
         "opacity": 0.2428571428571428,
         "type": "scatter",
         "x": [
          -0.48124213081950273,
          -0.1825421693482614
         ],
         "y": [
          -0.0076243520727463775,
          -0.2213543555482491
         ]
        },
        {
         "hoverinfo": "none",
         "line": {
          "color": "#888",
          "width": 1.5714285714285714
         },
         "mode": "lines",
         "opacity": 0.6714285714285714,
         "type": "scatter",
         "x": [
          0.02153894000020832,
          -0.1825421693482614
         ],
         "y": [
          0.0846581986273585,
          -0.2213543555482491
         ]
        },
        {
         "hoverinfo": "none",
         "line": {
          "color": "#888",
          "width": 1
         },
         "mode": "lines",
         "opacity": 0.1,
         "type": "scatter",
         "x": [
          0.02153894000020832,
          0.3844575264128282
         ],
         "y": [
          0.0846581986273585,
          0.2377842521750975
         ]
        },
        {
         "hoverinfo": "none",
         "line": {
          "color": "#888",
          "width": 1.2857142857142856
         },
         "mode": "lines",
         "opacity": 0.38571428571428557,
         "type": "scatter",
         "x": [
          -0.5519513963938137,
          -0.1825421693482614
         ],
         "y": [
          -0.09431126276997687,
          -0.2213543555482491
         ]
        },
        {
         "hoverinfo": "none",
         "line": {
          "color": "#888",
          "width": 1
         },
         "mode": "lines",
         "opacity": 0.1,
         "type": "scatter",
         "x": [
          -0.5602980964784597,
          -0.2527498221853702
         ],
         "y": [
          0.8637303072555791,
          0.6099724463624868
         ]
        },
        {
         "hoverinfo": "none",
         "line": {
          "color": "#888",
          "width": 1
         },
         "mode": "lines",
         "opacity": 0.1,
         "type": "scatter",
         "x": [
          -0.4549134397966499,
          -0.1825421693482614
         ],
         "y": [
          -0.15688478329206929,
          -0.2213543555482491
         ]
        },
        {
         "hoverinfo": "none",
         "line": {
          "color": "#888",
          "width": 1
         },
         "mode": "lines",
         "opacity": 0.1,
         "type": "scatter",
         "x": [
          -0.5709994419035919,
          -0.1825421693482614
         ],
         "y": [
          0.033651411610274864,
          -0.2213543555482491
         ]
        },
        {
         "hoverinfo": "none",
         "line": {
          "color": "#888",
          "width": 1
         },
         "mode": "lines",
         "opacity": 0.1,
         "type": "scatter",
         "x": [
          0.3978889978234421,
          0.3844575264128282
         ],
         "y": [
          0.5922569707277294,
          0.2377842521750975
         ]
        },
        {
         "hoverinfo": "none",
         "line": {
          "color": "#888",
          "width": 1.2857142857142856
         },
         "mode": "lines",
         "opacity": 0.38571428571428557,
         "type": "scatter",
         "x": [
          0.3683234372036203,
          0.3844575264128282
         ],
         "y": [
          0.691154630971436,
          0.2377842521750975
         ]
        },
        {
         "hoverinfo": "none",
         "line": {
          "color": "#888",
          "width": 1
         },
         "mode": "lines",
         "opacity": 0.1,
         "type": "scatter",
         "x": [
          -0.7635889546662646,
          -0.3692592903004912
         ],
         "y": [
          0.6944559475605094,
          0.53393843119711
         ]
        },
        {
         "hoverinfo": "none",
         "line": {
          "color": "#888",
          "width": 1
         },
         "mode": "lines",
         "opacity": 0.1,
         "type": "scatter",
         "x": [
          -0.3357602825594816,
          -0.1825421693482614
         ],
         "y": [
          -0.1953732013892261,
          -0.2213543555482491
         ]
        },
        {
         "hoverinfo": "none",
         "line": {
          "color": "#888",
          "width": 1
         },
         "mode": "lines",
         "opacity": 0.1,
         "type": "scatter",
         "x": [
          0.21670215730183795,
          0.3844575264128282
         ],
         "y": [
          0.5563334741253293,
          0.2377842521750975
         ]
        },
        {
         "hoverinfo": "none",
         "line": {
          "color": "#888",
          "width": 1
         },
         "mode": "lines",
         "opacity": 0.1,
         "type": "scatter",
         "x": [
          -0.6397930589178765,
          -0.1825421693482614
         ],
         "y": [
          -0.11788614304682242,
          -0.2213543555482491
         ]
        },
        {
         "hoverinfo": "none",
         "line": {
          "color": "#888",
          "width": 1
         },
         "mode": "lines",
         "opacity": 0.1,
         "type": "scatter",
         "x": [
          -0.3803504800440845,
          -0.1825421693482614
         ],
         "y": [
          -0.45121587319922907,
          -0.2213543555482491
         ]
        },
        {
         "hoverinfo": "none",
         "line": {
          "color": "#888",
          "width": 1
         },
         "mode": "lines",
         "opacity": 0.1,
         "type": "scatter",
         "x": [
          0.28782857680628005,
          0.3844575264128282
         ],
         "y": [
          0.6744309382892294,
          0.2377842521750975
         ]
        },
        {
         "hoverinfo": "none",
         "line": {
          "color": "#888",
          "width": 1
         },
         "mode": "lines",
         "opacity": 0.1,
         "type": "scatter",
         "x": [
          -0.25454985491535537,
          -0.2527498221853702
         ],
         "y": [
          1,
          0.6099724463624868
         ]
        },
        {
         "hoverinfo": "none",
         "line": {
          "color": "#888",
          "width": 1.1428571428571428
         },
         "mode": "lines",
         "opacity": 0.2428571428571428,
         "type": "scatter",
         "x": [
          -0.41399883591522285,
          -0.2527498221853702
         ],
         "y": [
          0.9483602342911942,
          0.6099724463624868
         ]
        },
        {
         "hoverinfo": "none",
         "line": {
          "color": "#888",
          "width": 1.1428571428571428
         },
         "mode": "lines",
         "opacity": 0.2428571428571428,
         "type": "scatter",
         "x": [
          0.09083315142629488,
          -0.1825421693482614
         ],
         "y": [
          0.08930741214988189,
          -0.2213543555482491
         ]
        },
        {
         "hoverinfo": "none",
         "line": {
          "color": "#888",
          "width": 1.1428571428571428
         },
         "mode": "lines",
         "opacity": 0.2428571428571428,
         "type": "scatter",
         "x": [
          0.09083315142629488,
          0.3844575264128282
         ],
         "y": [
          0.08930741214988189,
          0.2377842521750975
         ]
        },
        {
         "hoverinfo": "none",
         "line": {
          "color": "#888",
          "width": 1
         },
         "mode": "lines",
         "opacity": 0.1,
         "type": "scatter",
         "x": [
          0.0010995129997960395,
          -0.1825421693482614
         ],
         "y": [
          0.1438596104188264,
          -0.2213543555482491
         ]
        },
        {
         "hoverinfo": "none",
         "line": {
          "color": "#888",
          "width": 1
         },
         "mode": "lines",
         "opacity": 0.1,
         "type": "scatter",
         "x": [
          0.0010995129997960395,
          0.3844575264128282
         ],
         "y": [
          0.1438596104188264,
          0.2377842521750975
         ]
        },
        {
         "hoverinfo": "none",
         "line": {
          "color": "#888",
          "width": 1
         },
         "mode": "lines",
         "opacity": 0.1,
         "type": "scatter",
         "x": [
          0.047416134870289645,
          -0.1825421693482614
         ],
         "y": [
          0.13436969341556745,
          -0.2213543555482491
         ]
        },
        {
         "hoverinfo": "none",
         "line": {
          "color": "#888",
          "width": 1
         },
         "mode": "lines",
         "opacity": 0.1,
         "type": "scatter",
         "x": [
          0.047416134870289645,
          0.3844575264128282
         ],
         "y": [
          0.13436969341556745,
          0.2377842521750975
         ]
        },
        {
         "hoverinfo": "none",
         "line": {
          "color": "#888",
          "width": 1
         },
         "mode": "lines",
         "opacity": 0.1,
         "type": "scatter",
         "x": [
          -0.6477238192291768,
          -0.1825421693482614
         ],
         "y": [
          -0.19735669151682306,
          -0.2213543555482491
         ]
        },
        {
         "hoverinfo": "none",
         "line": {
          "color": "#888",
          "width": 1
         },
         "mode": "lines",
         "opacity": 0.1,
         "type": "scatter",
         "x": [
          -0.6400981220531496,
          -0.1825421693482614
         ],
         "y": [
          -0.28008259637247457,
          -0.2213543555482491
         ]
        },
        {
         "hoverinfo": "none",
         "line": {
          "color": "#888",
          "width": 1
         },
         "mode": "lines",
         "opacity": 0.1,
         "type": "scatter",
         "x": [
          -0.42251994767602613,
          -0.1825421693482614
         ],
         "y": [
          -0.30226878175791877,
          -0.2213543555482491
         ]
        },
        {
         "hoverinfo": "none",
         "line": {
          "color": "#888",
          "width": 1
         },
         "mode": "lines",
         "opacity": 0.1,
         "type": "scatter",
         "x": [
          0.21150228596653967,
          0.3844575264128282
         ],
         "y": [
          0.6640979512508204,
          0.2377842521750975
         ]
        },
        {
         "hoverinfo": "none",
         "line": {
          "color": "#888",
          "width": 1
         },
         "mode": "lines",
         "opacity": 0.1,
         "type": "scatter",
         "x": [
          -0.5835942838250868,
          -0.1825421693482614
         ],
         "y": [
          -0.4362322984228616,
          -0.2213543555482491
         ]
        },
        {
         "hoverinfo": "none",
         "line": {
          "color": "#888",
          "width": 1
         },
         "mode": "lines",
         "opacity": 0.1,
         "type": "scatter",
         "x": [
          -0.5566388930868257,
          -0.1825421693482614
         ],
         "y": [
          -0.21808324775177,
          -0.2213543555482491
         ]
        },
        {
         "hoverinfo": "none",
         "line": {
          "color": "#888",
          "width": 1
         },
         "mode": "lines",
         "opacity": 0.1,
         "type": "scatter",
         "x": [
          0.15379453894758893,
          0.3844575264128282
         ],
         "y": [
          0.6073355486588315,
          0.2377842521750975
         ]
        },
        {
         "hoverinfo": "none",
         "line": {
          "color": "#888",
          "width": 1
         },
         "mode": "lines",
         "opacity": 0.1,
         "type": "scatter",
         "x": [
          -0.6207834242515669,
          -0.1825421693482614
         ],
         "y": [
          -0.3613349148989293,
          -0.2213543555482491
         ]
        },
        {
         "hoverinfo": "none",
         "line": {
          "color": "#888",
          "width": 1.1428571428571428
         },
         "mode": "lines",
         "opacity": 0.2428571428571428,
         "type": "scatter",
         "x": [
          -0.5353473496937947,
          -0.1825421693482614
         ],
         "y": [
          -0.5088435273768922,
          -0.2213543555482491
         ]
        },
        {
         "hoverinfo": "none",
         "line": {
          "color": "#888",
          "width": 1
         },
         "mode": "lines",
         "opacity": 0.1,
         "type": "scatter",
         "x": [
          -0.5369071072160417,
          -0.1825421693482614
         ],
         "y": [
          -0.3283168991556108,
          -0.2213543555482491
         ]
        },
        {
         "hoverinfo": "none",
         "line": {
          "color": "#888",
          "width": 1
         },
         "mode": "lines",
         "opacity": 0.1,
         "type": "scatter",
         "x": [
          0.423991161736592,
          0.3844575264128282
         ],
         "y": [
          0.47197881731524266,
          0.2377842521750975
         ]
        },
        {
         "hoverinfo": "none",
         "line": {
          "color": "#888",
          "width": 1
         },
         "mode": "lines",
         "opacity": 0.1,
         "type": "scatter",
         "x": [
          0.1021905706505638,
          -0.1825421693482614
         ],
         "y": [
          -0.022800809858185455,
          -0.2213543555482491
         ]
        },
        {
         "hoverinfo": "none",
         "line": {
          "color": "#888",
          "width": 1
         },
         "mode": "lines",
         "opacity": 0.1,
         "type": "scatter",
         "x": [
          0.1021905706505638,
          0.3844575264128282
         ],
         "y": [
          -0.022800809858185455,
          0.2377842521750975
         ]
        },
        {
         "hoverinfo": "none",
         "line": {
          "color": "#888",
          "width": 1
         },
         "mode": "lines",
         "opacity": 0.1,
         "type": "scatter",
         "x": [
          0.6329445170651721,
          0.3844575264128282
         ],
         "y": [
          0.12745705875862448,
          0.2377842521750975
         ]
        },
        {
         "hoverinfo": "none",
         "line": {
          "color": "#888",
          "width": 1.1428571428571428
         },
         "mode": "lines",
         "opacity": 0.2428571428571428,
         "type": "scatter",
         "x": [
          -0.4736711429895218,
          -0.1825421693482614
         ],
         "y": [
          -0.5545645643344974,
          -0.2213543555482491
         ]
        },
        {
         "hoverinfo": "none",
         "line": {
          "color": "#888",
          "width": 1.2857142857142856
         },
         "mode": "lines",
         "opacity": 0.38571428571428557,
         "type": "scatter",
         "x": [
          0.1466763147216639,
          -0.1825421693482614
         ],
         "y": [
          -0.07339961735747612,
          -0.2213543555482491
         ]
        },
        {
         "hoverinfo": "none",
         "line": {
          "color": "#888",
          "width": 1.2857142857142856
         },
         "mode": "lines",
         "opacity": 0.38571428571428557,
         "type": "scatter",
         "x": [
          0.1466763147216639,
          0.3844575264128282
         ],
         "y": [
          -0.07339961735747612,
          0.2377842521750975
         ]
        },
        {
         "hoverinfo": "none",
         "line": {
          "color": "#888",
          "width": 1.2857142857142856
         },
         "mode": "lines",
         "opacity": 0.38571428571428557,
         "type": "scatter",
         "x": [
          0.6786373528420225,
          0.3844575264128282
         ],
         "y": [
          -0.1191994637078803,
          0.2377842521750975
         ]
        },
        {
         "hoverinfo": "none",
         "line": {
          "color": "#888",
          "width": 1
         },
         "mode": "lines",
         "opacity": 0.1,
         "type": "scatter",
         "x": [
          -0.48497445271264733,
          -0.1825421693482614
         ],
         "y": [
          -0.4324184098883793,
          -0.2213543555482491
         ]
        },
        {
         "hoverinfo": "none",
         "line": {
          "color": "#888",
          "width": 1
         },
         "mode": "lines",
         "opacity": 0.1,
         "type": "scatter",
         "x": [
          -0.4204321042764985,
          -0.1825421693482614
         ],
         "y": [
          -0.6075064440669095,
          -0.2213543555482491
         ]
        },
        {
         "hoverinfo": "none",
         "line": {
          "color": "#888",
          "width": 1
         },
         "mode": "lines",
         "opacity": 0.1,
         "type": "scatter",
         "x": [
          -0.6285602037626051,
          -0.3692592903004912
         ],
         "y": [
          0.8203158530573461,
          0.53393843119711
         ]
        },
        {
         "hoverinfo": "none",
         "line": {
          "color": "#888",
          "width": 1
         },
         "mode": "lines",
         "opacity": 0.1,
         "type": "scatter",
         "x": [
          0.7409773146802785,
          0.3844575264128282
         ],
         "y": [
          -0.08137868232972553,
          0.2377842521750975
         ]
        },
        {
         "hoverinfo": "none",
         "line": {
          "color": "#888",
          "width": 1
         },
         "mode": "lines",
         "opacity": 0.1,
         "type": "scatter",
         "x": [
          0.24341039869825923,
          -0.1825421693482614
         ],
         "y": [
          -0.11590366752010002,
          -0.2213543555482491
         ]
        },
        {
         "hoverinfo": "none",
         "line": {
          "color": "#888",
          "width": 1.2857142857142856
         },
         "mode": "lines",
         "opacity": 0.38571428571428557,
         "type": "scatter",
         "x": [
          0.24341039869825923,
          0.3844575264128282
         ],
         "y": [
          -0.11590366752010002,
          0.2377842521750975
         ]
        },
        {
         "hoverinfo": "none",
         "line": {
          "color": "#888",
          "width": 1
         },
         "mode": "lines",
         "opacity": 0.1,
         "type": "scatter",
         "x": [
          0.6512588666824447,
          0.3844575264128282
         ],
         "y": [
          -0.0314510306638568,
          0.2377842521750975
         ]
        },
        {
         "hoverinfo": "none",
         "line": {
          "color": "#888",
          "width": 1
         },
         "mode": "lines",
         "opacity": 0.1,
         "type": "scatter",
         "x": [
          0.7029089257634152,
          0.3844575264128282
         ],
         "y": [
          0.05399125910693061,
          0.2377842521750975
         ]
        },
        {
         "hoverinfo": "none",
         "line": {
          "color": "#888",
          "width": 1
         },
         "mode": "lines",
         "opacity": 0.1,
         "type": "scatter",
         "x": [
          -0.3418401135853882,
          -0.1825421693482614
         ],
         "y": [
          -0.646554351269273,
          -0.2213543555482491
         ]
        },
        {
         "hoverinfo": "none",
         "line": {
          "color": "#888",
          "width": 1
         },
         "mode": "lines",
         "opacity": 0.1,
         "type": "scatter",
         "x": [
          -0.23594681188858643,
          -0.1825421693482614
         ],
         "y": [
          -0.4793641018417276,
          -0.2213543555482491
         ]
        },
        {
         "hoverinfo": "none",
         "line": {
          "color": "#888",
          "width": 1
         },
         "mode": "lines",
         "opacity": 0.1,
         "type": "scatter",
         "x": [
          -0.2635169864314886,
          -0.1825421693482614
         ],
         "y": [
          -0.6730560226664948,
          -0.2213543555482491
         ]
        },
        {
         "hoverinfo": "none",
         "line": {
          "color": "#888",
          "width": 1
         },
         "mode": "lines",
         "opacity": 0.1,
         "type": "scatter",
         "x": [
          -0.34426701706618645,
          -0.1825421693482614
         ],
         "y": [
          -0.5543791736507911,
          -0.2213543555482491
         ]
        },
        {
         "hoverinfo": "none",
         "line": {
          "color": "#888",
          "width": 1
         },
         "mode": "lines",
         "opacity": 0.1,
         "type": "scatter",
         "x": [
          -0.17657219117029602,
          -0.1825421693482614
         ],
         "y": [
          -0.6810707306147451,
          -0.2213543555482491
         ]
        },
        {
         "hoverinfo": "none",
         "line": {
          "color": "#888",
          "width": 1
         },
         "mode": "lines",
         "opacity": 0.1,
         "type": "scatter",
         "x": [
          -0.101589834542453,
          -0.1825421693482614
         ],
         "y": [
          -0.6730932145093644,
          -0.2213543555482491
         ]
        },
        {
         "hoverinfo": "none",
         "line": {
          "color": "#888",
          "width": 1
         },
         "mode": "lines",
         "opacity": 0.1,
         "type": "scatter",
         "x": [
          -0.1549523370369841,
          -0.1825421693482614
         ],
         "y": [
          -0.3881909509157823,
          -0.2213543555482491
         ]
        },
        {
         "hoverinfo": "none",
         "line": {
          "color": "#888",
          "width": 1
         },
         "mode": "lines",
         "opacity": 0.1,
         "type": "scatter",
         "x": [
          0.7841843390204094,
          0.3844575264128282
         ],
         "y": [
          -0.008276409703249816,
          0.2377842521750975
         ]
        },
        {
         "hoverinfo": "none",
         "line": {
          "color": "#888",
          "width": 1
         },
         "mode": "lines",
         "opacity": 0.1,
         "type": "scatter",
         "x": [
          -0.11924343138581309,
          -0.1825421693482614
         ],
         "y": [
          -0.564296946333039,
          -0.2213543555482491
         ]
        },
        {
         "hoverinfo": "none",
         "line": {
          "color": "#888",
          "width": 1
         },
         "mode": "lines",
         "opacity": 0.1,
         "type": "scatter",
         "x": [
          -0.02804885453351814,
          -0.1825421693482614
         ],
         "y": [
          -0.6613184015522341,
          -0.2213543555482491
         ]
        },
        {
         "hoverinfo": "none",
         "line": {
          "color": "#888",
          "width": 1
         },
         "mode": "lines",
         "opacity": 0.1,
         "type": "scatter",
         "x": [
          0.05025269956207523,
          -0.1825421693482614
         ],
         "y": [
          -0.6315404701384018,
          -0.2213543555482491
         ]
        },
        {
         "hoverinfo": "none",
         "line": {
          "color": "#888",
          "width": 1
         },
         "mode": "lines",
         "opacity": 0.1,
         "type": "scatter",
         "x": [
          -0.22527814894009865,
          -0.1825421693482614
         ],
         "y": [
          -0.5951948892542217,
          -0.2213543555482491
         ]
        },
        {
         "hoverinfo": "none",
         "line": {
          "color": "#888",
          "width": 1.1428571428571428
         },
         "mode": "lines",
         "opacity": 0.2428571428571428,
         "type": "scatter",
         "x": [
          0.807215615889963,
          0.3844575264128282
         ],
         "y": [
          0.08122863051613734,
          0.2377842521750975
         ]
        },
        {
         "hoverinfo": "none",
         "line": {
          "color": "#888",
          "width": 1
         },
         "mode": "lines",
         "opacity": 0.1,
         "type": "scatter",
         "x": [
          0.11088838786600279,
          -0.1825421693482614
         ],
         "y": [
          -0.5834319021210935,
          -0.2213543555482491
         ]
        },
        {
         "hoverinfo": "none",
         "line": {
          "color": "#888",
          "width": 1
         },
         "mode": "lines",
         "opacity": 0.1,
         "type": "scatter",
         "x": [
          0.8178004835538613,
          0.3844575264128282
         ],
         "y": [
          0.16779481367640944,
          0.2377842521750975
         ]
        },
        {
         "hoverinfo": "none",
         "line": {
          "color": "#888",
          "width": 1
         },
         "mode": "lines",
         "opacity": 0.1,
         "type": "scatter",
         "x": [
          0.1729320625861009,
          -0.1825421693482614
         ],
         "y": [
          -0.009423244454005723,
          -0.2213543555482491
         ]
        },
        {
         "hoverinfo": "none",
         "line": {
          "color": "#888",
          "width": 1
         },
         "mode": "lines",
         "opacity": 0.1,
         "type": "scatter",
         "x": [
          0.1729320625861009,
          0.3844575264128282
         ],
         "y": [
          -0.009423244454005723,
          0.2377842521750975
         ]
        },
        {
         "hoverinfo": "none",
         "line": {
          "color": "#888",
          "width": 1
         },
         "mode": "lines",
         "opacity": 0.1,
         "type": "scatter",
         "x": [
          0.2109034067919328,
          -0.1825421693482614
         ],
         "y": [
          -0.061299756703025864,
          -0.2213543555482491
         ]
        },
        {
         "hoverinfo": "none",
         "line": {
          "color": "#888",
          "width": 1
         },
         "mode": "lines",
         "opacity": 0.1,
         "type": "scatter",
         "x": [
          0.2109034067919328,
          0.3844575264128282
         ],
         "y": [
          -0.061299756703025864,
          0.2377842521750975
         ]
        },
        {
         "hoverinfo": "none",
         "line": {
          "color": "#888",
          "width": 1
         },
         "mode": "lines",
         "opacity": 0.1,
         "type": "scatter",
         "x": [
          0.8097865058837318,
          0.3844575264128282
         ],
         "y": [
          0.2676399809709385,
          0.2377842521750975
         ]
        },
        {
         "hoverinfo": "none",
         "line": {
          "color": "#888",
          "width": 1
         },
         "mode": "lines",
         "opacity": 0.1,
         "type": "scatter",
         "x": [
          0.19301848647954983,
          -0.1825421693482614
         ],
         "y": [
          -0.12283259392300988,
          -0.2213543555482491
         ]
        },
        {
         "hoverinfo": "none",
         "line": {
          "color": "#888",
          "width": 1
         },
         "mode": "lines",
         "opacity": 0.1,
         "type": "scatter",
         "x": [
          0.19301848647954983,
          0.3844575264128282
         ],
         "y": [
          -0.12283259392300988,
          0.2377842521750975
         ]
        },
        {
         "hoverinfo": "none",
         "line": {
          "color": "#888",
          "width": 1
         },
         "mode": "lines",
         "opacity": 0.1,
         "type": "scatter",
         "x": [
          -0.050173728495910695,
          -0.1825421693482614
         ],
         "y": [
          -0.45445111137675565,
          -0.2213543555482491
         ]
        },
        {
         "hoverinfo": "none",
         "line": {
          "color": "#888",
          "width": 1.4285714285714286
         },
         "mode": "lines",
         "opacity": 0.5285714285714286,
         "type": "scatter",
         "x": [
          0.13259525884946746,
          -0.1825421693482614
         ],
         "y": [
          0.04094608159283761,
          -0.2213543555482491
         ]
        },
        {
         "hoverinfo": "none",
         "line": {
          "color": "#888",
          "width": 1
         },
         "mode": "lines",
         "opacity": 0.1,
         "type": "scatter",
         "x": [
          0.13259525884946746,
          0.3844575264128282
         ],
         "y": [
          0.04094608159283761,
          0.2377842521750975
         ]
        },
        {
         "hoverinfo": "none",
         "line": {
          "color": "#888",
          "width": 1
         },
         "mode": "lines",
         "opacity": 0.1,
         "type": "scatter",
         "x": [
          0.7232311050447605,
          0.3844575264128282
         ],
         "y": [
          0.21209212087631357,
          0.2377842521750975
         ]
        },
        {
         "hoverinfo": "none",
         "line": {
          "color": "#888",
          "width": 1
         },
         "mode": "lines",
         "opacity": 0.1,
         "type": "scatter",
         "x": [
          0.7808374568388683,
          0.3844575264128282
         ],
         "y": [
          0.3514483614562425,
          0.2377842521750975
         ]
        },
        {
         "hoverinfo": "none",
         "line": {
          "color": "#888",
          "width": 1
         },
         "mode": "lines",
         "opacity": 0.1,
         "type": "scatter",
         "x": [
          -0.05273018598749306,
          -0.1825421693482614
         ],
         "y": [
          -0.3141555293480635,
          -0.2213543555482491
         ]
        },
        {
         "hoverinfo": "none",
         "line": {
          "color": "#888",
          "width": 1
         },
         "mode": "lines",
         "opacity": 0.1,
         "type": "scatter",
         "x": [
          0.16148431272202407,
          -0.1825421693482614
         ],
         "y": [
          -0.5280260846827217,
          -0.2213543555482491
         ]
        },
        {
         "hoverinfo": "none",
         "line": {
          "color": "#888",
          "width": 1
         },
         "mode": "lines",
         "opacity": 0.1,
         "type": "scatter",
         "x": [
          0.1846997592750068,
          -0.1825421693482614
         ],
         "y": [
          -0.45879620942954175,
          -0.2213543555482491
         ]
        },
        {
         "hoverinfo": "none",
         "line": {
          "color": "#888",
          "width": 1.1428571428571428
         },
         "mode": "lines",
         "opacity": 0.2428571428571428,
         "type": "scatter",
         "x": [
          0.13533527105290705,
          -0.1825421693482614
         ],
         "y": [
          -0.4043001365667371,
          -0.2213543555482491
         ]
        },
        {
         "hoverinfo": "none",
         "line": {
          "color": "#888",
          "width": 2
         },
         "mode": "lines",
         "opacity": 1,
         "type": "scatter",
         "x": [
          -0.06334074640419336,
          -0.1825421693482614
         ],
         "y": [
          0.23174440084382233,
          -0.2213543555482491
         ]
        },
        {
         "hoverinfo": "none",
         "line": {
          "color": "#888",
          "width": 1.4405594405594404
         },
         "mode": "lines",
         "opacity": 0.5405594405594404,
         "type": "scatter",
         "x": [
          -0.06334074640419336,
          0.3844575264128282
         ],
         "y": [
          0.23174440084382233,
          0.2377842521750975
         ]
        },
        {
         "hoverinfo": "none",
         "line": {
          "color": "#888",
          "width": 1.013986013986014
         },
         "mode": "lines",
         "opacity": 0.11398601398601396,
         "type": "scatter",
         "x": [
          -0.06334074640419336,
          -0.2527498221853702
         ],
         "y": [
          0.23174440084382233,
          0.6099724463624868
         ]
        },
        {
         "hoverinfo": "none",
         "line": {
          "color": "#888",
          "width": 1
         },
         "mode": "lines",
         "opacity": 0.1,
         "type": "scatter",
         "x": [
          -0.06334074640419336,
          -0.3692592903004912
         ],
         "y": [
          0.23174440084382233,
          0.53393843119711
         ]
        },
        {
         "marker": {
          "color": [
           "rgb(255,102,102)",
           "rgb(255,102,102)",
           "rgb(255,102,102)",
           "rgb(255,102,102)",
           "rgb(255,102,102)",
           "rgb(255,102,102)",
           "rgb(255,102,102)",
           "rgb(255,102,102)",
           "rgb(255,102,102)",
           "rgb(255,102,102)",
           "rgb(255,102,102)",
           "rgb(255,102,102)",
           "rgb(255,102,102)",
           "rgb(255,102,102)",
           "rgb(255,102,102)",
           "rgb(0,204,0)",
           "rgb(0,204,0)",
           "rgb(255,102,102)",
           "rgb(255,102,102)",
           "rgb(255,102,102)",
           "rgb(255,102,102)",
           "rgb(255,102,102)",
           "rgb(255,102,102)",
           "rgb(255,102,102)",
           "rgb(255,102,102)",
           "rgb(255,102,102)",
           "rgb(255,102,102)",
           "rgb(255,102,102)",
           "rgb(255,102,102)",
           "rgb(255,102,102)",
           "rgb(0,128,255)",
           "rgb(0,128,255)",
           "rgb(0,128,255)",
           "rgb(0,128,255)",
           "rgb(255,102,102)",
           "rgb(255,102,102)",
           "rgb(255,102,102)",
           "rgb(255,102,102)",
           "rgb(255,102,102)",
           "rgb(255,102,102)",
           "rgb(255,102,102)",
           "rgb(255,102,102)",
           "rgb(255,102,102)",
           "rgb(255,102,102)",
           "rgb(255,102,102)",
           "rgb(255,102,102)",
           "rgb(255,102,102)",
           "rgb(255,102,102)",
           "rgb(255,102,102)",
           "rgb(255,102,102)",
           "rgb(255,102,102)",
           "rgb(255,102,102)",
           "rgb(255,102,102)",
           "rgb(255,102,102)",
           "rgb(255,102,102)",
           "rgb(255,102,102)",
           "rgb(255,102,102)",
           "rgb(255,102,102)",
           "rgb(255,102,102)",
           "rgb(255,102,102)",
           "rgb(255,102,102)",
           "rgb(255,102,102)",
           "rgb(255,102,102)",
           "rgb(255,102,102)",
           "rgb(255,102,102)",
           "rgb(255,102,102)",
           "rgb(255,102,102)",
           "rgb(255,102,102)",
           "rgb(255,102,102)",
           "rgb(255,102,102)",
           "rgb(255,102,102)",
           "rgb(255,102,102)",
           "rgb(255,102,102)",
           "rgb(255,102,102)",
           "rgb(255,102,102)",
           "rgb(255,102,102)",
           "rgb(255,102,102)",
           "rgb(255,102,102)",
           "rgb(255,102,102)",
           "rgb(255,102,102)",
           "rgb(255,102,102)",
           "rgb(255,102,102)",
           "rgb(255,102,102)",
           "rgb(255,102,102)",
           "rgb(255,102,102)",
           "rgb(255,102,102)",
           "rgb(255,102,102)",
           "rgb(255,102,102)",
           "rgb(255,102,102)",
           "rgb(255,102,102)",
           "rgb(255,102,102)",
           "rgb(255,102,102)",
           "rgb(255,102,102)",
           "rgb(255,102,102)",
           "rgb(255,102,102)",
           "rgb(255,102,102)",
           "rgb(255,102,102)",
           "rgb(255,102,102)",
           "rgb(255,102,102)",
           "rgb(255,102,102)"
          ],
          "size": [
           5.298507462686567,
           5,
           5,
           5,
           5.223880597014925,
           5,
           5.522388059701493,
           5,
           5,
           5,
           5,
           5,
           5.074626865671642,
           5,
           5,
           10,
           10,
           5.074626865671642,
           5,
           5,
           5,
           5,
           5,
           5,
           5,
           5,
           5,
           5.074626865671642,
           5.3731343283582085,
           5.1492537313432845,
           10,
           7.202797202797202,
           5.06993006993007,
           5,
           5,
           5,
           5,
           5,
           5.1492537313432845,
           5,
           5,
           5,
           5,
           5,
           5,
           5,
           5.074626865671642,
           5.223880597014925,
           5.074626865671642,
           5.074626865671642,
           5,
           5,
           5,
           5,
           5,
           5,
           5,
           5,
           5.074626865671642,
           5,
           5,
           5.074626865671642,
           5,
           5.074626865671642,
           5.3731343283582085,
           5.1492537313432845,
           5,
           5,
           5,
           5,
           5.223880597014925,
           5,
           5,
           5,
           5,
           5,
           5,
           5,
           5,
           5,
           5,
           5,
           5,
           5,
           5,
           5.074626865671642,
           5,
           5,
           5.074626865671642,
           5.074626865671642,
           5,
           5.074626865671642,
           5,
           5.298507462686567,
           5,
           5,
           5,
           5,
           5,
           5.074626865671642
          ]
         },
         "mode": "markers+text",
         "text": [
          "8)",
          "aborde",
          "activation",
          "agit",
          "agriculture",
          "aménagement",
          "apparaître",
          "bleu",
          "bleue",
          "budget",
          "campagne",
          "caractéristiques",
          "caractérisée",
          "centre",
          "cible",
          "classe",
          "classe",
          "classes",
          "collectivités",
          "coloriées",
          "commentant",
          "compte",
          "concernée",
          "conflit",
          "conférences",
          "considérée",
          "dendrogramme",
          "dimensions",
          "discours",
          "distingue",
          "doc1",
          "doc2",
          "doc3",
          "doc4",
          "dominante",
          "droite",
          "délinquance",
          "etc.",
          "filiation",
          "gine",
          "gouvernement",
          "grande",
          "haut",
          "histoire",
          "importante",
          "individus",
          "inscrits",
          "justice",
          "lexique",
          "logement",
          "marquée",
          "modalités",
          "médias",
          "nomme",
          "parlement",
          "parti",
          "petite",
          "phénomène",
          "polaire",
          "politique",
          "politiques",
          "porte",
          "proposons",
          "pré-",
          "présente",
          "question",
          "questions",
          "raineté",
          "rapports",
          "regroupant",
          "regroupe",
          "regroupées",
          "retraite",
          "retrouve",
          "résultats",
          "santé",
          "seconde",
          "segment",
          "segments",
          "sente",
          "sentes",
          "service",
          "services",
          "souligne",
          "souveraineté",
          "surreprésentation",
          "symbolisé",
          "thèmes",
          "thématique",
          "traitant",
          "traite",
          "traitement",
          "transition",
          "trouvons",
          "utiliserons",
          "vocabulaire",
          "économie",
          "éducation",
          "éliminée",
          "énergies"
         ],
         "textposition": "top center",
         "type": "scatter",
         "x": [
          0.24820559036920276,
          0.6153311736654009,
          0.6693498670075952,
          0.7464245320326749,
          -0.007163445598616272,
          0.07468545023938662,
          0.04213045964410138,
          0.5479014935382839,
          0.5408820142693963,
          -0.29767801005856953,
          -0.3628051493751814,
          -0.2748090945605674,
          0.060673544687745135,
          0.6818258562107969,
          -0.24135176151253546,
          -0.06334074640419336,
          -0.06334074640419336,
          -0.30262325967782,
          -0.37291799260569214,
          0.6293644644464421,
          -0.3902975148139054,
          0.5457309983733016,
          0.4649794020951667,
          -0.452125347814132,
          -0.5160953447797142,
          0.30583166750605134,
          -0.6142469348188331,
          -0.48124213081950273,
          0.02153894000020832,
          -0.5519513963938137,
          -0.1825421693482614,
          0.3844575264128282,
          -0.2527498221853702,
          -0.3692592903004912,
          -0.5602980964784597,
          -0.4549134397966499,
          -0.5709994419035919,
          0.3978889978234421,
          0.3683234372036203,
          -0.7635889546662646,
          -0.3357602825594816,
          0.21670215730183795,
          -0.6397930589178765,
          -0.3803504800440845,
          0.28782857680628005,
          -0.25454985491535537,
          -0.41399883591522285,
          0.09083315142629488,
          0.0010995129997960395,
          0.047416134870289645,
          -0.6477238192291768,
          -0.6400981220531496,
          -0.42251994767602613,
          0.21150228596653967,
          -0.5835942838250868,
          -0.5566388930868257,
          0.15379453894758893,
          -0.6207834242515669,
          -0.5353473496937947,
          -0.5369071072160417,
          0.423991161736592,
          0.1021905706505638,
          0.6329445170651721,
          -0.4736711429895218,
          0.1466763147216639,
          0.6786373528420225,
          -0.48497445271264733,
          -0.4204321042764985,
          -0.6285602037626051,
          0.7409773146802785,
          0.24341039869825923,
          0.6512588666824447,
          0.7029089257634152,
          -0.3418401135853882,
          -0.23594681188858643,
          -0.2635169864314886,
          -0.34426701706618645,
          -0.17657219117029602,
          -0.101589834542453,
          -0.1549523370369841,
          0.7841843390204094,
          -0.11924343138581309,
          -0.02804885453351814,
          0.05025269956207523,
          -0.22527814894009865,
          0.807215615889963,
          0.11088838786600279,
          0.8178004835538613,
          0.1729320625861009,
          0.2109034067919328,
          0.8097865058837318,
          0.19301848647954983,
          -0.050173728495910695,
          0.13259525884946746,
          0.7232311050447605,
          0.7808374568388683,
          -0.05273018598749306,
          0.16148431272202407,
          0.1846997592750068,
          0.13533527105290705
         ],
         "y": [
          -0.16014279006951537,
          0.2670826859083052,
          0.37786791865112945,
          0.44414098772144767,
          -0.5658798505455381,
          -0.4881535108642083,
          -0.37343289618899367,
          0.3992293502143522,
          0.5222394349491583,
          -0.3493797683744798,
          -0.05910731545940592,
          0.029067749882154888,
          0.03011375520072895,
          0.5087269993246968,
          -0.07805164435000872,
          0.23174440084382233,
          0.23174440084382233,
          0.11918830742779672,
          0.15168393625212767,
          0.5790359166616931,
          0.05790491718772757,
          0.6313212198595333,
          0.6690983854633485,
          0.13023643725363887,
          0.08912764101607334,
          0.5237273253142707,
          -0.033136180341249905,
          -0.0076243520727463775,
          0.0846581986273585,
          -0.09431126276997687,
          -0.2213543555482491,
          0.2377842521750975,
          0.6099724463624868,
          0.53393843119711,
          0.8637303072555791,
          -0.15688478329206929,
          0.033651411610274864,
          0.5922569707277294,
          0.691154630971436,
          0.6944559475605094,
          -0.1953732013892261,
          0.5563334741253293,
          -0.11788614304682242,
          -0.45121587319922907,
          0.6744309382892294,
          1,
          0.9483602342911942,
          0.08930741214988189,
          0.1438596104188264,
          0.13436969341556745,
          -0.19735669151682306,
          -0.28008259637247457,
          -0.30226878175791877,
          0.6640979512508204,
          -0.4362322984228616,
          -0.21808324775177,
          0.6073355486588315,
          -0.3613349148989293,
          -0.5088435273768922,
          -0.3283168991556108,
          0.47197881731524266,
          -0.022800809858185455,
          0.12745705875862448,
          -0.5545645643344974,
          -0.07339961735747612,
          -0.1191994637078803,
          -0.4324184098883793,
          -0.6075064440669095,
          0.8203158530573461,
          -0.08137868232972553,
          -0.11590366752010002,
          -0.0314510306638568,
          0.05399125910693061,
          -0.646554351269273,
          -0.4793641018417276,
          -0.6730560226664948,
          -0.5543791736507911,
          -0.6810707306147451,
          -0.6730932145093644,
          -0.3881909509157823,
          -0.008276409703249816,
          -0.564296946333039,
          -0.6613184015522341,
          -0.6315404701384018,
          -0.5951948892542217,
          0.08122863051613734,
          -0.5834319021210935,
          0.16779481367640944,
          -0.009423244454005723,
          -0.061299756703025864,
          0.2676399809709385,
          -0.12283259392300988,
          -0.45445111137675565,
          0.04094608159283761,
          0.21209212087631357,
          0.3514483614562425,
          -0.3141555293480635,
          -0.5280260846827217,
          -0.45879620942954175,
          -0.4043001365667371
         ]
        }
       ],
       "layout": {
        "autosize": true,
        "showlegend": false,
        "template": {
         "data": {
          "bar": [
           {
            "error_x": {
             "color": "#2a3f5f"
            },
            "error_y": {
             "color": "#2a3f5f"
            },
            "marker": {
             "line": {
              "color": "#E5ECF6",
              "width": 0.5
             },
             "pattern": {
              "fillmode": "overlay",
              "size": 10,
              "solidity": 0.2
             }
            },
            "type": "bar"
           }
          ],
          "barpolar": [
           {
            "marker": {
             "line": {
              "color": "#E5ECF6",
              "width": 0.5
             },
             "pattern": {
              "fillmode": "overlay",
              "size": 10,
              "solidity": 0.2
             }
            },
            "type": "barpolar"
           }
          ],
          "carpet": [
           {
            "aaxis": {
             "endlinecolor": "#2a3f5f",
             "gridcolor": "white",
             "linecolor": "white",
             "minorgridcolor": "white",
             "startlinecolor": "#2a3f5f"
            },
            "baxis": {
             "endlinecolor": "#2a3f5f",
             "gridcolor": "white",
             "linecolor": "white",
             "minorgridcolor": "white",
             "startlinecolor": "#2a3f5f"
            },
            "type": "carpet"
           }
          ],
          "choropleth": [
           {
            "colorbar": {
             "outlinewidth": 0,
             "ticks": ""
            },
            "type": "choropleth"
           }
          ],
          "contour": [
           {
            "colorbar": {
             "outlinewidth": 0,
             "ticks": ""
            },
            "colorscale": [
             [
              0,
              "#0d0887"
             ],
             [
              0.1111111111111111,
              "#46039f"
             ],
             [
              0.2222222222222222,
              "#7201a8"
             ],
             [
              0.3333333333333333,
              "#9c179e"
             ],
             [
              0.4444444444444444,
              "#bd3786"
             ],
             [
              0.5555555555555556,
              "#d8576b"
             ],
             [
              0.6666666666666666,
              "#ed7953"
             ],
             [
              0.7777777777777778,
              "#fb9f3a"
             ],
             [
              0.8888888888888888,
              "#fdca26"
             ],
             [
              1,
              "#f0f921"
             ]
            ],
            "type": "contour"
           }
          ],
          "contourcarpet": [
           {
            "colorbar": {
             "outlinewidth": 0,
             "ticks": ""
            },
            "type": "contourcarpet"
           }
          ],
          "heatmap": [
           {
            "colorbar": {
             "outlinewidth": 0,
             "ticks": ""
            },
            "colorscale": [
             [
              0,
              "#0d0887"
             ],
             [
              0.1111111111111111,
              "#46039f"
             ],
             [
              0.2222222222222222,
              "#7201a8"
             ],
             [
              0.3333333333333333,
              "#9c179e"
             ],
             [
              0.4444444444444444,
              "#bd3786"
             ],
             [
              0.5555555555555556,
              "#d8576b"
             ],
             [
              0.6666666666666666,
              "#ed7953"
             ],
             [
              0.7777777777777778,
              "#fb9f3a"
             ],
             [
              0.8888888888888888,
              "#fdca26"
             ],
             [
              1,
              "#f0f921"
             ]
            ],
            "type": "heatmap"
           }
          ],
          "heatmapgl": [
           {
            "colorbar": {
             "outlinewidth": 0,
             "ticks": ""
            },
            "colorscale": [
             [
              0,
              "#0d0887"
             ],
             [
              0.1111111111111111,
              "#46039f"
             ],
             [
              0.2222222222222222,
              "#7201a8"
             ],
             [
              0.3333333333333333,
              "#9c179e"
             ],
             [
              0.4444444444444444,
              "#bd3786"
             ],
             [
              0.5555555555555556,
              "#d8576b"
             ],
             [
              0.6666666666666666,
              "#ed7953"
             ],
             [
              0.7777777777777778,
              "#fb9f3a"
             ],
             [
              0.8888888888888888,
              "#fdca26"
             ],
             [
              1,
              "#f0f921"
             ]
            ],
            "type": "heatmapgl"
           }
          ],
          "histogram": [
           {
            "marker": {
             "pattern": {
              "fillmode": "overlay",
              "size": 10,
              "solidity": 0.2
             }
            },
            "type": "histogram"
           }
          ],
          "histogram2d": [
           {
            "colorbar": {
             "outlinewidth": 0,
             "ticks": ""
            },
            "colorscale": [
             [
              0,
              "#0d0887"
             ],
             [
              0.1111111111111111,
              "#46039f"
             ],
             [
              0.2222222222222222,
              "#7201a8"
             ],
             [
              0.3333333333333333,
              "#9c179e"
             ],
             [
              0.4444444444444444,
              "#bd3786"
             ],
             [
              0.5555555555555556,
              "#d8576b"
             ],
             [
              0.6666666666666666,
              "#ed7953"
             ],
             [
              0.7777777777777778,
              "#fb9f3a"
             ],
             [
              0.8888888888888888,
              "#fdca26"
             ],
             [
              1,
              "#f0f921"
             ]
            ],
            "type": "histogram2d"
           }
          ],
          "histogram2dcontour": [
           {
            "colorbar": {
             "outlinewidth": 0,
             "ticks": ""
            },
            "colorscale": [
             [
              0,
              "#0d0887"
             ],
             [
              0.1111111111111111,
              "#46039f"
             ],
             [
              0.2222222222222222,
              "#7201a8"
             ],
             [
              0.3333333333333333,
              "#9c179e"
             ],
             [
              0.4444444444444444,
              "#bd3786"
             ],
             [
              0.5555555555555556,
              "#d8576b"
             ],
             [
              0.6666666666666666,
              "#ed7953"
             ],
             [
              0.7777777777777778,
              "#fb9f3a"
             ],
             [
              0.8888888888888888,
              "#fdca26"
             ],
             [
              1,
              "#f0f921"
             ]
            ],
            "type": "histogram2dcontour"
           }
          ],
          "mesh3d": [
           {
            "colorbar": {
             "outlinewidth": 0,
             "ticks": ""
            },
            "type": "mesh3d"
           }
          ],
          "parcoords": [
           {
            "line": {
             "colorbar": {
              "outlinewidth": 0,
              "ticks": ""
             }
            },
            "type": "parcoords"
           }
          ],
          "pie": [
           {
            "automargin": true,
            "type": "pie"
           }
          ],
          "scatter": [
           {
            "fillpattern": {
             "fillmode": "overlay",
             "size": 10,
             "solidity": 0.2
            },
            "type": "scatter"
           }
          ],
          "scatter3d": [
           {
            "line": {
             "colorbar": {
              "outlinewidth": 0,
              "ticks": ""
             }
            },
            "marker": {
             "colorbar": {
              "outlinewidth": 0,
              "ticks": ""
             }
            },
            "type": "scatter3d"
           }
          ],
          "scattercarpet": [
           {
            "marker": {
             "colorbar": {
              "outlinewidth": 0,
              "ticks": ""
             }
            },
            "type": "scattercarpet"
           }
          ],
          "scattergeo": [
           {
            "marker": {
             "colorbar": {
              "outlinewidth": 0,
              "ticks": ""
             }
            },
            "type": "scattergeo"
           }
          ],
          "scattergl": [
           {
            "marker": {
             "colorbar": {
              "outlinewidth": 0,
              "ticks": ""
             }
            },
            "type": "scattergl"
           }
          ],
          "scattermapbox": [
           {
            "marker": {
             "colorbar": {
              "outlinewidth": 0,
              "ticks": ""
             }
            },
            "type": "scattermapbox"
           }
          ],
          "scatterpolar": [
           {
            "marker": {
             "colorbar": {
              "outlinewidth": 0,
              "ticks": ""
             }
            },
            "type": "scatterpolar"
           }
          ],
          "scatterpolargl": [
           {
            "marker": {
             "colorbar": {
              "outlinewidth": 0,
              "ticks": ""
             }
            },
            "type": "scatterpolargl"
           }
          ],
          "scatterternary": [
           {
            "marker": {
             "colorbar": {
              "outlinewidth": 0,
              "ticks": ""
             }
            },
            "type": "scatterternary"
           }
          ],
          "surface": [
           {
            "colorbar": {
             "outlinewidth": 0,
             "ticks": ""
            },
            "colorscale": [
             [
              0,
              "#0d0887"
             ],
             [
              0.1111111111111111,
              "#46039f"
             ],
             [
              0.2222222222222222,
              "#7201a8"
             ],
             [
              0.3333333333333333,
              "#9c179e"
             ],
             [
              0.4444444444444444,
              "#bd3786"
             ],
             [
              0.5555555555555556,
              "#d8576b"
             ],
             [
              0.6666666666666666,
              "#ed7953"
             ],
             [
              0.7777777777777778,
              "#fb9f3a"
             ],
             [
              0.8888888888888888,
              "#fdca26"
             ],
             [
              1,
              "#f0f921"
             ]
            ],
            "type": "surface"
           }
          ],
          "table": [
           {
            "cells": {
             "fill": {
              "color": "#EBF0F8"
             },
             "line": {
              "color": "white"
             }
            },
            "header": {
             "fill": {
              "color": "#C8D4E3"
             },
             "line": {
              "color": "white"
             }
            },
            "type": "table"
           }
          ]
         },
         "layout": {
          "annotationdefaults": {
           "arrowcolor": "#2a3f5f",
           "arrowhead": 0,
           "arrowwidth": 1
          },
          "autotypenumbers": "strict",
          "coloraxis": {
           "colorbar": {
            "outlinewidth": 0,
            "ticks": ""
           }
          },
          "colorscale": {
           "diverging": [
            [
             0,
             "#8e0152"
            ],
            [
             0.1,
             "#c51b7d"
            ],
            [
             0.2,
             "#de77ae"
            ],
            [
             0.3,
             "#f1b6da"
            ],
            [
             0.4,
             "#fde0ef"
            ],
            [
             0.5,
             "#f7f7f7"
            ],
            [
             0.6,
             "#e6f5d0"
            ],
            [
             0.7,
             "#b8e186"
            ],
            [
             0.8,
             "#7fbc41"
            ],
            [
             0.9,
             "#4d9221"
            ],
            [
             1,
             "#276419"
            ]
           ],
           "sequential": [
            [
             0,
             "#0d0887"
            ],
            [
             0.1111111111111111,
             "#46039f"
            ],
            [
             0.2222222222222222,
             "#7201a8"
            ],
            [
             0.3333333333333333,
             "#9c179e"
            ],
            [
             0.4444444444444444,
             "#bd3786"
            ],
            [
             0.5555555555555556,
             "#d8576b"
            ],
            [
             0.6666666666666666,
             "#ed7953"
            ],
            [
             0.7777777777777778,
             "#fb9f3a"
            ],
            [
             0.8888888888888888,
             "#fdca26"
            ],
            [
             1,
             "#f0f921"
            ]
           ],
           "sequentialminus": [
            [
             0,
             "#0d0887"
            ],
            [
             0.1111111111111111,
             "#46039f"
            ],
            [
             0.2222222222222222,
             "#7201a8"
            ],
            [
             0.3333333333333333,
             "#9c179e"
            ],
            [
             0.4444444444444444,
             "#bd3786"
            ],
            [
             0.5555555555555556,
             "#d8576b"
            ],
            [
             0.6666666666666666,
             "#ed7953"
            ],
            [
             0.7777777777777778,
             "#fb9f3a"
            ],
            [
             0.8888888888888888,
             "#fdca26"
            ],
            [
             1,
             "#f0f921"
            ]
           ]
          },
          "colorway": [
           "#636efa",
           "#EF553B",
           "#00cc96",
           "#ab63fa",
           "#FFA15A",
           "#19d3f3",
           "#FF6692",
           "#B6E880",
           "#FF97FF",
           "#FECB52"
          ],
          "font": {
           "color": "#2a3f5f"
          },
          "geo": {
           "bgcolor": "white",
           "lakecolor": "white",
           "landcolor": "#E5ECF6",
           "showlakes": true,
           "showland": true,
           "subunitcolor": "white"
          },
          "hoverlabel": {
           "align": "left"
          },
          "hovermode": "closest",
          "mapbox": {
           "style": "light"
          },
          "paper_bgcolor": "white",
          "plot_bgcolor": "#E5ECF6",
          "polar": {
           "angularaxis": {
            "gridcolor": "white",
            "linecolor": "white",
            "ticks": ""
           },
           "bgcolor": "#E5ECF6",
           "radialaxis": {
            "gridcolor": "white",
            "linecolor": "white",
            "ticks": ""
           }
          },
          "scene": {
           "xaxis": {
            "backgroundcolor": "#E5ECF6",
            "gridcolor": "white",
            "gridwidth": 2,
            "linecolor": "white",
            "showbackground": true,
            "ticks": "",
            "zerolinecolor": "white"
           },
           "yaxis": {
            "backgroundcolor": "#E5ECF6",
            "gridcolor": "white",
            "gridwidth": 2,
            "linecolor": "white",
            "showbackground": true,
            "ticks": "",
            "zerolinecolor": "white"
           },
           "zaxis": {
            "backgroundcolor": "#E5ECF6",
            "gridcolor": "white",
            "gridwidth": 2,
            "linecolor": "white",
            "showbackground": true,
            "ticks": "",
            "zerolinecolor": "white"
           }
          },
          "shapedefaults": {
           "line": {
            "color": "#2a3f5f"
           }
          },
          "ternary": {
           "aaxis": {
            "gridcolor": "white",
            "linecolor": "white",
            "ticks": ""
           },
           "baxis": {
            "gridcolor": "white",
            "linecolor": "white",
            "ticks": ""
           },
           "bgcolor": "#E5ECF6",
           "caxis": {
            "gridcolor": "white",
            "linecolor": "white",
            "ticks": ""
           }
          },
          "title": {
           "x": 0.05
          },
          "xaxis": {
           "automargin": true,
           "gridcolor": "white",
           "linecolor": "white",
           "ticks": "",
           "title": {
            "standoff": 15
           },
           "zerolinecolor": "white",
           "zerolinewidth": 2
          },
          "yaxis": {
           "automargin": true,
           "gridcolor": "white",
           "linecolor": "white",
           "ticks": "",
           "title": {
            "standoff": 15
           },
           "zerolinecolor": "white",
           "zerolinewidth": 2
          }
         }
        },
        "xaxis": {
         "autorange": true,
         "range": [
          -0.861925808632134,
          0.9161373375197306
         ],
         "type": "linear"
        },
        "yaxis": {
         "autorange": true,
         "range": [
          -0.8119406029017677,
          1.1308698722870227
         ],
         "type": "linear"
        }
       }
      },
      "image/png": "[encoded data removed]",
      "text/html": [
       "<div>                            <div id=\"0d5546c4-7a49-44a9-8c46-c90856762da6\" class=\"plotly-graph-div\" style=\"height:525px; width:100%;\"></div>            <script type=\"text/javascript\">                require([\"plotly\"], function(Plotly) {                    window.PLOTLYENV=window.PLOTLYENV || {};                                    if (document.getElementById(\"0d5546c4-7a49-44a9-8c46-c90856762da6\")) {                    Plotly.newPlot(                        \"0d5546c4-7a49-44a9-8c46-c90856762da6\",                        [{\"hoverinfo\":\"none\",\"line\":{\"color\":\"#888\",\"width\":1.4285714285714286},\"mode\":\"lines\",\"opacity\":0.5285714285714286,\"x\":[0.24820559036920276,-0.1825421693482614],\"y\":[-0.16014279006951537,-0.2213543555482491],\"type\":\"scatter\"},{\"hoverinfo\":\"none\",\"line\":{\"color\":\"#888\",\"width\":1.0},\"mode\":\"lines\",\"opacity\":0.1,\"x\":[0.24820559036920276,0.3844575264128282],\"y\":[-0.16014279006951537,0.2377842521750975],\"type\":\"scatter\"},{\"hoverinfo\":\"none\",\"line\":{\"color\":\"#888\",\"width\":1.0},\"mode\":\"lines\",\"opacity\":0.1,\"x\":[0.6153311736654009,0.3844575264128282],\"y\":[0.2670826859083052,0.2377842521750975],\"type\":\"scatter\"},{\"hoverinfo\":\"none\",\"line\":{\"color\":\"#888\",\"width\":1.0},\"mode\":\"lines\",\"opacity\":0.1,\"x\":[0.6693498670075952,0.3844575264128282],\"y\":[0.37786791865112945,0.2377842521750975],\"type\":\"scatter\"},{\"hoverinfo\":\"none\",\"line\":{\"color\":\"#888\",\"width\":1.0},\"mode\":\"lines\",\"opacity\":0.1,\"x\":[0.7464245320326749,0.3844575264128282],\"y\":[0.44414098772144767,0.2377842521750975],\"type\":\"scatter\"},{\"hoverinfo\":\"none\",\"line\":{\"color\":\"#888\",\"width\":1.4285714285714286},\"mode\":\"lines\",\"opacity\":0.5285714285714286,\"x\":[-0.007163445598616272,-0.1825421693482614],\"y\":[-0.5658798505455381,-0.2213543555482491],\"type\":\"scatter\"},{\"hoverinfo\":\"none\",\"line\":{\"color\":\"#888\",\"width\":1.0},\"mode\":\"lines\",\"opacity\":0.1,\"x\":[0.07468545023938662,-0.1825421693482614],\"y\":[-0.4881535108642083,-0.2213543555482491],\"type\":\"scatter\"},{\"hoverinfo\":\"none\",\"line\":{\"color\":\"#888\",\"width\":2.0},\"mode\":\"lines\",\"opacity\":1.0,\"x\":[0.04213045964410138,-0.1825421693482614],\"y\":[-0.37343289618899367,-0.2213543555482491],\"type\":\"scatter\"},{\"hoverinfo\":\"none\",\"line\":{\"color\":\"#888\",\"width\":1.0},\"mode\":\"lines\",\"opacity\":0.1,\"x\":[0.5479014935382839,0.3844575264128282],\"y\":[0.3992293502143522,0.2377842521750975],\"type\":\"scatter\"},{\"hoverinfo\":\"none\",\"line\":{\"color\":\"#888\",\"width\":1.0},\"mode\":\"lines\",\"opacity\":0.1,\"x\":[0.5408820142693963,0.3844575264128282],\"y\":[0.5222394349491583,0.2377842521750975],\"type\":\"scatter\"},{\"hoverinfo\":\"none\",\"line\":{\"color\":\"#888\",\"width\":1.0},\"mode\":\"lines\",\"opacity\":0.1,\"x\":[-0.29767801005856953,-0.1825421693482614],\"y\":[-0.3493797683744798,-0.2213543555482491],\"type\":\"scatter\"},{\"hoverinfo\":\"none\",\"line\":{\"color\":\"#888\",\"width\":1.0},\"mode\":\"lines\",\"opacity\":0.1,\"x\":[-0.3628051493751814,-0.1825421693482614],\"y\":[-0.05910731545940592,-0.2213543555482491],\"type\":\"scatter\"},{\"hoverinfo\":\"none\",\"line\":{\"color\":\"#888\",\"width\":1.0},\"mode\":\"lines\",\"opacity\":0.1,\"x\":[-0.2748090945605674,-0.1825421693482614],\"y\":[0.029067749882154888,-0.2213543555482491],\"type\":\"scatter\"},{\"hoverinfo\":\"none\",\"line\":{\"color\":\"#888\",\"width\":1.0},\"mode\":\"lines\",\"opacity\":0.1,\"x\":[0.060673544687745135,-0.1825421693482614],\"y\":[0.03011375520072895,-0.2213543555482491],\"type\":\"scatter\"},{\"hoverinfo\":\"none\",\"line\":{\"color\":\"#888\",\"width\":1.0},\"mode\":\"lines\",\"opacity\":0.1,\"x\":[0.060673544687745135,0.3844575264128282],\"y\":[0.03011375520072895,0.2377842521750975],\"type\":\"scatter\"},{\"hoverinfo\":\"none\",\"line\":{\"color\":\"#888\",\"width\":1.0},\"mode\":\"lines\",\"opacity\":0.1,\"x\":[0.6818258562107969,0.3844575264128282],\"y\":[0.5087269993246968,0.2377842521750975],\"type\":\"scatter\"},{\"hoverinfo\":\"none\",\"line\":{\"color\":\"#888\",\"width\":1.0},\"mode\":\"lines\",\"opacity\":0.1,\"x\":[-0.24135176151253546,-0.1825421693482614],\"y\":[-0.07805164435000872,-0.2213543555482491],\"type\":\"scatter\"},{\"hoverinfo\":\"none\",\"line\":{\"color\":\"#888\",\"width\":1.3636363636363635},\"mode\":\"lines\",\"opacity\":0.4636363636363635,\"x\":[-0.06334074640419336,-0.1825421693482614],\"y\":[0.23174440084382233,-0.2213543555482491],\"type\":\"scatter\"},{\"hoverinfo\":\"none\",\"line\":{\"color\":\"#888\",\"width\":1.083916083916084},\"mode\":\"lines\",\"opacity\":0.18391608391608397,\"x\":[-0.06334074640419336,0.3844575264128282],\"y\":[0.23174440084382233,0.2377842521750975],\"type\":\"scatter\"},{\"hoverinfo\":\"none\",\"line\":{\"color\":\"#888\",\"width\":1.1428571428571428},\"mode\":\"lines\",\"opacity\":0.2428571428571428,\"x\":[-0.30262325967782,-0.1825421693482614],\"y\":[0.11918830742779672,-0.2213543555482491],\"type\":\"scatter\"},{\"hoverinfo\":\"none\",\"line\":{\"color\":\"#888\",\"width\":1.0},\"mode\":\"lines\",\"opacity\":0.1,\"x\":[-0.37291799260569214,-0.1825421693482614],\"y\":[0.15168393625212767,-0.2213543555482491],\"type\":\"scatter\"},{\"hoverinfo\":\"none\",\"line\":{\"color\":\"#888\",\"width\":1.0},\"mode\":\"lines\",\"opacity\":0.1,\"x\":[0.6293644644464421,0.3844575264128282],\"y\":[0.5790359166616931,0.2377842521750975],\"type\":\"scatter\"},{\"hoverinfo\":\"none\",\"line\":{\"color\":\"#888\",\"width\":1.0},\"mode\":\"lines\",\"opacity\":0.1,\"x\":[-0.3902975148139054,-0.1825421693482614],\"y\":[0.05790491718772757,-0.2213543555482491],\"type\":\"scatter\"},{\"hoverinfo\":\"none\",\"line\":{\"color\":\"#888\",\"width\":1.0},\"mode\":\"lines\",\"opacity\":0.1,\"x\":[0.5457309983733016,0.3844575264128282],\"y\":[0.6313212198595333,0.2377842521750975],\"type\":\"scatter\"},{\"hoverinfo\":\"none\",\"line\":{\"color\":\"#888\",\"width\":1.0},\"mode\":\"lines\",\"opacity\":0.1,\"x\":[0.4649794020951667,0.3844575264128282],\"y\":[0.6690983854633485,0.2377842521750975],\"type\":\"scatter\"},{\"hoverinfo\":\"none\",\"line\":{\"color\":\"#888\",\"width\":1.0},\"mode\":\"lines\",\"opacity\":0.1,\"x\":[-0.452125347814132,-0.1825421693482614],\"y\":[0.13023643725363887,-0.2213543555482491],\"type\":\"scatter\"},{\"hoverinfo\":\"none\",\"line\":{\"color\":\"#888\",\"width\":1.0},\"mode\":\"lines\",\"opacity\":0.1,\"x\":[-0.5160953447797142,-0.1825421693482614],\"y\":[0.08912764101607334,-0.2213543555482491],\"type\":\"scatter\"},{\"hoverinfo\":\"none\",\"line\":{\"color\":\"#888\",\"width\":1.0},\"mode\":\"lines\",\"opacity\":0.1,\"x\":[0.30583166750605134,0.3844575264128282],\"y\":[0.5237273253142707,0.2377842521750975],\"type\":\"scatter\"},{\"hoverinfo\":\"none\",\"line\":{\"color\":\"#888\",\"width\":1.0},\"mode\":\"lines\",\"opacity\":0.1,\"x\":[-0.6142469348188331,-0.1825421693482614],\"y\":[-0.033136180341249905,-0.2213543555482491],\"type\":\"scatter\"},{\"hoverinfo\":\"none\",\"line\":{\"color\":\"#888\",\"width\":1.1428571428571428},\"mode\":\"lines\",\"opacity\":0.2428571428571428,\"x\":[-0.48124213081950273,-0.1825421693482614],\"y\":[-0.0076243520727463775,-0.2213543555482491],\"type\":\"scatter\"},{\"hoverinfo\":\"none\",\"line\":{\"color\":\"#888\",\"width\":1.5714285714285714},\"mode\":\"lines\",\"opacity\":0.6714285714285714,\"x\":[0.02153894000020832,-0.1825421693482614],\"y\":[0.0846581986273585,-0.2213543555482491],\"type\":\"scatter\"},{\"hoverinfo\":\"none\",\"line\":{\"color\":\"#888\",\"width\":1.0},\"mode\":\"lines\",\"opacity\":0.1,\"x\":[0.02153894000020832,0.3844575264128282],\"y\":[0.0846581986273585,0.2377842521750975],\"type\":\"scatter\"},{\"hoverinfo\":\"none\",\"line\":{\"color\":\"#888\",\"width\":1.2857142857142856},\"mode\":\"lines\",\"opacity\":0.38571428571428557,\"x\":[-0.5519513963938137,-0.1825421693482614],\"y\":[-0.09431126276997687,-0.2213543555482491],\"type\":\"scatter\"},{\"hoverinfo\":\"none\",\"line\":{\"color\":\"#888\",\"width\":1.0},\"mode\":\"lines\",\"opacity\":0.1,\"x\":[-0.5602980964784597,-0.2527498221853702],\"y\":[0.8637303072555791,0.6099724463624868],\"type\":\"scatter\"},{\"hoverinfo\":\"none\",\"line\":{\"color\":\"#888\",\"width\":1.0},\"mode\":\"lines\",\"opacity\":0.1,\"x\":[-0.4549134397966499,-0.1825421693482614],\"y\":[-0.15688478329206929,-0.2213543555482491],\"type\":\"scatter\"},{\"hoverinfo\":\"none\",\"line\":{\"color\":\"#888\",\"width\":1.0},\"mode\":\"lines\",\"opacity\":0.1,\"x\":[-0.5709994419035919,-0.1825421693482614],\"y\":[0.033651411610274864,-0.2213543555482491],\"type\":\"scatter\"},{\"hoverinfo\":\"none\",\"line\":{\"color\":\"#888\",\"width\":1.0},\"mode\":\"lines\",\"opacity\":0.1,\"x\":[0.3978889978234421,0.3844575264128282],\"y\":[0.5922569707277294,0.2377842521750975],\"type\":\"scatter\"},{\"hoverinfo\":\"none\",\"line\":{\"color\":\"#888\",\"width\":1.2857142857142856},\"mode\":\"lines\",\"opacity\":0.38571428571428557,\"x\":[0.3683234372036203,0.3844575264128282],\"y\":[0.691154630971436,0.2377842521750975],\"type\":\"scatter\"},{\"hoverinfo\":\"none\",\"line\":{\"color\":\"#888\",\"width\":1.0},\"mode\":\"lines\",\"opacity\":0.1,\"x\":[-0.7635889546662646,-0.3692592903004912],\"y\":[0.6944559475605094,0.53393843119711],\"type\":\"scatter\"},{\"hoverinfo\":\"none\",\"line\":{\"color\":\"#888\",\"width\":1.0},\"mode\":\"lines\",\"opacity\":0.1,\"x\":[-0.3357602825594816,-0.1825421693482614],\"y\":[-0.1953732013892261,-0.2213543555482491],\"type\":\"scatter\"},{\"hoverinfo\":\"none\",\"line\":{\"color\":\"#888\",\"width\":1.0},\"mode\":\"lines\",\"opacity\":0.1,\"x\":[0.21670215730183795,0.3844575264128282],\"y\":[0.5563334741253293,0.2377842521750975],\"type\":\"scatter\"},{\"hoverinfo\":\"none\",\"line\":{\"color\":\"#888\",\"width\":1.0},\"mode\":\"lines\",\"opacity\":0.1,\"x\":[-0.6397930589178765,-0.1825421693482614],\"y\":[-0.11788614304682242,-0.2213543555482491],\"type\":\"scatter\"},{\"hoverinfo\":\"none\",\"line\":{\"color\":\"#888\",\"width\":1.0},\"mode\":\"lines\",\"opacity\":0.1,\"x\":[-0.3803504800440845,-0.1825421693482614],\"y\":[-0.45121587319922907,-0.2213543555482491],\"type\":\"scatter\"},{\"hoverinfo\":\"none\",\"line\":{\"color\":\"#888\",\"width\":1.0},\"mode\":\"lines\",\"opacity\":0.1,\"x\":[0.28782857680628005,0.3844575264128282],\"y\":[0.6744309382892294,0.2377842521750975],\"type\":\"scatter\"},{\"hoverinfo\":\"none\",\"line\":{\"color\":\"#888\",\"width\":1.0},\"mode\":\"lines\",\"opacity\":0.1,\"x\":[-0.25454985491535537,-0.2527498221853702],\"y\":[1.0,0.6099724463624868],\"type\":\"scatter\"},{\"hoverinfo\":\"none\",\"line\":{\"color\":\"#888\",\"width\":1.1428571428571428},\"mode\":\"lines\",\"opacity\":0.2428571428571428,\"x\":[-0.41399883591522285,-0.2527498221853702],\"y\":[0.9483602342911942,0.6099724463624868],\"type\":\"scatter\"},{\"hoverinfo\":\"none\",\"line\":{\"color\":\"#888\",\"width\":1.1428571428571428},\"mode\":\"lines\",\"opacity\":0.2428571428571428,\"x\":[0.09083315142629488,-0.1825421693482614],\"y\":[0.08930741214988189,-0.2213543555482491],\"type\":\"scatter\"},{\"hoverinfo\":\"none\",\"line\":{\"color\":\"#888\",\"width\":1.1428571428571428},\"mode\":\"lines\",\"opacity\":0.2428571428571428,\"x\":[0.09083315142629488,0.3844575264128282],\"y\":[0.08930741214988189,0.2377842521750975],\"type\":\"scatter\"},{\"hoverinfo\":\"none\",\"line\":{\"color\":\"#888\",\"width\":1.0},\"mode\":\"lines\",\"opacity\":0.1,\"x\":[0.0010995129997960395,-0.1825421693482614],\"y\":[0.1438596104188264,-0.2213543555482491],\"type\":\"scatter\"},{\"hoverinfo\":\"none\",\"line\":{\"color\":\"#888\",\"width\":1.0},\"mode\":\"lines\",\"opacity\":0.1,\"x\":[0.0010995129997960395,0.3844575264128282],\"y\":[0.1438596104188264,0.2377842521750975],\"type\":\"scatter\"},{\"hoverinfo\":\"none\",\"line\":{\"color\":\"#888\",\"width\":1.0},\"mode\":\"lines\",\"opacity\":0.1,\"x\":[0.047416134870289645,-0.1825421693482614],\"y\":[0.13436969341556745,-0.2213543555482491],\"type\":\"scatter\"},{\"hoverinfo\":\"none\",\"line\":{\"color\":\"#888\",\"width\":1.0},\"mode\":\"lines\",\"opacity\":0.1,\"x\":[0.047416134870289645,0.3844575264128282],\"y\":[0.13436969341556745,0.2377842521750975],\"type\":\"scatter\"},{\"hoverinfo\":\"none\",\"line\":{\"color\":\"#888\",\"width\":1.0},\"mode\":\"lines\",\"opacity\":0.1,\"x\":[-0.6477238192291768,-0.1825421693482614],\"y\":[-0.19735669151682306,-0.2213543555482491],\"type\":\"scatter\"},{\"hoverinfo\":\"none\",\"line\":{\"color\":\"#888\",\"width\":1.0},\"mode\":\"lines\",\"opacity\":0.1,\"x\":[-0.6400981220531496,-0.1825421693482614],\"y\":[-0.28008259637247457,-0.2213543555482491],\"type\":\"scatter\"},{\"hoverinfo\":\"none\",\"line\":{\"color\":\"#888\",\"width\":1.0},\"mode\":\"lines\",\"opacity\":0.1,\"x\":[-0.42251994767602613,-0.1825421693482614],\"y\":[-0.30226878175791877,-0.2213543555482491],\"type\":\"scatter\"},{\"hoverinfo\":\"none\",\"line\":{\"color\":\"#888\",\"width\":1.0},\"mode\":\"lines\",\"opacity\":0.1,\"x\":[0.21150228596653967,0.3844575264128282],\"y\":[0.6640979512508204,0.2377842521750975],\"type\":\"scatter\"},{\"hoverinfo\":\"none\",\"line\":{\"color\":\"#888\",\"width\":1.0},\"mode\":\"lines\",\"opacity\":0.1,\"x\":[-0.5835942838250868,-0.1825421693482614],\"y\":[-0.4362322984228616,-0.2213543555482491],\"type\":\"scatter\"},{\"hoverinfo\":\"none\",\"line\":{\"color\":\"#888\",\"width\":1.0},\"mode\":\"lines\",\"opacity\":0.1,\"x\":[-0.5566388930868257,-0.1825421693482614],\"y\":[-0.21808324775177,-0.2213543555482491],\"type\":\"scatter\"},{\"hoverinfo\":\"none\",\"line\":{\"color\":\"#888\",\"width\":1.0},\"mode\":\"lines\",\"opacity\":0.1,\"x\":[0.15379453894758893,0.3844575264128282],\"y\":[0.6073355486588315,0.2377842521750975],\"type\":\"scatter\"},{\"hoverinfo\":\"none\",\"line\":{\"color\":\"#888\",\"width\":1.0},\"mode\":\"lines\",\"opacity\":0.1,\"x\":[-0.6207834242515669,-0.1825421693482614],\"y\":[-0.3613349148989293,-0.2213543555482491],\"type\":\"scatter\"},{\"hoverinfo\":\"none\",\"line\":{\"color\":\"#888\",\"width\":1.1428571428571428},\"mode\":\"lines\",\"opacity\":0.2428571428571428,\"x\":[-0.5353473496937947,-0.1825421693482614],\"y\":[-0.5088435273768922,-0.2213543555482491],\"type\":\"scatter\"},{\"hoverinfo\":\"none\",\"line\":{\"color\":\"#888\",\"width\":1.0},\"mode\":\"lines\",\"opacity\":0.1,\"x\":[-0.5369071072160417,-0.1825421693482614],\"y\":[-0.3283168991556108,-0.2213543555482491],\"type\":\"scatter\"},{\"hoverinfo\":\"none\",\"line\":{\"color\":\"#888\",\"width\":1.0},\"mode\":\"lines\",\"opacity\":0.1,\"x\":[0.423991161736592,0.3844575264128282],\"y\":[0.47197881731524266,0.2377842521750975],\"type\":\"scatter\"},{\"hoverinfo\":\"none\",\"line\":{\"color\":\"#888\",\"width\":1.0},\"mode\":\"lines\",\"opacity\":0.1,\"x\":[0.1021905706505638,-0.1825421693482614],\"y\":[-0.022800809858185455,-0.2213543555482491],\"type\":\"scatter\"},{\"hoverinfo\":\"none\",\"line\":{\"color\":\"#888\",\"width\":1.0},\"mode\":\"lines\",\"opacity\":0.1,\"x\":[0.1021905706505638,0.3844575264128282],\"y\":[-0.022800809858185455,0.2377842521750975],\"type\":\"scatter\"},{\"hoverinfo\":\"none\",\"line\":{\"color\":\"#888\",\"width\":1.0},\"mode\":\"lines\",\"opacity\":0.1,\"x\":[0.6329445170651721,0.3844575264128282],\"y\":[0.12745705875862448,0.2377842521750975],\"type\":\"scatter\"},{\"hoverinfo\":\"none\",\"line\":{\"color\":\"#888\",\"width\":1.1428571428571428},\"mode\":\"lines\",\"opacity\":0.2428571428571428,\"x\":[-0.4736711429895218,-0.1825421693482614],\"y\":[-0.5545645643344974,-0.2213543555482491],\"type\":\"scatter\"},{\"hoverinfo\":\"none\",\"line\":{\"color\":\"#888\",\"width\":1.2857142857142856},\"mode\":\"lines\",\"opacity\":0.38571428571428557,\"x\":[0.1466763147216639,-0.1825421693482614],\"y\":[-0.07339961735747612,-0.2213543555482491],\"type\":\"scatter\"},{\"hoverinfo\":\"none\",\"line\":{\"color\":\"#888\",\"width\":1.2857142857142856},\"mode\":\"lines\",\"opacity\":0.38571428571428557,\"x\":[0.1466763147216639,0.3844575264128282],\"y\":[-0.07339961735747612,0.2377842521750975],\"type\":\"scatter\"},{\"hoverinfo\":\"none\",\"line\":{\"color\":\"#888\",\"width\":1.2857142857142856},\"mode\":\"lines\",\"opacity\":0.38571428571428557,\"x\":[0.6786373528420225,0.3844575264128282],\"y\":[-0.1191994637078803,0.2377842521750975],\"type\":\"scatter\"},{\"hoverinfo\":\"none\",\"line\":{\"color\":\"#888\",\"width\":1.0},\"mode\":\"lines\",\"opacity\":0.1,\"x\":[-0.48497445271264733,-0.1825421693482614],\"y\":[-0.4324184098883793,-0.2213543555482491],\"type\":\"scatter\"},{\"hoverinfo\":\"none\",\"line\":{\"color\":\"#888\",\"width\":1.0},\"mode\":\"lines\",\"opacity\":0.1,\"x\":[-0.4204321042764985,-0.1825421693482614],\"y\":[-0.6075064440669095,-0.2213543555482491],\"type\":\"scatter\"},{\"hoverinfo\":\"none\",\"line\":{\"color\":\"#888\",\"width\":1.0},\"mode\":\"lines\",\"opacity\":0.1,\"x\":[-0.6285602037626051,-0.3692592903004912],\"y\":[0.8203158530573461,0.53393843119711],\"type\":\"scatter\"},{\"hoverinfo\":\"none\",\"line\":{\"color\":\"#888\",\"width\":1.0},\"mode\":\"lines\",\"opacity\":0.1,\"x\":[0.7409773146802785,0.3844575264128282],\"y\":[-0.08137868232972553,0.2377842521750975],\"type\":\"scatter\"},{\"hoverinfo\":\"none\",\"line\":{\"color\":\"#888\",\"width\":1.0},\"mode\":\"lines\",\"opacity\":0.1,\"x\":[0.24341039869825923,-0.1825421693482614],\"y\":[-0.11590366752010002,-0.2213543555482491],\"type\":\"scatter\"},{\"hoverinfo\":\"none\",\"line\":{\"color\":\"#888\",\"width\":1.2857142857142856},\"mode\":\"lines\",\"opacity\":0.38571428571428557,\"x\":[0.24341039869825923,0.3844575264128282],\"y\":[-0.11590366752010002,0.2377842521750975],\"type\":\"scatter\"},{\"hoverinfo\":\"none\",\"line\":{\"color\":\"#888\",\"width\":1.0},\"mode\":\"lines\",\"opacity\":0.1,\"x\":[0.6512588666824447,0.3844575264128282],\"y\":[-0.0314510306638568,0.2377842521750975],\"type\":\"scatter\"},{\"hoverinfo\":\"none\",\"line\":{\"color\":\"#888\",\"width\":1.0},\"mode\":\"lines\",\"opacity\":0.1,\"x\":[0.7029089257634152,0.3844575264128282],\"y\":[0.05399125910693061,0.2377842521750975],\"type\":\"scatter\"},{\"hoverinfo\":\"none\",\"line\":{\"color\":\"#888\",\"width\":1.0},\"mode\":\"lines\",\"opacity\":0.1,\"x\":[-0.3418401135853882,-0.1825421693482614],\"y\":[-0.646554351269273,-0.2213543555482491],\"type\":\"scatter\"},{\"hoverinfo\":\"none\",\"line\":{\"color\":\"#888\",\"width\":1.0},\"mode\":\"lines\",\"opacity\":0.1,\"x\":[-0.23594681188858643,-0.1825421693482614],\"y\":[-0.4793641018417276,-0.2213543555482491],\"type\":\"scatter\"},{\"hoverinfo\":\"none\",\"line\":{\"color\":\"#888\",\"width\":1.0},\"mode\":\"lines\",\"opacity\":0.1,\"x\":[-0.2635169864314886,-0.1825421693482614],\"y\":[-0.6730560226664948,-0.2213543555482491],\"type\":\"scatter\"},{\"hoverinfo\":\"none\",\"line\":{\"color\":\"#888\",\"width\":1.0},\"mode\":\"lines\",\"opacity\":0.1,\"x\":[-0.34426701706618645,-0.1825421693482614],\"y\":[-0.5543791736507911,-0.2213543555482491],\"type\":\"scatter\"},{\"hoverinfo\":\"none\",\"line\":{\"color\":\"#888\",\"width\":1.0},\"mode\":\"lines\",\"opacity\":0.1,\"x\":[-0.17657219117029602,-0.1825421693482614],\"y\":[-0.6810707306147451,-0.2213543555482491],\"type\":\"scatter\"},{\"hoverinfo\":\"none\",\"line\":{\"color\":\"#888\",\"width\":1.0},\"mode\":\"lines\",\"opacity\":0.1,\"x\":[-0.101589834542453,-0.1825421693482614],\"y\":[-0.6730932145093644,-0.2213543555482491],\"type\":\"scatter\"},{\"hoverinfo\":\"none\",\"line\":{\"color\":\"#888\",\"width\":1.0},\"mode\":\"lines\",\"opacity\":0.1,\"x\":[-0.1549523370369841,-0.1825421693482614],\"y\":[-0.3881909509157823,-0.2213543555482491],\"type\":\"scatter\"},{\"hoverinfo\":\"none\",\"line\":{\"color\":\"#888\",\"width\":1.0},\"mode\":\"lines\",\"opacity\":0.1,\"x\":[0.7841843390204094,0.3844575264128282],\"y\":[-0.008276409703249816,0.2377842521750975],\"type\":\"scatter\"},{\"hoverinfo\":\"none\",\"line\":{\"color\":\"#888\",\"width\":1.0},\"mode\":\"lines\",\"opacity\":0.1,\"x\":[-0.11924343138581309,-0.1825421693482614],\"y\":[-0.564296946333039,-0.2213543555482491],\"type\":\"scatter\"},{\"hoverinfo\":\"none\",\"line\":{\"color\":\"#888\",\"width\":1.0},\"mode\":\"lines\",\"opacity\":0.1,\"x\":[-0.02804885453351814,-0.1825421693482614],\"y\":[-0.6613184015522341,-0.2213543555482491],\"type\":\"scatter\"},{\"hoverinfo\":\"none\",\"line\":{\"color\":\"#888\",\"width\":1.0},\"mode\":\"lines\",\"opacity\":0.1,\"x\":[0.05025269956207523,-0.1825421693482614],\"y\":[-0.6315404701384018,-0.2213543555482491],\"type\":\"scatter\"},{\"hoverinfo\":\"none\",\"line\":{\"color\":\"#888\",\"width\":1.0},\"mode\":\"lines\",\"opacity\":0.1,\"x\":[-0.22527814894009865,-0.1825421693482614],\"y\":[-0.5951948892542217,-0.2213543555482491],\"type\":\"scatter\"},{\"hoverinfo\":\"none\",\"line\":{\"color\":\"#888\",\"width\":1.1428571428571428},\"mode\":\"lines\",\"opacity\":0.2428571428571428,\"x\":[0.807215615889963,0.3844575264128282],\"y\":[0.08122863051613734,0.2377842521750975],\"type\":\"scatter\"},{\"hoverinfo\":\"none\",\"line\":{\"color\":\"#888\",\"width\":1.0},\"mode\":\"lines\",\"opacity\":0.1,\"x\":[0.11088838786600279,-0.1825421693482614],\"y\":[-0.5834319021210935,-0.2213543555482491],\"type\":\"scatter\"},{\"hoverinfo\":\"none\",\"line\":{\"color\":\"#888\",\"width\":1.0},\"mode\":\"lines\",\"opacity\":0.1,\"x\":[0.8178004835538613,0.3844575264128282],\"y\":[0.16779481367640944,0.2377842521750975],\"type\":\"scatter\"},{\"hoverinfo\":\"none\",\"line\":{\"color\":\"#888\",\"width\":1.0},\"mode\":\"lines\",\"opacity\":0.1,\"x\":[0.1729320625861009,-0.1825421693482614],\"y\":[-0.009423244454005723,-0.2213543555482491],\"type\":\"scatter\"},{\"hoverinfo\":\"none\",\"line\":{\"color\":\"#888\",\"width\":1.0},\"mode\":\"lines\",\"opacity\":0.1,\"x\":[0.1729320625861009,0.3844575264128282],\"y\":[-0.009423244454005723,0.2377842521750975],\"type\":\"scatter\"},{\"hoverinfo\":\"none\",\"line\":{\"color\":\"#888\",\"width\":1.0},\"mode\":\"lines\",\"opacity\":0.1,\"x\":[0.2109034067919328,-0.1825421693482614],\"y\":[-0.061299756703025864,-0.2213543555482491],\"type\":\"scatter\"},{\"hoverinfo\":\"none\",\"line\":{\"color\":\"#888\",\"width\":1.0},\"mode\":\"lines\",\"opacity\":0.1,\"x\":[0.2109034067919328,0.3844575264128282],\"y\":[-0.061299756703025864,0.2377842521750975],\"type\":\"scatter\"},{\"hoverinfo\":\"none\",\"line\":{\"color\":\"#888\",\"width\":1.0},\"mode\":\"lines\",\"opacity\":0.1,\"x\":[0.8097865058837318,0.3844575264128282],\"y\":[0.2676399809709385,0.2377842521750975],\"type\":\"scatter\"},{\"hoverinfo\":\"none\",\"line\":{\"color\":\"#888\",\"width\":1.0},\"mode\":\"lines\",\"opacity\":0.1,\"x\":[0.19301848647954983,-0.1825421693482614],\"y\":[-0.12283259392300988,-0.2213543555482491],\"type\":\"scatter\"},{\"hoverinfo\":\"none\",\"line\":{\"color\":\"#888\",\"width\":1.0},\"mode\":\"lines\",\"opacity\":0.1,\"x\":[0.19301848647954983,0.3844575264128282],\"y\":[-0.12283259392300988,0.2377842521750975],\"type\":\"scatter\"},{\"hoverinfo\":\"none\",\"line\":{\"color\":\"#888\",\"width\":1.0},\"mode\":\"lines\",\"opacity\":0.1,\"x\":[-0.050173728495910695,-0.1825421693482614],\"y\":[-0.45445111137675565,-0.2213543555482491],\"type\":\"scatter\"},{\"hoverinfo\":\"none\",\"line\":{\"color\":\"#888\",\"width\":1.4285714285714286},\"mode\":\"lines\",\"opacity\":0.5285714285714286,\"x\":[0.13259525884946746,-0.1825421693482614],\"y\":[0.04094608159283761,-0.2213543555482491],\"type\":\"scatter\"},{\"hoverinfo\":\"none\",\"line\":{\"color\":\"#888\",\"width\":1.0},\"mode\":\"lines\",\"opacity\":0.1,\"x\":[0.13259525884946746,0.3844575264128282],\"y\":[0.04094608159283761,0.2377842521750975],\"type\":\"scatter\"},{\"hoverinfo\":\"none\",\"line\":{\"color\":\"#888\",\"width\":1.0},\"mode\":\"lines\",\"opacity\":0.1,\"x\":[0.7232311050447605,0.3844575264128282],\"y\":[0.21209212087631357,0.2377842521750975],\"type\":\"scatter\"},{\"hoverinfo\":\"none\",\"line\":{\"color\":\"#888\",\"width\":1.0},\"mode\":\"lines\",\"opacity\":0.1,\"x\":[0.7808374568388683,0.3844575264128282],\"y\":[0.3514483614562425,0.2377842521750975],\"type\":\"scatter\"},{\"hoverinfo\":\"none\",\"line\":{\"color\":\"#888\",\"width\":1.0},\"mode\":\"lines\",\"opacity\":0.1,\"x\":[-0.05273018598749306,-0.1825421693482614],\"y\":[-0.3141555293480635,-0.2213543555482491],\"type\":\"scatter\"},{\"hoverinfo\":\"none\",\"line\":{\"color\":\"#888\",\"width\":1.0},\"mode\":\"lines\",\"opacity\":0.1,\"x\":[0.16148431272202407,-0.1825421693482614],\"y\":[-0.5280260846827217,-0.2213543555482491],\"type\":\"scatter\"},{\"hoverinfo\":\"none\",\"line\":{\"color\":\"#888\",\"width\":1.0},\"mode\":\"lines\",\"opacity\":0.1,\"x\":[0.1846997592750068,-0.1825421693482614],\"y\":[-0.45879620942954175,-0.2213543555482491],\"type\":\"scatter\"},{\"hoverinfo\":\"none\",\"line\":{\"color\":\"#888\",\"width\":1.1428571428571428},\"mode\":\"lines\",\"opacity\":0.2428571428571428,\"x\":[0.13533527105290705,-0.1825421693482614],\"y\":[-0.4043001365667371,-0.2213543555482491],\"type\":\"scatter\"},{\"hoverinfo\":\"none\",\"line\":{\"color\":\"#888\",\"width\":2.0},\"mode\":\"lines\",\"opacity\":1.0,\"x\":[-0.06334074640419336,-0.1825421693482614],\"y\":[0.23174440084382233,-0.2213543555482491],\"type\":\"scatter\"},{\"hoverinfo\":\"none\",\"line\":{\"color\":\"#888\",\"width\":1.4405594405594404},\"mode\":\"lines\",\"opacity\":0.5405594405594404,\"x\":[-0.06334074640419336,0.3844575264128282],\"y\":[0.23174440084382233,0.2377842521750975],\"type\":\"scatter\"},{\"hoverinfo\":\"none\",\"line\":{\"color\":\"#888\",\"width\":1.013986013986014},\"mode\":\"lines\",\"opacity\":0.11398601398601396,\"x\":[-0.06334074640419336,-0.2527498221853702],\"y\":[0.23174440084382233,0.6099724463624868],\"type\":\"scatter\"},{\"hoverinfo\":\"none\",\"line\":{\"color\":\"#888\",\"width\":1.0},\"mode\":\"lines\",\"opacity\":0.1,\"x\":[-0.06334074640419336,-0.3692592903004912],\"y\":[0.23174440084382233,0.53393843119711],\"type\":\"scatter\"},{\"marker\":{\"color\":[\"rgb(255,102,102)\",\"rgb(255,102,102)\",\"rgb(255,102,102)\",\"rgb(255,102,102)\",\"rgb(255,102,102)\",\"rgb(255,102,102)\",\"rgb(255,102,102)\",\"rgb(255,102,102)\",\"rgb(255,102,102)\",\"rgb(255,102,102)\",\"rgb(255,102,102)\",\"rgb(255,102,102)\",\"rgb(255,102,102)\",\"rgb(255,102,102)\",\"rgb(255,102,102)\",\"rgb(0,204,0)\",\"rgb(0,204,0)\",\"rgb(255,102,102)\",\"rgb(255,102,102)\",\"rgb(255,102,102)\",\"rgb(255,102,102)\",\"rgb(255,102,102)\",\"rgb(255,102,102)\",\"rgb(255,102,102)\",\"rgb(255,102,102)\",\"rgb(255,102,102)\",\"rgb(255,102,102)\",\"rgb(255,102,102)\",\"rgb(255,102,102)\",\"rgb(255,102,102)\",\"rgb(0,128,255)\",\"rgb(0,128,255)\",\"rgb(0,128,255)\",\"rgb(0,128,255)\",\"rgb(255,102,102)\",\"rgb(255,102,102)\",\"rgb(255,102,102)\",\"rgb(255,102,102)\",\"rgb(255,102,102)\",\"rgb(255,102,102)\",\"rgb(255,102,102)\",\"rgb(255,102,102)\",\"rgb(255,102,102)\",\"rgb(255,102,102)\",\"rgb(255,102,102)\",\"rgb(255,102,102)\",\"rgb(255,102,102)\",\"rgb(255,102,102)\",\"rgb(255,102,102)\",\"rgb(255,102,102)\",\"rgb(255,102,102)\",\"rgb(255,102,102)\",\"rgb(255,102,102)\",\"rgb(255,102,102)\",\"rgb(255,102,102)\",\"rgb(255,102,102)\",\"rgb(255,102,102)\",\"rgb(255,102,102)\",\"rgb(255,102,102)\",\"rgb(255,102,102)\",\"rgb(255,102,102)\",\"rgb(255,102,102)\",\"rgb(255,102,102)\",\"rgb(255,102,102)\",\"rgb(255,102,102)\",\"rgb(255,102,102)\",\"rgb(255,102,102)\",\"rgb(255,102,102)\",\"rgb(255,102,102)\",\"rgb(255,102,102)\",\"rgb(255,102,102)\",\"rgb(255,102,102)\",\"rgb(255,102,102)\",\"rgb(255,102,102)\",\"rgb(255,102,102)\",\"rgb(255,102,102)\",\"rgb(255,102,102)\",\"rgb(255,102,102)\",\"rgb(255,102,102)\",\"rgb(255,102,102)\",\"rgb(255,102,102)\",\"rgb(255,102,102)\",\"rgb(255,102,102)\",\"rgb(255,102,102)\",\"rgb(255,102,102)\",\"rgb(255,102,102)\",\"rgb(255,102,102)\",\"rgb(255,102,102)\",\"rgb(255,102,102)\",\"rgb(255,102,102)\",\"rgb(255,102,102)\",\"rgb(255,102,102)\",\"rgb(255,102,102)\",\"rgb(255,102,102)\",\"rgb(255,102,102)\",\"rgb(255,102,102)\",\"rgb(255,102,102)\",\"rgb(255,102,102)\",\"rgb(255,102,102)\",\"rgb(255,102,102)\"],\"size\":[5.298507462686567,5.0,5.0,5.0,5.223880597014925,5.0,5.522388059701493,5.0,5.0,5.0,5.0,5.0,5.074626865671642,5.0,5.0,10.0,10.0,5.074626865671642,5.0,5.0,5.0,5.0,5.0,5.0,5.0,5.0,5.0,5.074626865671642,5.3731343283582085,5.1492537313432845,10.0,7.202797202797202,5.06993006993007,5.0,5.0,5.0,5.0,5.0,5.1492537313432845,5.0,5.0,5.0,5.0,5.0,5.0,5.0,5.074626865671642,5.223880597014925,5.074626865671642,5.074626865671642,5.0,5.0,5.0,5.0,5.0,5.0,5.0,5.0,5.074626865671642,5.0,5.0,5.074626865671642,5.0,5.074626865671642,5.3731343283582085,5.1492537313432845,5.0,5.0,5.0,5.0,5.223880597014925,5.0,5.0,5.0,5.0,5.0,5.0,5.0,5.0,5.0,5.0,5.0,5.0,5.0,5.0,5.074626865671642,5.0,5.0,5.074626865671642,5.074626865671642,5.0,5.074626865671642,5.0,5.298507462686567,5.0,5.0,5.0,5.0,5.0,5.074626865671642]},\"mode\":\"markers+text\",\"text\":[\"8)\",\"aborde\",\"activation\",\"agit\",\"agriculture\",\"am\\u00e9nagement\",\"appara\\u00eetre\",\"bleu\",\"bleue\",\"budget\",\"campagne\",\"caract\\u00e9ristiques\",\"caract\\u00e9ris\\u00e9e\",\"centre\",\"cible\",\"classe\",\"classe\",\"classes\",\"collectivit\\u00e9s\",\"colori\\u00e9es\",\"commentant\",\"compte\",\"concern\\u00e9e\",\"conflit\",\"conf\\u00e9rences\",\"consid\\u00e9r\\u00e9e\",\"dendrogramme\",\"dimensions\",\"discours\",\"distingue\",\"doc1\",\"doc2\",\"doc3\",\"doc4\",\"dominante\",\"droite\",\"d\\u00e9linquance\",\"etc.\",\"filiation\",\"gine\",\"gouvernement\",\"grande\",\"haut\",\"histoire\",\"importante\",\"individus\",\"inscrits\",\"justice\",\"lexique\",\"logement\",\"marqu\\u00e9e\",\"modalit\\u00e9s\",\"m\\u00e9dias\",\"nomme\",\"parlement\",\"parti\",\"petite\",\"ph\\u00e9nom\\u00e8ne\",\"polaire\",\"politique\",\"politiques\",\"porte\",\"proposons\",\"pr\\u00e9-\",\"pr\\u00e9sente\",\"question\",\"questions\",\"rainet\\u00e9\",\"rapports\",\"regroupant\",\"regroupe\",\"regroup\\u00e9es\",\"retraite\",\"retrouve\",\"r\\u00e9sultats\",\"sant\\u00e9\",\"seconde\",\"segment\",\"segments\",\"sente\",\"sentes\",\"service\",\"services\",\"souligne\",\"souverainet\\u00e9\",\"surrepr\\u00e9sentation\",\"symbolis\\u00e9\",\"th\\u00e8mes\",\"th\\u00e9matique\",\"traitant\",\"traite\",\"traitement\",\"transition\",\"trouvons\",\"utiliserons\",\"vocabulaire\",\"\\u00e9conomie\",\"\\u00e9ducation\",\"\\u00e9limin\\u00e9e\",\"\\u00e9nergies\"],\"textposition\":\"top center\",\"x\":[0.24820559036920276,0.6153311736654009,0.6693498670075952,0.7464245320326749,-0.007163445598616272,0.07468545023938662,0.04213045964410138,0.5479014935382839,0.5408820142693963,-0.29767801005856953,-0.3628051493751814,-0.2748090945605674,0.060673544687745135,0.6818258562107969,-0.24135176151253546,-0.06334074640419336,-0.06334074640419336,-0.30262325967782,-0.37291799260569214,0.6293644644464421,-0.3902975148139054,0.5457309983733016,0.4649794020951667,-0.452125347814132,-0.5160953447797142,0.30583166750605134,-0.6142469348188331,-0.48124213081950273,0.02153894000020832,-0.5519513963938137,-0.1825421693482614,0.3844575264128282,-0.2527498221853702,-0.3692592903004912,-0.5602980964784597,-0.4549134397966499,-0.5709994419035919,0.3978889978234421,0.3683234372036203,-0.7635889546662646,-0.3357602825594816,0.21670215730183795,-0.6397930589178765,-0.3803504800440845,0.28782857680628005,-0.25454985491535537,-0.41399883591522285,0.09083315142629488,0.0010995129997960395,0.047416134870289645,-0.6477238192291768,-0.6400981220531496,-0.42251994767602613,0.21150228596653967,-0.5835942838250868,-0.5566388930868257,0.15379453894758893,-0.6207834242515669,-0.5353473496937947,-0.5369071072160417,0.423991161736592,0.1021905706505638,0.6329445170651721,-0.4736711429895218,0.1466763147216639,0.6786373528420225,-0.48497445271264733,-0.4204321042764985,-0.6285602037626051,0.7409773146802785,0.24341039869825923,0.6512588666824447,0.7029089257634152,-0.3418401135853882,-0.23594681188858643,-0.2635169864314886,-0.34426701706618645,-0.17657219117029602,-0.101589834542453,-0.1549523370369841,0.7841843390204094,-0.11924343138581309,-0.02804885453351814,0.05025269956207523,-0.22527814894009865,0.807215615889963,0.11088838786600279,0.8178004835538613,0.1729320625861009,0.2109034067919328,0.8097865058837318,0.19301848647954983,-0.050173728495910695,0.13259525884946746,0.7232311050447605,0.7808374568388683,-0.05273018598749306,0.16148431272202407,0.1846997592750068,0.13533527105290705],\"y\":[-0.16014279006951537,0.2670826859083052,0.37786791865112945,0.44414098772144767,-0.5658798505455381,-0.4881535108642083,-0.37343289618899367,0.3992293502143522,0.5222394349491583,-0.3493797683744798,-0.05910731545940592,0.029067749882154888,0.03011375520072895,0.5087269993246968,-0.07805164435000872,0.23174440084382233,0.23174440084382233,0.11918830742779672,0.15168393625212767,0.5790359166616931,0.05790491718772757,0.6313212198595333,0.6690983854633485,0.13023643725363887,0.08912764101607334,0.5237273253142707,-0.033136180341249905,-0.0076243520727463775,0.0846581986273585,-0.09431126276997687,-0.2213543555482491,0.2377842521750975,0.6099724463624868,0.53393843119711,0.8637303072555791,-0.15688478329206929,0.033651411610274864,0.5922569707277294,0.691154630971436,0.6944559475605094,-0.1953732013892261,0.5563334741253293,-0.11788614304682242,-0.45121587319922907,0.6744309382892294,1.0,0.9483602342911942,0.08930741214988189,0.1438596104188264,0.13436969341556745,-0.19735669151682306,-0.28008259637247457,-0.30226878175791877,0.6640979512508204,-0.4362322984228616,-0.21808324775177,0.6073355486588315,-0.3613349148989293,-0.5088435273768922,-0.3283168991556108,0.47197881731524266,-0.022800809858185455,0.12745705875862448,-0.5545645643344974,-0.07339961735747612,-0.1191994637078803,-0.4324184098883793,-0.6075064440669095,0.8203158530573461,-0.08137868232972553,-0.11590366752010002,-0.0314510306638568,0.05399125910693061,-0.646554351269273,-0.4793641018417276,-0.6730560226664948,-0.5543791736507911,-0.6810707306147451,-0.6730932145093644,-0.3881909509157823,-0.008276409703249816,-0.564296946333039,-0.6613184015522341,-0.6315404701384018,-0.5951948892542217,0.08122863051613734,-0.5834319021210935,0.16779481367640944,-0.009423244454005723,-0.061299756703025864,0.2676399809709385,-0.12283259392300988,-0.45445111137675565,0.04094608159283761,0.21209212087631357,0.3514483614562425,-0.3141555293480635,-0.5280260846827217,-0.45879620942954175,-0.4043001365667371],\"type\":\"scatter\"}],                        {\"template\":{\"data\":{\"histogram2dcontour\":[{\"type\":\"histogram2dcontour\",\"colorbar\":{\"outlinewidth\":0,\"ticks\":\"\"},\"colorscale\":[[0.0,\"#0d0887\"],[0.1111111111111111,\"#46039f\"],[0.2222222222222222,\"#7201a8\"],[0.3333333333333333,\"#9c179e\"],[0.4444444444444444,\"#bd3786\"],[0.5555555555555556,\"#d8576b\"],[0.6666666666666666,\"#ed7953\"],[0.7777777777777778,\"#fb9f3a\"],[0.8888888888888888,\"#fdca26\"],[1.0,\"#f0f921\"]]}],\"choropleth\":[{\"type\":\"choropleth\",\"colorbar\":{\"outlinewidth\":0,\"ticks\":\"\"}}],\"histogram2d\":[{\"type\":\"histogram2d\",\"colorbar\":{\"outlinewidth\":0,\"ticks\":\"\"},\"colorscale\":[[0.0,\"#0d0887\"],[0.1111111111111111,\"#46039f\"],[0.2222222222222222,\"#7201a8\"],[0.3333333333333333,\"#9c179e\"],[0.4444444444444444,\"#bd3786\"],[0.5555555555555556,\"#d8576b\"],[0.6666666666666666,\"#ed7953\"],[0.7777777777777778,\"#fb9f3a\"],[0.8888888888888888,\"#fdca26\"],[1.0,\"#f0f921\"]]}],\"heatmap\":[{\"type\":\"heatmap\",\"colorbar\":{\"outlinewidth\":0,\"ticks\":\"\"},\"colorscale\":[[0.0,\"#0d0887\"],[0.1111111111111111,\"#46039f\"],[0.2222222222222222,\"#7201a8\"],[0.3333333333333333,\"#9c179e\"],[0.4444444444444444,\"#bd3786\"],[0.5555555555555556,\"#d8576b\"],[0.6666666666666666,\"#ed7953\"],[0.7777777777777778,\"#fb9f3a\"],[0.8888888888888888,\"#fdca26\"],[1.0,\"#f0f921\"]]}],\"heatmapgl\":[{\"type\":\"heatmapgl\",\"colorbar\":{\"outlinewidth\":0,\"ticks\":\"\"},\"colorscale\":[[0.0,\"#0d0887\"],[0.1111111111111111,\"#46039f\"],[0.2222222222222222,\"#7201a8\"],[0.3333333333333333,\"#9c179e\"],[0.4444444444444444,\"#bd3786\"],[0.5555555555555556,\"#d8576b\"],[0.6666666666666666,\"#ed7953\"],[0.7777777777777778,\"#fb9f3a\"],[0.8888888888888888,\"#fdca26\"],[1.0,\"#f0f921\"]]}],\"contourcarpet\":[{\"type\":\"contourcarpet\",\"colorbar\":{\"outlinewidth\":0,\"ticks\":\"\"}}],\"contour\":[{\"type\":\"contour\",\"colorbar\":{\"outlinewidth\":0,\"ticks\":\"\"},\"colorscale\":[[0.0,\"#0d0887\"],[0.1111111111111111,\"#46039f\"],[0.2222222222222222,\"#7201a8\"],[0.3333333333333333,\"#9c179e\"],[0.4444444444444444,\"#bd3786\"],[0.5555555555555556,\"#d8576b\"],[0.6666666666666666,\"#ed7953\"],[0.7777777777777778,\"#fb9f3a\"],[0.8888888888888888,\"#fdca26\"],[1.0,\"#f0f921\"]]}],\"surface\":[{\"type\":\"surface\",\"colorbar\":{\"outlinewidth\":0,\"ticks\":\"\"},\"colorscale\":[[0.0,\"#0d0887\"],[0.1111111111111111,\"#46039f\"],[0.2222222222222222,\"#7201a8\"],[0.3333333333333333,\"#9c179e\"],[0.4444444444444444,\"#bd3786\"],[0.5555555555555556,\"#d8576b\"],[0.6666666666666666,\"#ed7953\"],[0.7777777777777778,\"#fb9f3a\"],[0.8888888888888888,\"#fdca26\"],[1.0,\"#f0f921\"]]}],\"mesh3d\":[{\"type\":\"mesh3d\",\"colorbar\":{\"outlinewidth\":0,\"ticks\":\"\"}}],\"scatter\":[{\"fillpattern\":{\"fillmode\":\"overlay\",\"size\":10,\"solidity\":0.2},\"type\":\"scatter\"}],\"parcoords\":[{\"type\":\"parcoords\",\"line\":{\"colorbar\":{\"outlinewidth\":0,\"ticks\":\"\"}}}],\"scatterpolargl\":[{\"type\":\"scatterpolargl\",\"marker\":{\"colorbar\":{\"outlinewidth\":0,\"ticks\":\"\"}}}],\"bar\":[{\"error_x\":{\"color\":\"#2a3f5f\"},\"error_y\":{\"color\":\"#2a3f5f\"},\"marker\":{\"line\":{\"color\":\"#E5ECF6\",\"width\":0.5},\"pattern\":{\"fillmode\":\"overlay\",\"size\":10,\"solidity\":0.2}},\"type\":\"bar\"}],\"scattergeo\":[{\"type\":\"scattergeo\",\"marker\":{\"colorbar\":{\"outlinewidth\":0,\"ticks\":\"\"}}}],\"scatterpolar\":[{\"type\":\"scatterpolar\",\"marker\":{\"colorbar\":{\"outlinewidth\":0,\"ticks\":\"\"}}}],\"histogram\":[{\"marker\":{\"pattern\":{\"fillmode\":\"overlay\",\"size\":10,\"solidity\":0.2}},\"type\":\"histogram\"}],\"scattergl\":[{\"type\":\"scattergl\",\"marker\":{\"colorbar\":{\"outlinewidth\":0,\"ticks\":\"\"}}}],\"scatter3d\":[{\"type\":\"scatter3d\",\"line\":{\"colorbar\":{\"outlinewidth\":0,\"ticks\":\"\"}},\"marker\":{\"colorbar\":{\"outlinewidth\":0,\"ticks\":\"\"}}}],\"scattermapbox\":[{\"type\":\"scattermapbox\",\"marker\":{\"colorbar\":{\"outlinewidth\":0,\"ticks\":\"\"}}}],\"scatterternary\":[{\"type\":\"scatterternary\",\"marker\":{\"colorbar\":{\"outlinewidth\":0,\"ticks\":\"\"}}}],\"scattercarpet\":[{\"type\":\"scattercarpet\",\"marker\":{\"colorbar\":{\"outlinewidth\":0,\"ticks\":\"\"}}}],\"carpet\":[{\"aaxis\":{\"endlinecolor\":\"#2a3f5f\",\"gridcolor\":\"white\",\"linecolor\":\"white\",\"minorgridcolor\":\"white\",\"startlinecolor\":\"#2a3f5f\"},\"baxis\":{\"endlinecolor\":\"#2a3f5f\",\"gridcolor\":\"white\",\"linecolor\":\"white\",\"minorgridcolor\":\"white\",\"startlinecolor\":\"#2a3f5f\"},\"type\":\"carpet\"}],\"table\":[{\"cells\":{\"fill\":{\"color\":\"#EBF0F8\"},\"line\":{\"color\":\"white\"}},\"header\":{\"fill\":{\"color\":\"#C8D4E3\"},\"line\":{\"color\":\"white\"}},\"type\":\"table\"}],\"barpolar\":[{\"marker\":{\"line\":{\"color\":\"#E5ECF6\",\"width\":0.5},\"pattern\":{\"fillmode\":\"overlay\",\"size\":10,\"solidity\":0.2}},\"type\":\"barpolar\"}],\"pie\":[{\"automargin\":true,\"type\":\"pie\"}]},\"layout\":{\"autotypenumbers\":\"strict\",\"colorway\":[\"#636efa\",\"#EF553B\",\"#00cc96\",\"#ab63fa\",\"#FFA15A\",\"#19d3f3\",\"#FF6692\",\"#B6E880\",\"#FF97FF\",\"#FECB52\"],\"font\":{\"color\":\"#2a3f5f\"},\"hovermode\":\"closest\",\"hoverlabel\":{\"align\":\"left\"},\"paper_bgcolor\":\"white\",\"plot_bgcolor\":\"#E5ECF6\",\"polar\":{\"bgcolor\":\"#E5ECF6\",\"angularaxis\":{\"gridcolor\":\"white\",\"linecolor\":\"white\",\"ticks\":\"\"},\"radialaxis\":{\"gridcolor\":\"white\",\"linecolor\":\"white\",\"ticks\":\"\"}},\"ternary\":{\"bgcolor\":\"#E5ECF6\",\"aaxis\":{\"gridcolor\":\"white\",\"linecolor\":\"white\",\"ticks\":\"\"},\"baxis\":{\"gridcolor\":\"white\",\"linecolor\":\"white\",\"ticks\":\"\"},\"caxis\":{\"gridcolor\":\"white\",\"linecolor\":\"white\",\"ticks\":\"\"}},\"coloraxis\":{\"colorbar\":{\"outlinewidth\":0,\"ticks\":\"\"}},\"colorscale\":{\"sequential\":[[0.0,\"#0d0887\"],[0.1111111111111111,\"#46039f\"],[0.2222222222222222,\"#7201a8\"],[0.3333333333333333,\"#9c179e\"],[0.4444444444444444,\"#bd3786\"],[0.5555555555555556,\"#d8576b\"],[0.6666666666666666,\"#ed7953\"],[0.7777777777777778,\"#fb9f3a\"],[0.8888888888888888,\"#fdca26\"],[1.0,\"#f0f921\"]],\"sequentialminus\":[[0.0,\"#0d0887\"],[0.1111111111111111,\"#46039f\"],[0.2222222222222222,\"#7201a8\"],[0.3333333333333333,\"#9c179e\"],[0.4444444444444444,\"#bd3786\"],[0.5555555555555556,\"#d8576b\"],[0.6666666666666666,\"#ed7953\"],[0.7777777777777778,\"#fb9f3a\"],[0.8888888888888888,\"#fdca26\"],[1.0,\"#f0f921\"]],\"diverging\":[[0,\"#8e0152\"],[0.1,\"#c51b7d\"],[0.2,\"#de77ae\"],[0.3,\"#f1b6da\"],[0.4,\"#fde0ef\"],[0.5,\"#f7f7f7\"],[0.6,\"#e6f5d0\"],[0.7,\"#b8e186\"],[0.8,\"#7fbc41\"],[0.9,\"#4d9221\"],[1,\"#276419\"]]},\"xaxis\":{\"gridcolor\":\"white\",\"linecolor\":\"white\",\"ticks\":\"\",\"title\":{\"standoff\":15},\"zerolinecolor\":\"white\",\"automargin\":true,\"zerolinewidth\":2},\"yaxis\":{\"gridcolor\":\"white\",\"linecolor\":\"white\",\"ticks\":\"\",\"title\":{\"standoff\":15},\"zerolinecolor\":\"white\",\"automargin\":true,\"zerolinewidth\":2},\"scene\":{\"xaxis\":{\"backgroundcolor\":\"#E5ECF6\",\"gridcolor\":\"white\",\"linecolor\":\"white\",\"showbackground\":true,\"ticks\":\"\",\"zerolinecolor\":\"white\",\"gridwidth\":2},\"yaxis\":{\"backgroundcolor\":\"#E5ECF6\",\"gridcolor\":\"white\",\"linecolor\":\"white\",\"showbackground\":true,\"ticks\":\"\",\"zerolinecolor\":\"white\",\"gridwidth\":2},\"zaxis\":{\"backgroundcolor\":\"#E5ECF6\",\"gridcolor\":\"white\",\"linecolor\":\"white\",\"showbackground\":true,\"ticks\":\"\",\"zerolinecolor\":\"white\",\"gridwidth\":2}},\"shapedefaults\":{\"line\":{\"color\":\"#2a3f5f\"}},\"annotationdefaults\":{\"arrowcolor\":\"#2a3f5f\",\"arrowhead\":0,\"arrowwidth\":1},\"geo\":{\"bgcolor\":\"white\",\"landcolor\":\"#E5ECF6\",\"subunitcolor\":\"white\",\"showland\":true,\"showlakes\":true,\"lakecolor\":\"white\"},\"title\":{\"x\":0.05},\"mapbox\":{\"style\":\"light\"}}},\"showlegend\":false},                        {\"responsive\": true}                    ).then(function(){\n",
       "                            \n",
       "var gd = document.getElementById('0d5546c4-7a49-44a9-8c46-c90856762da6');\n",
       "var x = new MutationObserver(function (mutations, observer) {{\n",
       "        var display = window.getComputedStyle(gd).display;\n",
       "        if (!display || display === 'none') {{\n",
       "            console.log([gd, 'removed!']);\n",
       "            Plotly.purge(gd);\n",
       "            observer.disconnect();\n",
       "        }}\n",
       "}});\n",
       "\n",
       "// Listen for the removal of the full notebook cells\n",
       "var notebookContainer = gd.closest('#notebook-container');\n",
       "if (notebookContainer) {{\n",
       "    x.observe(notebookContainer, {childList: true});\n",
       "}}\n",
       "\n",
       "// Listen for the clearing of the current output cell\n",
       "var outputEl = gd.closest('.output');\n",
       "if (outputEl) {{\n",
       "    x.observe(outputEl, {childList: true});\n",
       "}}\n",
       "\n",
       "                        })                };                });            </script>        </div>"
      ]
     },
     "metadata": {},
     "output_type": "display_data"
    }
   ],
   "source": [
    "plot_word_of_interest('classe')"
   ]
  },
  {
   "cell_type": "markdown",
   "id": "308bf791-8f4b-415f-9f5a-af90d6228fb7",
   "metadata": {},
   "source": [
    "## Concordancier"
   ]
  },
  {
   "cell_type": "code",
   "execution_count": 6,
   "id": "4126de43-deb9-47ac-bc66-ce9514f924c5",
   "metadata": {},
   "outputs": [
    {
     "data": {
      "text/html": [
       "<div>\n",
       "<style scoped>\n",
       "    .dataframe tbody tr th:only-of-type {\n",
       "        vertical-align: middle;\n",
       "    }\n",
       "\n",
       "    .dataframe tbody tr th {\n",
       "        vertical-align: top;\n",
       "    }\n",
       "\n",
       "    .dataframe thead th {\n",
       "        text-align: right;\n",
       "    }\n",
       "</style>\n",
       "<table border=\"1\" class=\"dataframe\">\n",
       "  <thead>\n",
       "    <tr style=\"text-align: right;\">\n",
       "      <th></th>\n",
       "      <th>token</th>\n",
       "      <th>relation</th>\n",
       "      <th>from_sentence</th>\n",
       "      <th>head_pos_tag</th>\n",
       "      <th>doc</th>\n",
       "    </tr>\n",
       "  </thead>\n",
       "  <tbody>\n",
       "    <tr>\n",
       "      <th>0</th>\n",
       "      <td>lexical</td>\n",
       "      <td>amod</td>\n",
       "      <td>doc1sent268</td>\n",
       "      <td>NOUN</td>\n",
       "      <td>doc1</td>\n",
       "    </tr>\n",
       "    <tr>\n",
       "      <th>1</th>\n",
       "      <td>effectué</td>\n",
       "      <td>acl</td>\n",
       "      <td>doc1sent268</td>\n",
       "      <td>NOUN</td>\n",
       "      <td>doc1</td>\n",
       "    </tr>\n",
       "    <tr>\n",
       "      <th>2</th>\n",
       "      <td>supplémentaire</td>\n",
       "      <td>amod</td>\n",
       "      <td>doc2sent111</td>\n",
       "      <td>NOUN</td>\n",
       "      <td>doc2</td>\n",
       "    </tr>\n",
       "    <tr>\n",
       "      <th>3</th>\n",
       "      <td>emploi</td>\n",
       "      <td>conj</td>\n",
       "      <td>doc4sent60</td>\n",
       "      <td>NOUN</td>\n",
       "      <td>doc4</td>\n",
       "    </tr>\n",
       "    <tr>\n",
       "      <th>4</th>\n",
       "      <td>études</td>\n",
       "      <td>conj</td>\n",
       "      <td>doc4sent622</td>\n",
       "      <td>NOUN</td>\n",
       "      <td>doc4</td>\n",
       "    </tr>\n",
       "    <tr>\n",
       "      <th>...</th>\n",
       "      <td>...</td>\n",
       "      <td>...</td>\n",
       "      <td>...</td>\n",
       "      <td>...</td>\n",
       "      <td>...</td>\n",
       "    </tr>\n",
       "    <tr>\n",
       "      <th>58</th>\n",
       "      <td>tourné</td>\n",
       "      <td>obl:arg</td>\n",
       "      <td>doc4sent356</td>\n",
       "      <td>VERB</td>\n",
       "      <td>doc4</td>\n",
       "    </tr>\n",
       "    <tr>\n",
       "      <th>59</th>\n",
       "      <td>organisation</td>\n",
       "      <td>nmod</td>\n",
       "      <td>doc4sent438</td>\n",
       "      <td>NOUN</td>\n",
       "      <td>doc4</td>\n",
       "    </tr>\n",
       "    <tr>\n",
       "      <th>60</th>\n",
       "      <td>contenu</td>\n",
       "      <td>nmod</td>\n",
       "      <td>doc4sent608</td>\n",
       "      <td>NOUN</td>\n",
       "      <td>doc4</td>\n",
       "    </tr>\n",
       "    <tr>\n",
       "      <th>61</th>\n",
       "      <td>rapports</td>\n",
       "      <td>nmod</td>\n",
       "      <td>doc4sent622</td>\n",
       "      <td>NOUN</td>\n",
       "      <td>doc4</td>\n",
       "    </tr>\n",
       "    <tr>\n",
       "      <th>62</th>\n",
       "      <td>horaires</td>\n",
       "      <td>nmod</td>\n",
       "      <td>doc4sent631</td>\n",
       "      <td>NOUN</td>\n",
       "      <td>doc4</td>\n",
       "    </tr>\n",
       "  </tbody>\n",
       "</table>\n",
       "<p>63 rows × 5 columns</p>\n",
       "</div>"
      ],
      "text/plain": [
       "             token relation from_sentence head_pos_tag   doc\n",
       "0          lexical     amod   doc1sent268         NOUN  doc1\n",
       "1         effectué      acl   doc1sent268         NOUN  doc1\n",
       "2   supplémentaire     amod   doc2sent111         NOUN  doc2\n",
       "3           emploi     conj    doc4sent60         NOUN  doc4\n",
       "4           études     conj   doc4sent622         NOUN  doc4\n",
       "..             ...      ...           ...          ...   ...\n",
       "58          tourné  obl:arg   doc4sent356         VERB  doc4\n",
       "59    organisation     nmod   doc4sent438         NOUN  doc4\n",
       "60         contenu     nmod   doc4sent608         NOUN  doc4\n",
       "61        rapports     nmod   doc4sent622         NOUN  doc4\n",
       "62        horaires     nmod   doc4sent631         NOUN  doc4\n",
       "\n",
       "[63 rows x 5 columns]"
      ]
     },
     "execution_count": 6,
     "metadata": {},
     "output_type": "execute_result"
    }
   ],
   "source": [
    "get_syntagmatic_data('travail')"
   ]
  },
  {
   "cell_type": "code",
   "execution_count": 7,
   "id": "958d5782-6ff4-436c-9a8f-61253e49767d",
   "metadata": {},
   "outputs": [],
   "source": [
    "test_sent = list(db.aql.execute('''\n",
    "    FOR sent in sentences\n",
    "    FILTER sent._key == 'doc1sent268'\n",
    "    RETURN sent.content\n",
    "'''))[0]"
   ]
  },
  {
   "cell_type": "code",
   "execution_count": 36,
   "id": "ad9d4bcc-08df-4eb7-b26f-cc62061b6121",
   "metadata": {},
   "outputs": [],
   "source": [
    "def return_phrase(key):\n",
    "    sent = list(db.aql.execute(f'''\n",
    "    FOR sent in sentences\n",
    "    FILTER sent._key == {\"'\"+ key +\"'\"}\n",
    "    RETURN sent.content\n",
    "'''))[0]\n",
    "    return sent"
   ]
  },
  {
   "cell_type": "code",
   "execution_count": 37,
   "id": "cb52b3f8-3bec-4266-adff-268e86ddb295",
   "metadata": {},
   "outputs": [
    {
     "data": {
      "text/plain": [
       "'Je ne vais pas faire inutilement durer le suspense : la réponse est oui.'"
      ]
     },
     "execution_count": 37,
     "metadata": {},
     "output_type": "execute_result"
    }
   ],
   "source": [
    "return_phrase('doc0sent0')"
   ]
  },
  {
   "cell_type": "code",
   "execution_count": 8,
   "id": "6ced5d14-cbbc-4d8d-9fd3-8036d216425d",
   "metadata": {},
   "outputs": [],
   "source": [
    "import matplotlib.pyplot as plt\n",
    "from matplotlib import transforms\n",
    "\n",
    "\n",
    "def rainbow_text(x, y, strings, colors, ax=None, **kw):\n",
    "    \"\"\"\n",
    "    Take a list of ``strings`` and ``colors`` and place them next to each\n",
    "    other, with text strings[i] being shown in colors[i].\n",
    "\n",
    "    This example shows how to do both vertical and horizontal text, and will\n",
    "    pass all keyword arguments to plt.text, so you can set the font size,\n",
    "    family, etc.\n",
    "\n",
    "    The text will get added to the ``ax`` axes, if provided, otherwise the\n",
    "    currently active axes will be used.\n",
    "    \"\"\"\n",
    "    if ax is None:\n",
    "        ax = plt.gca()\n",
    "    t = ax.transData\n",
    "    canvas = ax.figure.canvas\n",
    "    ax.axis('off')\n",
    "    # horizontal version\n",
    "    for s, c in zip(strings, colors):\n",
    "        text = ax.text(x, y, \" \" + s + \" \", color=c, transform=t, **kw)\n",
    "        text.draw(canvas.get_renderer())\n",
    "        ex = text.get_window_extent()\n",
    "        t = transforms.offset_copy(text._transform, x=ex.width, units='dots')"
   ]
  },
  {
   "cell_type": "code",
   "execution_count": 17,
   "id": "fbf6e6db-c6bf-4433-a495-09685cec9e9a",
   "metadata": {},
   "outputs": [],
   "source": [
    "test_sent_2 = 'je suis en mesure de couper une phrase'"
   ]
  },
  {
   "cell_type": "code",
   "execution_count": 18,
   "id": "cc2f2ef6-b564-42c3-ada8-692d96fe965b",
   "metadata": {},
   "outputs": [
    {
     "data": {
      "image/png": "[encoded data removed]",
      "text/plain": [
       "<Figure size 432x288 with 1 Axes>"
      ]
     },
     "metadata": {
      "needs_background": "light"
     },
     "output_type": "display_data"
    }
   ],
   "source": [
    "rainbow_text(0,1,test_sent_2.split(),('black ' * 52).split())"
   ]
  },
  {
   "cell_type": "code",
   "execution_count": 20,
   "id": "f9f49ad2-4bf1-4920-a05d-2727d30d6b41",
   "metadata": {},
   "outputs": [],
   "source": [
    "len(test_sent.split())"
   ]
  },
  {
   "cell_type": "code",
   "execution_count": 34,
   "id": "658f224f-0acc-4785-9a9a-0699d1a81682",
   "metadata": {},
   "outputs": [],
   "source": [
    "('black ' * 52).split()"
   ]
  },
  {
   "cell_type": "code",
   "execution_count": 35,
   "id": "b1c9233f-9e2e-47a5-91ac-2391b0d69303",
   "metadata": {},
   "outputs": [
    {
     "data": {
      "text/plain": [
       "'A cette période de leur vie, elles ne disposaient déja plus des mémes chan- ces objectives de réussite universitaire et d’accés a des emplois autres que celui d’employé peu qualifié, inégalités de destin qui permettent d’expliquer les dif- férences dans leurs fagons d’appréhender leur emploi de téléactrice et les études qu’elles ménent.'"
      ]
     },
     "execution_count": 35,
     "metadata": {},
     "output_type": "execute_result"
    }
   ],
   "source": [
    "test_sent"
   ]
  },
  {
   "cell_type": "code",
   "execution_count": 33,
   "id": "7f8b80b2-dad6-49ea-adec-375000244ebc",
   "metadata": {},
   "outputs": [
    {
     "data": {
      "application/vnd.plotly.v1+json": {
       "config": {
        "plotlyServerURL": "https://plot.ly"
       },
       "data": [
        {
         "mode": "text",
         "text": "A cette période de leur vie, elles ne disposaient déja plus des mémes \r chan- ces objectives de réussite universitaire et d’accés a des emplois autres que celui d’employé peu qualifié, inégalités de destin qui permettent d’expliquer les dif- férences dans leurs fagons d’appréhender leur emploi de téléactrice et les études qu’elles ménent.",
         "type": "scatter",
         "x": [
          0
         ],
         "y": [
          0
         ]
        }
       ],
       "layout": {
        "autosize": true,
        "template": {
         "data": {
          "bar": [
           {
            "error_x": {
             "color": "#2a3f5f"
            },
            "error_y": {
             "color": "#2a3f5f"
            },
            "marker": {
             "line": {
              "color": "#E5ECF6",
              "width": 0.5
             },
             "pattern": {
              "fillmode": "overlay",
              "size": 10,
              "solidity": 0.2
             }
            },
            "type": "bar"
           }
          ],
          "barpolar": [
           {
            "marker": {
             "line": {
              "color": "#E5ECF6",
              "width": 0.5
             },
             "pattern": {
              "fillmode": "overlay",
              "size": 10,
              "solidity": 0.2
             }
            },
            "type": "barpolar"
           }
          ],
          "carpet": [
           {
            "aaxis": {
             "endlinecolor": "#2a3f5f",
             "gridcolor": "white",
             "linecolor": "white",
             "minorgridcolor": "white",
             "startlinecolor": "#2a3f5f"
            },
            "baxis": {
             "endlinecolor": "#2a3f5f",
             "gridcolor": "white",
             "linecolor": "white",
             "minorgridcolor": "white",
             "startlinecolor": "#2a3f5f"
            },
            "type": "carpet"
           }
          ],
          "choropleth": [
           {
            "colorbar": {
             "outlinewidth": 0,
             "ticks": ""
            },
            "type": "choropleth"
           }
          ],
          "contour": [
           {
            "colorbar": {
             "outlinewidth": 0,
             "ticks": ""
            },
            "colorscale": [
             [
              0,
              "#0d0887"
             ],
             [
              0.1111111111111111,
              "#46039f"
             ],
             [
              0.2222222222222222,
              "#7201a8"
             ],
             [
              0.3333333333333333,
              "#9c179e"
             ],
             [
              0.4444444444444444,
              "#bd3786"
             ],
             [
              0.5555555555555556,
              "#d8576b"
             ],
             [
              0.6666666666666666,
              "#ed7953"
             ],
             [
              0.7777777777777778,
              "#fb9f3a"
             ],
             [
              0.8888888888888888,
              "#fdca26"
             ],
             [
              1,
              "#f0f921"
             ]
            ],
            "type": "contour"
           }
          ],
          "contourcarpet": [
           {
            "colorbar": {
             "outlinewidth": 0,
             "ticks": ""
            },
            "type": "contourcarpet"
           }
          ],
          "heatmap": [
           {
            "colorbar": {
             "outlinewidth": 0,
             "ticks": ""
            },
            "colorscale": [
             [
              0,
              "#0d0887"
             ],
             [
              0.1111111111111111,
              "#46039f"
             ],
             [
              0.2222222222222222,
              "#7201a8"
             ],
             [
              0.3333333333333333,
              "#9c179e"
             ],
             [
              0.4444444444444444,
              "#bd3786"
             ],
             [
              0.5555555555555556,
              "#d8576b"
             ],
             [
              0.6666666666666666,
              "#ed7953"
             ],
             [
              0.7777777777777778,
              "#fb9f3a"
             ],
             [
              0.8888888888888888,
              "#fdca26"
             ],
             [
              1,
              "#f0f921"
             ]
            ],
            "type": "heatmap"
           }
          ],
          "heatmapgl": [
           {
            "colorbar": {
             "outlinewidth": 0,
             "ticks": ""
            },
            "colorscale": [
             [
              0,
              "#0d0887"
             ],
             [
              0.1111111111111111,
              "#46039f"
             ],
             [
              0.2222222222222222,
              "#7201a8"
             ],
             [
              0.3333333333333333,
              "#9c179e"
             ],
             [
              0.4444444444444444,
              "#bd3786"
             ],
             [
              0.5555555555555556,
              "#d8576b"
             ],
             [
              0.6666666666666666,
              "#ed7953"
             ],
             [
              0.7777777777777778,
              "#fb9f3a"
             ],
             [
              0.8888888888888888,
              "#fdca26"
             ],
             [
              1,
              "#f0f921"
             ]
            ],
            "type": "heatmapgl"
           }
          ],
          "histogram": [
           {
            "marker": {
             "pattern": {
              "fillmode": "overlay",
              "size": 10,
              "solidity": 0.2
             }
            },
            "type": "histogram"
           }
          ],
          "histogram2d": [
           {
            "colorbar": {
             "outlinewidth": 0,
             "ticks": ""
            },
            "colorscale": [
             [
              0,
              "#0d0887"
             ],
             [
              0.1111111111111111,
              "#46039f"
             ],
             [
              0.2222222222222222,
              "#7201a8"
             ],
             [
              0.3333333333333333,
              "#9c179e"
             ],
             [
              0.4444444444444444,
              "#bd3786"
             ],
             [
              0.5555555555555556,
              "#d8576b"
             ],
             [
              0.6666666666666666,
              "#ed7953"
             ],
             [
              0.7777777777777778,
              "#fb9f3a"
             ],
             [
              0.8888888888888888,
              "#fdca26"
             ],
             [
              1,
              "#f0f921"
             ]
            ],
            "type": "histogram2d"
           }
          ],
          "histogram2dcontour": [
           {
            "colorbar": {
             "outlinewidth": 0,
             "ticks": ""
            },
            "colorscale": [
             [
              0,
              "#0d0887"
             ],
             [
              0.1111111111111111,
              "#46039f"
             ],
             [
              0.2222222222222222,
              "#7201a8"
             ],
             [
              0.3333333333333333,
              "#9c179e"
             ],
             [
              0.4444444444444444,
              "#bd3786"
             ],
             [
              0.5555555555555556,
              "#d8576b"
             ],
             [
              0.6666666666666666,
              "#ed7953"
             ],
             [
              0.7777777777777778,
              "#fb9f3a"
             ],
             [
              0.8888888888888888,
              "#fdca26"
             ],
             [
              1,
              "#f0f921"
             ]
            ],
            "type": "histogram2dcontour"
           }
          ],
          "mesh3d": [
           {
            "colorbar": {
             "outlinewidth": 0,
             "ticks": ""
            },
            "type": "mesh3d"
           }
          ],
          "parcoords": [
           {
            "line": {
             "colorbar": {
              "outlinewidth": 0,
              "ticks": ""
             }
            },
            "type": "parcoords"
           }
          ],
          "pie": [
           {
            "automargin": true,
            "type": "pie"
           }
          ],
          "scatter": [
           {
            "fillpattern": {
             "fillmode": "overlay",
             "size": 10,
             "solidity": 0.2
            },
            "type": "scatter"
           }
          ],
          "scatter3d": [
           {
            "line": {
             "colorbar": {
              "outlinewidth": 0,
              "ticks": ""
             }
            },
            "marker": {
             "colorbar": {
              "outlinewidth": 0,
              "ticks": ""
             }
            },
            "type": "scatter3d"
           }
          ],
          "scattercarpet": [
           {
            "marker": {
             "colorbar": {
              "outlinewidth": 0,
              "ticks": ""
             }
            },
            "type": "scattercarpet"
           }
          ],
          "scattergeo": [
           {
            "marker": {
             "colorbar": {
              "outlinewidth": 0,
              "ticks": ""
             }
            },
            "type": "scattergeo"
           }
          ],
          "scattergl": [
           {
            "marker": {
             "colorbar": {
              "outlinewidth": 0,
              "ticks": ""
             }
            },
            "type": "scattergl"
           }
          ],
          "scattermapbox": [
           {
            "marker": {
             "colorbar": {
              "outlinewidth": 0,
              "ticks": ""
             }
            },
            "type": "scattermapbox"
           }
          ],
          "scatterpolar": [
           {
            "marker": {
             "colorbar": {
              "outlinewidth": 0,
              "ticks": ""
             }
            },
            "type": "scatterpolar"
           }
          ],
          "scatterpolargl": [
           {
            "marker": {
             "colorbar": {
              "outlinewidth": 0,
              "ticks": ""
             }
            },
            "type": "scatterpolargl"
           }
          ],
          "scatterternary": [
           {
            "marker": {
             "colorbar": {
              "outlinewidth": 0,
              "ticks": ""
             }
            },
            "type": "scatterternary"
           }
          ],
          "surface": [
           {
            "colorbar": {
             "outlinewidth": 0,
             "ticks": ""
            },
            "colorscale": [
             [
              0,
              "#0d0887"
             ],
             [
              0.1111111111111111,
              "#46039f"
             ],
             [
              0.2222222222222222,
              "#7201a8"
             ],
             [
              0.3333333333333333,
              "#9c179e"
             ],
             [
              0.4444444444444444,
              "#bd3786"
             ],
             [
              0.5555555555555556,
              "#d8576b"
             ],
             [
              0.6666666666666666,
              "#ed7953"
             ],
             [
              0.7777777777777778,
              "#fb9f3a"
             ],
             [
              0.8888888888888888,
              "#fdca26"
             ],
             [
              1,
              "#f0f921"
             ]
            ],
            "type": "surface"
           }
          ],
          "table": [
           {
            "cells": {
             "fill": {
              "color": "#EBF0F8"
             },
             "line": {
              "color": "white"
             }
            },
            "header": {
             "fill": {
              "color": "#C8D4E3"
             },
             "line": {
              "color": "white"
             }
            },
            "type": "table"
           }
          ]
         },
         "layout": {
          "annotationdefaults": {
           "arrowcolor": "#2a3f5f",
           "arrowhead": 0,
           "arrowwidth": 1
          },
          "autotypenumbers": "strict",
          "coloraxis": {
           "colorbar": {
            "outlinewidth": 0,
            "ticks": ""
           }
          },
          "colorscale": {
           "diverging": [
            [
             0,
             "#8e0152"
            ],
            [
             0.1,
             "#c51b7d"
            ],
            [
             0.2,
             "#de77ae"
            ],
            [
             0.3,
             "#f1b6da"
            ],
            [
             0.4,
             "#fde0ef"
            ],
            [
             0.5,
             "#f7f7f7"
            ],
            [
             0.6,
             "#e6f5d0"
            ],
            [
             0.7,
             "#b8e186"
            ],
            [
             0.8,
             "#7fbc41"
            ],
            [
             0.9,
             "#4d9221"
            ],
            [
             1,
             "#276419"
            ]
           ],
           "sequential": [
            [
             0,
             "#0d0887"
            ],
            [
             0.1111111111111111,
             "#46039f"
            ],
            [
             0.2222222222222222,
             "#7201a8"
            ],
            [
             0.3333333333333333,
             "#9c179e"
            ],
            [
             0.4444444444444444,
             "#bd3786"
            ],
            [
             0.5555555555555556,
             "#d8576b"
            ],
            [
             0.6666666666666666,
             "#ed7953"
            ],
            [
             0.7777777777777778,
             "#fb9f3a"
            ],
            [
             0.8888888888888888,
             "#fdca26"
            ],
            [
             1,
             "#f0f921"
            ]
           ],
           "sequentialminus": [
            [
             0,
             "#0d0887"
            ],
            [
             0.1111111111111111,
             "#46039f"
            ],
            [
             0.2222222222222222,
             "#7201a8"
            ],
            [
             0.3333333333333333,
             "#9c179e"
            ],
            [
             0.4444444444444444,
             "#bd3786"
            ],
            [
             0.5555555555555556,
             "#d8576b"
            ],
            [
             0.6666666666666666,
             "#ed7953"
            ],
            [
             0.7777777777777778,
             "#fb9f3a"
            ],
            [
             0.8888888888888888,
             "#fdca26"
            ],
            [
             1,
             "#f0f921"
            ]
           ]
          },
          "colorway": [
           "#636efa",
           "#EF553B",
           "#00cc96",
           "#ab63fa",
           "#FFA15A",
           "#19d3f3",
           "#FF6692",
           "#B6E880",
           "#FF97FF",
           "#FECB52"
          ],
          "font": {
           "color": "#2a3f5f"
          },
          "geo": {
           "bgcolor": "white",
           "lakecolor": "white",
           "landcolor": "#E5ECF6",
           "showlakes": true,
           "showland": true,
           "subunitcolor": "white"
          },
          "hoverlabel": {
           "align": "left"
          },
          "hovermode": "closest",
          "mapbox": {
           "style": "light"
          },
          "paper_bgcolor": "white",
          "plot_bgcolor": "#E5ECF6",
          "polar": {
           "angularaxis": {
            "gridcolor": "white",
            "linecolor": "white",
            "ticks": ""
           },
           "bgcolor": "#E5ECF6",
           "radialaxis": {
            "gridcolor": "white",
            "linecolor": "white",
            "ticks": ""
           }
          },
          "scene": {
           "xaxis": {
            "backgroundcolor": "#E5ECF6",
            "gridcolor": "white",
            "gridwidth": 2,
            "linecolor": "white",
            "showbackground": true,
            "ticks": "",
            "zerolinecolor": "white"
           },
           "yaxis": {
            "backgroundcolor": "#E5ECF6",
            "gridcolor": "white",
            "gridwidth": 2,
            "linecolor": "white",
            "showbackground": true,
            "ticks": "",
            "zerolinecolor": "white"
           },
           "zaxis": {
            "backgroundcolor": "#E5ECF6",
            "gridcolor": "white",
            "gridwidth": 2,
            "linecolor": "white",
            "showbackground": true,
            "ticks": "",
            "zerolinecolor": "white"
           }
          },
          "shapedefaults": {
           "line": {
            "color": "#2a3f5f"
           }
          },
          "ternary": {
           "aaxis": {
            "gridcolor": "white",
            "linecolor": "white",
            "ticks": ""
           },
           "baxis": {
            "gridcolor": "white",
            "linecolor": "white",
            "ticks": ""
           },
           "bgcolor": "#E5ECF6",
           "caxis": {
            "gridcolor": "white",
            "linecolor": "white",
            "ticks": ""
           }
          },
          "title": {
           "x": 0.05
          },
          "xaxis": {
           "automargin": true,
           "gridcolor": "white",
           "linecolor": "white",
           "ticks": "",
           "title": {
            "standoff": 15
           },
           "zerolinecolor": "white",
           "zerolinewidth": 2
          },
          "yaxis": {
           "automargin": true,
           "gridcolor": "white",
           "linecolor": "white",
           "ticks": "",
           "title": {
            "standoff": 15
           },
           "zerolinecolor": "white",
           "zerolinewidth": 2
          }
         }
        },
        "xaxis": {
         "autorange": true,
         "range": [
          -1,
          1
         ],
         "type": "linear"
        },
        "yaxis": {
         "autorange": true,
         "range": [
          -1,
          1
         ],
         "type": "linear"
        }
       }
      },
      "image/png": "[encoded data removed]",
      "text/html": [
       "<div>                            <div id=\"840205cd-822e-47f2-af71-29dbd24981fa\" class=\"plotly-graph-div\" style=\"height:525px; width:100%;\"></div>            <script type=\"text/javascript\">                require([\"plotly\"], function(Plotly) {                    window.PLOTLYENV=window.PLOTLYENV || {};                                    if (document.getElementById(\"840205cd-822e-47f2-af71-29dbd24981fa\")) {                    Plotly.newPlot(                        \"840205cd-822e-47f2-af71-29dbd24981fa\",                        [{\"mode\":\"text\",\"text\":\"A cette p\\u00e9riode de leur vie, elles ne disposaient d\\u00e9ja plus des m\\u00e9mes \\r chan- ces objectives de r\\u00e9ussite universitaire et d\\u2019acc\\u00e9s a des emplois autres que celui d\\u2019employ\\u00e9 peu qualifi\\u00e9, in\\u00e9galit\\u00e9s de destin qui permettent d\\u2019expliquer les dif- f\\u00e9rences dans leurs fagons d\\u2019appr\\u00e9hender leur emploi de t\\u00e9l\\u00e9actrice et les \\u00e9tudes qu\\u2019elles m\\u00e9nent.\",\"x\":[0],\"y\":[0],\"type\":\"scatter\"}],                        {\"template\":{\"data\":{\"histogram2dcontour\":[{\"type\":\"histogram2dcontour\",\"colorbar\":{\"outlinewidth\":0,\"ticks\":\"\"},\"colorscale\":[[0.0,\"#0d0887\"],[0.1111111111111111,\"#46039f\"],[0.2222222222222222,\"#7201a8\"],[0.3333333333333333,\"#9c179e\"],[0.4444444444444444,\"#bd3786\"],[0.5555555555555556,\"#d8576b\"],[0.6666666666666666,\"#ed7953\"],[0.7777777777777778,\"#fb9f3a\"],[0.8888888888888888,\"#fdca26\"],[1.0,\"#f0f921\"]]}],\"choropleth\":[{\"type\":\"choropleth\",\"colorbar\":{\"outlinewidth\":0,\"ticks\":\"\"}}],\"histogram2d\":[{\"type\":\"histogram2d\",\"colorbar\":{\"outlinewidth\":0,\"ticks\":\"\"},\"colorscale\":[[0.0,\"#0d0887\"],[0.1111111111111111,\"#46039f\"],[0.2222222222222222,\"#7201a8\"],[0.3333333333333333,\"#9c179e\"],[0.4444444444444444,\"#bd3786\"],[0.5555555555555556,\"#d8576b\"],[0.6666666666666666,\"#ed7953\"],[0.7777777777777778,\"#fb9f3a\"],[0.8888888888888888,\"#fdca26\"],[1.0,\"#f0f921\"]]}],\"heatmap\":[{\"type\":\"heatmap\",\"colorbar\":{\"outlinewidth\":0,\"ticks\":\"\"},\"colorscale\":[[0.0,\"#0d0887\"],[0.1111111111111111,\"#46039f\"],[0.2222222222222222,\"#7201a8\"],[0.3333333333333333,\"#9c179e\"],[0.4444444444444444,\"#bd3786\"],[0.5555555555555556,\"#d8576b\"],[0.6666666666666666,\"#ed7953\"],[0.7777777777777778,\"#fb9f3a\"],[0.8888888888888888,\"#fdca26\"],[1.0,\"#f0f921\"]]}],\"heatmapgl\":[{\"type\":\"heatmapgl\",\"colorbar\":{\"outlinewidth\":0,\"ticks\":\"\"},\"colorscale\":[[0.0,\"#0d0887\"],[0.1111111111111111,\"#46039f\"],[0.2222222222222222,\"#7201a8\"],[0.3333333333333333,\"#9c179e\"],[0.4444444444444444,\"#bd3786\"],[0.5555555555555556,\"#d8576b\"],[0.6666666666666666,\"#ed7953\"],[0.7777777777777778,\"#fb9f3a\"],[0.8888888888888888,\"#fdca26\"],[1.0,\"#f0f921\"]]}],\"contourcarpet\":[{\"type\":\"contourcarpet\",\"colorbar\":{\"outlinewidth\":0,\"ticks\":\"\"}}],\"contour\":[{\"type\":\"contour\",\"colorbar\":{\"outlinewidth\":0,\"ticks\":\"\"},\"colorscale\":[[0.0,\"#0d0887\"],[0.1111111111111111,\"#46039f\"],[0.2222222222222222,\"#7201a8\"],[0.3333333333333333,\"#9c179e\"],[0.4444444444444444,\"#bd3786\"],[0.5555555555555556,\"#d8576b\"],[0.6666666666666666,\"#ed7953\"],[0.7777777777777778,\"#fb9f3a\"],[0.8888888888888888,\"#fdca26\"],[1.0,\"#f0f921\"]]}],\"surface\":[{\"type\":\"surface\",\"colorbar\":{\"outlinewidth\":0,\"ticks\":\"\"},\"colorscale\":[[0.0,\"#0d0887\"],[0.1111111111111111,\"#46039f\"],[0.2222222222222222,\"#7201a8\"],[0.3333333333333333,\"#9c179e\"],[0.4444444444444444,\"#bd3786\"],[0.5555555555555556,\"#d8576b\"],[0.6666666666666666,\"#ed7953\"],[0.7777777777777778,\"#fb9f3a\"],[0.8888888888888888,\"#fdca26\"],[1.0,\"#f0f921\"]]}],\"mesh3d\":[{\"type\":\"mesh3d\",\"colorbar\":{\"outlinewidth\":0,\"ticks\":\"\"}}],\"scatter\":[{\"fillpattern\":{\"fillmode\":\"overlay\",\"size\":10,\"solidity\":0.2},\"type\":\"scatter\"}],\"parcoords\":[{\"type\":\"parcoords\",\"line\":{\"colorbar\":{\"outlinewidth\":0,\"ticks\":\"\"}}}],\"scatterpolargl\":[{\"type\":\"scatterpolargl\",\"marker\":{\"colorbar\":{\"outlinewidth\":0,\"ticks\":\"\"}}}],\"bar\":[{\"error_x\":{\"color\":\"#2a3f5f\"},\"error_y\":{\"color\":\"#2a3f5f\"},\"marker\":{\"line\":{\"color\":\"#E5ECF6\",\"width\":0.5},\"pattern\":{\"fillmode\":\"overlay\",\"size\":10,\"solidity\":0.2}},\"type\":\"bar\"}],\"scattergeo\":[{\"type\":\"scattergeo\",\"marker\":{\"colorbar\":{\"outlinewidth\":0,\"ticks\":\"\"}}}],\"scatterpolar\":[{\"type\":\"scatterpolar\",\"marker\":{\"colorbar\":{\"outlinewidth\":0,\"ticks\":\"\"}}}],\"histogram\":[{\"marker\":{\"pattern\":{\"fillmode\":\"overlay\",\"size\":10,\"solidity\":0.2}},\"type\":\"histogram\"}],\"scattergl\":[{\"type\":\"scattergl\",\"marker\":{\"colorbar\":{\"outlinewidth\":0,\"ticks\":\"\"}}}],\"scatter3d\":[{\"type\":\"scatter3d\",\"line\":{\"colorbar\":{\"outlinewidth\":0,\"ticks\":\"\"}},\"marker\":{\"colorbar\":{\"outlinewidth\":0,\"ticks\":\"\"}}}],\"scattermapbox\":[{\"type\":\"scattermapbox\",\"marker\":{\"colorbar\":{\"outlinewidth\":0,\"ticks\":\"\"}}}],\"scatterternary\":[{\"type\":\"scatterternary\",\"marker\":{\"colorbar\":{\"outlinewidth\":0,\"ticks\":\"\"}}}],\"scattercarpet\":[{\"type\":\"scattercarpet\",\"marker\":{\"colorbar\":{\"outlinewidth\":0,\"ticks\":\"\"}}}],\"carpet\":[{\"aaxis\":{\"endlinecolor\":\"#2a3f5f\",\"gridcolor\":\"white\",\"linecolor\":\"white\",\"minorgridcolor\":\"white\",\"startlinecolor\":\"#2a3f5f\"},\"baxis\":{\"endlinecolor\":\"#2a3f5f\",\"gridcolor\":\"white\",\"linecolor\":\"white\",\"minorgridcolor\":\"white\",\"startlinecolor\":\"#2a3f5f\"},\"type\":\"carpet\"}],\"table\":[{\"cells\":{\"fill\":{\"color\":\"#EBF0F8\"},\"line\":{\"color\":\"white\"}},\"header\":{\"fill\":{\"color\":\"#C8D4E3\"},\"line\":{\"color\":\"white\"}},\"type\":\"table\"}],\"barpolar\":[{\"marker\":{\"line\":{\"color\":\"#E5ECF6\",\"width\":0.5},\"pattern\":{\"fillmode\":\"overlay\",\"size\":10,\"solidity\":0.2}},\"type\":\"barpolar\"}],\"pie\":[{\"automargin\":true,\"type\":\"pie\"}]},\"layout\":{\"autotypenumbers\":\"strict\",\"colorway\":[\"#636efa\",\"#EF553B\",\"#00cc96\",\"#ab63fa\",\"#FFA15A\",\"#19d3f3\",\"#FF6692\",\"#B6E880\",\"#FF97FF\",\"#FECB52\"],\"font\":{\"color\":\"#2a3f5f\"},\"hovermode\":\"closest\",\"hoverlabel\":{\"align\":\"left\"},\"paper_bgcolor\":\"white\",\"plot_bgcolor\":\"#E5ECF6\",\"polar\":{\"bgcolor\":\"#E5ECF6\",\"angularaxis\":{\"gridcolor\":\"white\",\"linecolor\":\"white\",\"ticks\":\"\"},\"radialaxis\":{\"gridcolor\":\"white\",\"linecolor\":\"white\",\"ticks\":\"\"}},\"ternary\":{\"bgcolor\":\"#E5ECF6\",\"aaxis\":{\"gridcolor\":\"white\",\"linecolor\":\"white\",\"ticks\":\"\"},\"baxis\":{\"gridcolor\":\"white\",\"linecolor\":\"white\",\"ticks\":\"\"},\"caxis\":{\"gridcolor\":\"white\",\"linecolor\":\"white\",\"ticks\":\"\"}},\"coloraxis\":{\"colorbar\":{\"outlinewidth\":0,\"ticks\":\"\"}},\"colorscale\":{\"sequential\":[[0.0,\"#0d0887\"],[0.1111111111111111,\"#46039f\"],[0.2222222222222222,\"#7201a8\"],[0.3333333333333333,\"#9c179e\"],[0.4444444444444444,\"#bd3786\"],[0.5555555555555556,\"#d8576b\"],[0.6666666666666666,\"#ed7953\"],[0.7777777777777778,\"#fb9f3a\"],[0.8888888888888888,\"#fdca26\"],[1.0,\"#f0f921\"]],\"sequentialminus\":[[0.0,\"#0d0887\"],[0.1111111111111111,\"#46039f\"],[0.2222222222222222,\"#7201a8\"],[0.3333333333333333,\"#9c179e\"],[0.4444444444444444,\"#bd3786\"],[0.5555555555555556,\"#d8576b\"],[0.6666666666666666,\"#ed7953\"],[0.7777777777777778,\"#fb9f3a\"],[0.8888888888888888,\"#fdca26\"],[1.0,\"#f0f921\"]],\"diverging\":[[0,\"#8e0152\"],[0.1,\"#c51b7d\"],[0.2,\"#de77ae\"],[0.3,\"#f1b6da\"],[0.4,\"#fde0ef\"],[0.5,\"#f7f7f7\"],[0.6,\"#e6f5d0\"],[0.7,\"#b8e186\"],[0.8,\"#7fbc41\"],[0.9,\"#4d9221\"],[1,\"#276419\"]]},\"xaxis\":{\"gridcolor\":\"white\",\"linecolor\":\"white\",\"ticks\":\"\",\"title\":{\"standoff\":15},\"zerolinecolor\":\"white\",\"automargin\":true,\"zerolinewidth\":2},\"yaxis\":{\"gridcolor\":\"white\",\"linecolor\":\"white\",\"ticks\":\"\",\"title\":{\"standoff\":15},\"zerolinecolor\":\"white\",\"automargin\":true,\"zerolinewidth\":2},\"scene\":{\"xaxis\":{\"backgroundcolor\":\"#E5ECF6\",\"gridcolor\":\"white\",\"linecolor\":\"white\",\"showbackground\":true,\"ticks\":\"\",\"zerolinecolor\":\"white\",\"gridwidth\":2},\"yaxis\":{\"backgroundcolor\":\"#E5ECF6\",\"gridcolor\":\"white\",\"linecolor\":\"white\",\"showbackground\":true,\"ticks\":\"\",\"zerolinecolor\":\"white\",\"gridwidth\":2},\"zaxis\":{\"backgroundcolor\":\"#E5ECF6\",\"gridcolor\":\"white\",\"linecolor\":\"white\",\"showbackground\":true,\"ticks\":\"\",\"zerolinecolor\":\"white\",\"gridwidth\":2}},\"shapedefaults\":{\"line\":{\"color\":\"#2a3f5f\"}},\"annotationdefaults\":{\"arrowcolor\":\"#2a3f5f\",\"arrowhead\":0,\"arrowwidth\":1},\"geo\":{\"bgcolor\":\"white\",\"landcolor\":\"#E5ECF6\",\"subunitcolor\":\"white\",\"showland\":true,\"showlakes\":true,\"lakecolor\":\"white\"},\"title\":{\"x\":0.05},\"mapbox\":{\"style\":\"light\"}}}},                        {\"responsive\": true}                    ).then(function(){\n",
       "                            \n",
       "var gd = document.getElementById('840205cd-822e-47f2-af71-29dbd24981fa');\n",
       "var x = new MutationObserver(function (mutations, observer) {{\n",
       "        var display = window.getComputedStyle(gd).display;\n",
       "        if (!display || display === 'none') {{\n",
       "            console.log([gd, 'removed!']);\n",
       "            Plotly.purge(gd);\n",
       "            observer.disconnect();\n",
       "        }}\n",
       "}});\n",
       "\n",
       "// Listen for the removal of the full notebook cells\n",
       "var notebookContainer = gd.closest('#notebook-container');\n",
       "if (notebookContainer) {{\n",
       "    x.observe(notebookContainer, {childList: true});\n",
       "}}\n",
       "\n",
       "// Listen for the clearing of the current output cell\n",
       "var outputEl = gd.closest('.output');\n",
       "if (outputEl) {{\n",
       "    x.observe(outputEl, {childList: true});\n",
       "}}\n",
       "\n",
       "                        })                };                });            </script>        </div>"
      ]
     },
     "metadata": {},
     "output_type": "display_data"
    }
   ],
   "source": [
    "fig = go.Figure()\n",
    "\n",
    "fig.add_trace(go.Scatter(\n",
    "    x = [0],\n",
    "    y = [0],\n",
    "    mode = 'text',\n",
    "    text='A cette période de leur vie, elles ne disposaient déja plus des mémes \\r chan- ces objectives de réussite universitaire et d’accés a des emplois autres que celui d’employé peu qualifié, inégalités de destin qui permettent d’expliquer les dif- férences dans leurs fagons d’appréhender leur emploi de téléactrice et les études qu’elles ménent.'))"
   ]
  },
  {
   "cell_type": "code",
   "execution_count": 38,
   "id": "abd58b52-c1e5-43dc-b6b8-a4ec84efcd67",
   "metadata": {},
   "outputs": [],
   "source": [
    "from dash import Dash, dcc, html\n",
    "from dash.dependencies import Input, Output"
   ]
  },
  {
   "cell_type": "code",
   "execution_count": 42,
   "id": "e4c5aa32-9fa5-465a-ade0-d0d649b92adf",
   "metadata": {},
   "outputs": [
    {
     "data": {
      "text/plain": [
       "\u001b[0;31mInit signature:\u001b[0m \u001b[0mOutput\u001b[0m\u001b[0;34m(\u001b[0m\u001b[0mcomponent_id\u001b[0m\u001b[0;34m,\u001b[0m \u001b[0mcomponent_property\u001b[0m\u001b[0;34m)\u001b[0m\u001b[0;34m\u001b[0m\u001b[0;34m\u001b[0m\u001b[0m\n",
       "\u001b[0;31mDocstring:\u001b[0m      Output of a callback.\n",
       "\u001b[0;31mFile:\u001b[0m           ~/projects/text explorer/text_explorer/lib/python3.8/site-packages/dash/dependencies.py\n",
       "\u001b[0;31mType:\u001b[0m           type\n",
       "\u001b[0;31mSubclasses:\u001b[0m     \n"
      ]
     },
     "metadata": {},
     "output_type": "display_data"
    }
   ],
   "source": []
  },
  {
   "cell_type": "code",
   "execution_count": 45,
   "id": "9bd013ee-2673-4b63-92e9-2a7363f9e622",
   "metadata": {},
   "outputs": [],
   "source": [
    "dcc.Graph?"
   ]
  },
  {
   "cell_type": "code",
   "execution_count": 46,
   "id": "1c16d0e7-e4a6-4613-af40-860719ab9406",
   "metadata": {},
   "outputs": [],
   "source": [
    "import json"
   ]
  },
  {
   "cell_type": "code",
   "execution_count": 82,
   "id": "2b428243-dd27-4035-8be3-9d8a375c9044",
   "metadata": {},
   "outputs": [],
   "source": [
    "classe_df = get_syntagmatic_data('classe')"
   ]
  },
  {
   "cell_type": "code",
   "execution_count": 91,
   "id": "d48f56c6-7c69-4cf0-83e3-582ac85a567a",
   "metadata": {},
   "outputs": [],
   "source": [
    "classe_df.value_counts('token')"
   ]
  },
  {
   "cell_type": "code",
   "execution_count": 93,
   "id": "6a229934-f8ac-4cde-8d2c-75a475d9c0e4",
   "metadata": {},
   "outputs": [
    {
     "data": {
      "text/html": [
       "<div>\n",
       "<style scoped>\n",
       "    .dataframe tbody tr th:only-of-type {\n",
       "        vertical-align: middle;\n",
       "    }\n",
       "\n",
       "    .dataframe tbody tr th {\n",
       "        vertical-align: top;\n",
       "    }\n",
       "\n",
       "    .dataframe thead th {\n",
       "        text-align: right;\n",
       "    }\n",
       "</style>\n",
       "<table border=\"1\" class=\"dataframe\">\n",
       "  <thead>\n",
       "    <tr style=\"text-align: right;\">\n",
       "      <th></th>\n",
       "      <th>token</th>\n",
       "      <th>relation</th>\n",
       "      <th>from_sentence</th>\n",
       "      <th>head_pos_tag</th>\n",
       "      <th>doc</th>\n",
       "    </tr>\n",
       "  </thead>\n",
       "  <tbody>\n",
       "    <tr>\n",
       "      <th>0</th>\n",
       "      <td>médias</td>\n",
       "      <td>nmod</td>\n",
       "      <td>doc1sent179</td>\n",
       "      <td>NOUN</td>\n",
       "      <td>doc1</td>\n",
       "    </tr>\n",
       "    <tr>\n",
       "      <th>1</th>\n",
       "      <td>conflit</td>\n",
       "      <td>nmod</td>\n",
       "      <td>doc1sent169</td>\n",
       "      <td>NOUN</td>\n",
       "      <td>doc1</td>\n",
       "    </tr>\n",
       "    <tr>\n",
       "      <th>2</th>\n",
       "      <td>histoire</td>\n",
       "      <td>nmod</td>\n",
       "      <td>doc1sent179</td>\n",
       "      <td>NOUN</td>\n",
       "      <td>doc1</td>\n",
       "    </tr>\n",
       "    <tr>\n",
       "      <th>3</th>\n",
       "      <td>classes</td>\n",
       "      <td>conj</td>\n",
       "      <td>doc1sent189</td>\n",
       "      <td>NOUN</td>\n",
       "      <td>doc1</td>\n",
       "    </tr>\n",
       "    <tr>\n",
       "      <th>4</th>\n",
       "      <td>dendrogramme</td>\n",
       "      <td>nmod</td>\n",
       "      <td>doc1sent139</td>\n",
       "      <td>NOUN</td>\n",
       "      <td>doc1</td>\n",
       "    </tr>\n",
       "    <tr>\n",
       "      <th>...</th>\n",
       "      <td>...</td>\n",
       "      <td>...</td>\n",
       "      <td>...</td>\n",
       "      <td>...</td>\n",
       "      <td>...</td>\n",
       "    </tr>\n",
       "    <tr>\n",
       "      <th>211</th>\n",
       "      <td>individus</td>\n",
       "      <td>nmod</td>\n",
       "      <td>doc3sent20</td>\n",
       "      <td>NOUN</td>\n",
       "      <td>doc3</td>\n",
       "    </tr>\n",
       "    <tr>\n",
       "      <th>212</th>\n",
       "      <td>inscrits</td>\n",
       "      <td>obl:mod</td>\n",
       "      <td>doc3sent49</td>\n",
       "      <td>VERB</td>\n",
       "      <td>doc3</td>\n",
       "    </tr>\n",
       "    <tr>\n",
       "      <th>213</th>\n",
       "      <td>inscrits</td>\n",
       "      <td>obl:mod</td>\n",
       "      <td>doc3sent158</td>\n",
       "      <td>VERB</td>\n",
       "      <td>doc3</td>\n",
       "    </tr>\n",
       "    <tr>\n",
       "      <th>214</th>\n",
       "      <td>rapports</td>\n",
       "      <td>nmod</td>\n",
       "      <td>doc4sent621</td>\n",
       "      <td>NOUN</td>\n",
       "      <td>doc4</td>\n",
       "    </tr>\n",
       "    <tr>\n",
       "      <th>215</th>\n",
       "      <td>gine</td>\n",
       "      <td>nmod</td>\n",
       "      <td>doc4sent74</td>\n",
       "      <td>NOUN</td>\n",
       "      <td>doc4</td>\n",
       "    </tr>\n",
       "  </tbody>\n",
       "</table>\n",
       "<p>216 rows × 5 columns</p>\n",
       "</div>"
      ],
      "text/plain": [
       "            token relation from_sentence head_pos_tag   doc\n",
       "0          médias     nmod   doc1sent179         NOUN  doc1\n",
       "1         conflit     nmod   doc1sent169         NOUN  doc1\n",
       "2        histoire     nmod   doc1sent179         NOUN  doc1\n",
       "3         classes     conj   doc1sent189         NOUN  doc1\n",
       "4    dendrogramme     nmod   doc1sent139         NOUN  doc1\n",
       "..            ...      ...           ...          ...   ...\n",
       "211     individus     nmod    doc3sent20         NOUN  doc3\n",
       "212      inscrits  obl:mod    doc3sent49         VERB  doc3\n",
       "213      inscrits  obl:mod   doc3sent158         VERB  doc3\n",
       "214      rapports     nmod   doc4sent621         NOUN  doc4\n",
       "215          gine     nmod    doc4sent74         NOUN  doc4\n",
       "\n",
       "[216 rows x 5 columns]"
      ]
     },
     "execution_count": 93,
     "metadata": {},
     "output_type": "execute_result"
    }
   ],
   "source": [
    "classe_df"
   ]
  },
  {
   "cell_type": "code",
   "execution_count": 95,
   "id": "e18d5fd9-c081-4242-a2c2-620f317897f4",
   "metadata": {},
   "outputs": [
    {
     "data": {
      "text/html": [
       "<div>\n",
       "<style scoped>\n",
       "    .dataframe tbody tr th:only-of-type {\n",
       "        vertical-align: middle;\n",
       "    }\n",
       "\n",
       "    .dataframe tbody tr th {\n",
       "        vertical-align: top;\n",
       "    }\n",
       "\n",
       "    .dataframe thead th {\n",
       "        text-align: right;\n",
       "    }\n",
       "</style>\n",
       "<table border=\"1\" class=\"dataframe\">\n",
       "  <thead>\n",
       "    <tr style=\"text-align: right;\">\n",
       "      <th></th>\n",
       "      <th>from_sentence</th>\n",
       "      <th>doc</th>\n",
       "    </tr>\n",
       "  </thead>\n",
       "  <tbody>\n",
       "    <tr>\n",
       "      <th>93</th>\n",
       "      <td>doc1sent156</td>\n",
       "      <td>doc1</td>\n",
       "    </tr>\n",
       "    <tr>\n",
       "      <th>94</th>\n",
       "      <td>doc1sent156</td>\n",
       "      <td>doc1</td>\n",
       "    </tr>\n",
       "    <tr>\n",
       "      <th>95</th>\n",
       "      <td>doc1sent156</td>\n",
       "      <td>doc1</td>\n",
       "    </tr>\n",
       "    <tr>\n",
       "      <th>192</th>\n",
       "      <td>doc2sent321</td>\n",
       "      <td>doc2</td>\n",
       "    </tr>\n",
       "    <tr>\n",
       "      <th>193</th>\n",
       "      <td>doc2sent352</td>\n",
       "      <td>doc2</td>\n",
       "    </tr>\n",
       "    <tr>\n",
       "      <th>194</th>\n",
       "      <td>doc2sent352</td>\n",
       "      <td>doc2</td>\n",
       "    </tr>\n",
       "  </tbody>\n",
       "</table>\n",
       "</div>"
      ],
      "text/plain": [
       "    from_sentence   doc\n",
       "93    doc1sent156  doc1\n",
       "94    doc1sent156  doc1\n",
       "95    doc1sent156  doc1\n",
       "192   doc2sent321  doc2\n",
       "193   doc2sent352  doc2\n",
       "194   doc2sent352  doc2"
      ]
     },
     "execution_count": 95,
     "metadata": {},
     "output_type": "execute_result"
    }
   ],
   "source": [
    "classe_df[classe_df['token'] == \"présente\"][['from_sentence','doc']]"
   ]
  },
  {
   "cell_type": "code",
   "execution_count": 83,
   "id": "a44c5a75-07b6-480f-a934-62e4e5a99cae",
   "metadata": {},
   "outputs": [
    {
     "data": {
      "text/html": [
       "<div>\n",
       "<style scoped>\n",
       "    .dataframe tbody tr th:only-of-type {\n",
       "        vertical-align: middle;\n",
       "    }\n",
       "\n",
       "    .dataframe tbody tr th {\n",
       "        vertical-align: top;\n",
       "    }\n",
       "\n",
       "    .dataframe thead th {\n",
       "        text-align: right;\n",
       "    }\n",
       "</style>\n",
       "<table border=\"1\" class=\"dataframe\">\n",
       "  <thead>\n",
       "    <tr style=\"text-align: right;\">\n",
       "      <th></th>\n",
       "      <th>token</th>\n",
       "      <th>relation</th>\n",
       "      <th>from_sentence</th>\n",
       "      <th>head_pos_tag</th>\n",
       "      <th>doc</th>\n",
       "    </tr>\n",
       "  </thead>\n",
       "  <tbody>\n",
       "    <tr>\n",
       "      <th>0</th>\n",
       "      <td>médias</td>\n",
       "      <td>nmod</td>\n",
       "      <td>doc1sent179</td>\n",
       "      <td>NOUN</td>\n",
       "      <td>doc1</td>\n",
       "    </tr>\n",
       "    <tr>\n",
       "      <th>1</th>\n",
       "      <td>conflit</td>\n",
       "      <td>nmod</td>\n",
       "      <td>doc1sent169</td>\n",
       "      <td>NOUN</td>\n",
       "      <td>doc1</td>\n",
       "    </tr>\n",
       "    <tr>\n",
       "      <th>2</th>\n",
       "      <td>histoire</td>\n",
       "      <td>nmod</td>\n",
       "      <td>doc1sent179</td>\n",
       "      <td>NOUN</td>\n",
       "      <td>doc1</td>\n",
       "    </tr>\n",
       "    <tr>\n",
       "      <th>3</th>\n",
       "      <td>classes</td>\n",
       "      <td>conj</td>\n",
       "      <td>doc1sent189</td>\n",
       "      <td>NOUN</td>\n",
       "      <td>doc1</td>\n",
       "    </tr>\n",
       "    <tr>\n",
       "      <th>4</th>\n",
       "      <td>dendrogramme</td>\n",
       "      <td>nmod</td>\n",
       "      <td>doc1sent139</td>\n",
       "      <td>NOUN</td>\n",
       "      <td>doc1</td>\n",
       "    </tr>\n",
       "    <tr>\n",
       "      <th>...</th>\n",
       "      <td>...</td>\n",
       "      <td>...</td>\n",
       "      <td>...</td>\n",
       "      <td>...</td>\n",
       "      <td>...</td>\n",
       "    </tr>\n",
       "    <tr>\n",
       "      <th>211</th>\n",
       "      <td>individus</td>\n",
       "      <td>nmod</td>\n",
       "      <td>doc3sent20</td>\n",
       "      <td>NOUN</td>\n",
       "      <td>doc3</td>\n",
       "    </tr>\n",
       "    <tr>\n",
       "      <th>212</th>\n",
       "      <td>inscrits</td>\n",
       "      <td>obl:mod</td>\n",
       "      <td>doc3sent49</td>\n",
       "      <td>VERB</td>\n",
       "      <td>doc3</td>\n",
       "    </tr>\n",
       "    <tr>\n",
       "      <th>213</th>\n",
       "      <td>inscrits</td>\n",
       "      <td>obl:mod</td>\n",
       "      <td>doc3sent158</td>\n",
       "      <td>VERB</td>\n",
       "      <td>doc3</td>\n",
       "    </tr>\n",
       "    <tr>\n",
       "      <th>214</th>\n",
       "      <td>rapports</td>\n",
       "      <td>nmod</td>\n",
       "      <td>doc4sent621</td>\n",
       "      <td>NOUN</td>\n",
       "      <td>doc4</td>\n",
       "    </tr>\n",
       "    <tr>\n",
       "      <th>215</th>\n",
       "      <td>gine</td>\n",
       "      <td>nmod</td>\n",
       "      <td>doc4sent74</td>\n",
       "      <td>NOUN</td>\n",
       "      <td>doc4</td>\n",
       "    </tr>\n",
       "  </tbody>\n",
       "</table>\n",
       "<p>216 rows × 5 columns</p>\n",
       "</div>"
      ],
      "text/plain": [
       "            token relation from_sentence head_pos_tag   doc\n",
       "0          médias     nmod   doc1sent179         NOUN  doc1\n",
       "1         conflit     nmod   doc1sent169         NOUN  doc1\n",
       "2        histoire     nmod   doc1sent179         NOUN  doc1\n",
       "3         classes     conj   doc1sent189         NOUN  doc1\n",
       "4    dendrogramme     nmod   doc1sent139         NOUN  doc1\n",
       "..            ...      ...           ...          ...   ...\n",
       "211     individus     nmod    doc3sent20         NOUN  doc3\n",
       "212      inscrits  obl:mod    doc3sent49         VERB  doc3\n",
       "213      inscrits  obl:mod   doc3sent158         VERB  doc3\n",
       "214      rapports     nmod   doc4sent621         NOUN  doc4\n",
       "215          gine     nmod    doc4sent74         NOUN  doc4\n",
       "\n",
       "[216 rows x 5 columns]"
      ]
     },
     "execution_count": 83,
     "metadata": {},
     "output_type": "execute_result"
    }
   ],
   "source": [
    "classe_df"
   ]
  },
  {
   "cell_type": "code",
   "execution_count": 147,
   "id": "6eda933e-b642-436a-a78f-708e0bb16975",
   "metadata": {},
   "outputs": [
    {
     "data": {
      "text/html": [
       "<div>\n",
       "<style scoped>\n",
       "    .dataframe tbody tr th:only-of-type {\n",
       "        vertical-align: middle;\n",
       "    }\n",
       "\n",
       "    .dataframe tbody tr th {\n",
       "        vertical-align: top;\n",
       "    }\n",
       "\n",
       "    .dataframe thead th {\n",
       "        text-align: right;\n",
       "    }\n",
       "</style>\n",
       "<table border=\"1\" class=\"dataframe\">\n",
       "  <thead>\n",
       "    <tr style=\"text-align: right;\">\n",
       "      <th></th>\n",
       "      <th>from_sentence</th>\n",
       "      <th>doc</th>\n",
       "    </tr>\n",
       "  </thead>\n",
       "  <tbody>\n",
       "    <tr>\n",
       "      <th>93</th>\n",
       "      <td>doc1sent156</td>\n",
       "      <td>doc1</td>\n",
       "    </tr>\n",
       "    <tr>\n",
       "      <th>94</th>\n",
       "      <td>doc1sent156</td>\n",
       "      <td>doc1</td>\n",
       "    </tr>\n",
       "    <tr>\n",
       "      <th>95</th>\n",
       "      <td>doc1sent156</td>\n",
       "      <td>doc1</td>\n",
       "    </tr>\n",
       "    <tr>\n",
       "      <th>192</th>\n",
       "      <td>doc2sent321</td>\n",
       "      <td>doc2</td>\n",
       "    </tr>\n",
       "    <tr>\n",
       "      <th>193</th>\n",
       "      <td>doc2sent352</td>\n",
       "      <td>doc2</td>\n",
       "    </tr>\n",
       "    <tr>\n",
       "      <th>194</th>\n",
       "      <td>doc2sent352</td>\n",
       "      <td>doc2</td>\n",
       "    </tr>\n",
       "  </tbody>\n",
       "</table>\n",
       "</div>"
      ],
      "text/plain": [
       "    from_sentence   doc\n",
       "93    doc1sent156  doc1\n",
       "94    doc1sent156  doc1\n",
       "95    doc1sent156  doc1\n",
       "192   doc2sent321  doc2\n",
       "193   doc2sent352  doc2\n",
       "194   doc2sent352  doc2"
      ]
     },
     "execution_count": 147,
     "metadata": {},
     "output_type": "execute_result"
    }
   ],
   "source": [
    "df_sentences = classe_df[classe_df['token'] == \"présente\"][['from_sentence','doc']]\n",
    "df_sentences"
   ]
  },
  {
   "cell_type": "code",
   "execution_count": 150,
   "id": "6e40c2e2-8dc9-428f-8ebe-855035e13d9d",
   "metadata": {},
   "outputs": [],
   "source": [
    "sentences = [sent['content'] for sent in db.collection('sentences').get_many(df_sentences['from_sentence'])]\n",
    "df_sentences['sentences'] = sentences\n",
    "df_sentences.drop_duplicates(inplace=True)"
   ]
  },
  {
   "cell_type": "code",
   "execution_count": 154,
   "id": "090e1e4d-6626-4cee-bc7c-f56c8c732c0a",
   "metadata": {},
   "outputs": [
    {
     "data": {
      "text/html": [
       "<div>\n",
       "<style scoped>\n",
       "    .dataframe tbody tr th:only-of-type {\n",
       "        vertical-align: middle;\n",
       "    }\n",
       "\n",
       "    .dataframe tbody tr th {\n",
       "        vertical-align: top;\n",
       "    }\n",
       "\n",
       "    .dataframe thead th {\n",
       "        text-align: right;\n",
       "    }\n",
       "</style>\n",
       "<table border=\"1\" class=\"dataframe\">\n",
       "  <thead>\n",
       "    <tr style=\"text-align: right;\">\n",
       "      <th></th>\n",
       "      <th>from_sentence</th>\n",
       "      <th>doc</th>\n",
       "      <th>sentences</th>\n",
       "    </tr>\n",
       "  </thead>\n",
       "  <tbody>\n",
       "    <tr>\n",
       "      <th>93</th>\n",
       "      <td>doc1sent156</td>\n",
       "      <td>doc1</td>\n",
       "      <td>Le dendrogramme présente ensuite une classe su...</td>\n",
       "    </tr>\n",
       "    <tr>\n",
       "      <th>192</th>\n",
       "      <td>doc2sent321</td>\n",
       "      <td>doc2</td>\n",
       "      <td>Seule la classe 7 (en bleu tout en haut du gra...</td>\n",
       "    </tr>\n",
       "    <tr>\n",
       "      <th>193</th>\n",
       "      <td>doc2sent352</td>\n",
       "      <td>doc2</td>\n",
       "      <td>L’autre partie de l’arbre présente d’abord une...</td>\n",
       "    </tr>\n",
       "  </tbody>\n",
       "</table>\n",
       "</div>"
      ],
      "text/plain": [
       "    from_sentence   doc                                          sentences\n",
       "93    doc1sent156  doc1  Le dendrogramme présente ensuite une classe su...\n",
       "192   doc2sent321  doc2  Seule la classe 7 (en bleu tout en haut du gra...\n",
       "193   doc2sent352  doc2  L’autre partie de l’arbre présente d’abord une..."
      ]
     },
     "execution_count": 154,
     "metadata": {},
     "output_type": "execute_result"
    }
   ],
   "source": [
    "df_sentences"
   ]
  },
  {
   "cell_type": "code",
   "execution_count": 156,
   "id": "d8e7347d-3d63-4c71-ad5c-54af6a889ea1",
   "metadata": {},
   "outputs": [
    {
     "name": "stdout",
     "output_type": "stream",
     "text": [
      "Tiré du document : doc1 | ID de la phrase : doc1sent156 \n",
      " \n",
      " Le dendrogramme présente ensuite une classe sur l’éducation au sens large (classe 13), une classe traitant des questions sociétales mises en avant par François Hollande pendant sa campagne présidentielle (classe 2), puis une classe relative aux modalités de concertation et de mise en œuvre des réformes sur ces questions (classe 1). \n",
      "\n",
      "Tiré du document : doc2 | ID de la phrase : doc2sent321 \n",
      " \n",
      " Seule la classe 7 (en bleu tout en haut du graphique) présente une forte varia- tion dans le temps. \n",
      "\n",
      "Tiré du document : doc2 | ID de la phrase : doc2sent352 \n",
      " \n",
      " L’autre partie de l’arbre présente d’abord une grande classe sur la justice (classe 4), distincte de celle traitant de la question des peines (classe 3), puis la thématique du piratage sur Internet (classe 8), le traitement de la délinquance (classe 2), la question spécifique des violences sexuelles (classe 1), les stupéfiants et la sécurité routière (classe 5) et, enfin, la question du couple, de l’homosexualité et de la procréation (classe 15). \n",
      "\n"
     ]
    }
   ],
   "source": [
    "for sentence, doc, content in zip(df_sentences['from_sentence'],\n",
    "                                  df_sentences['doc'],\n",
    "                                  df_sentences['sentences']):\n",
    "    print(f'Tiré du document : {doc} | ID de la phrase : {sentence} \\n \\n {content} \\n')"
   ]
  },
  {
   "cell_type": "markdown",
   "id": "a75ed09b-7ab7-4722-868c-a67716168df6",
   "metadata": {},
   "source": [
    "#### représente la quantité d'apparition du mot principal et non de celui qui gravite ->"
   ]
  },
  {
   "cell_type": "code",
   "execution_count": 141,
   "id": "4f3f8595-5277-4b4b-b8ad-f365960751b7",
   "metadata": {},
   "outputs": [],
   "source": [
    "df_sentences = df_sentences.join(pd.DataFrame(df_sentences.groupby('from_sentence').size()),\n",
    "                  on='from_sentence')\n",
    "df_sentences.rename(columns={0:'count'},inplace=True)"
   ]
  },
  {
   "cell_type": "code",
   "execution_count": 143,
   "id": "d575482d-01a3-49e9-ad4b-bab6b911786a",
   "metadata": {},
   "outputs": [
    {
     "data": {
      "text/html": [
       "<div>\n",
       "<style scoped>\n",
       "    .dataframe tbody tr th:only-of-type {\n",
       "        vertical-align: middle;\n",
       "    }\n",
       "\n",
       "    .dataframe tbody tr th {\n",
       "        vertical-align: top;\n",
       "    }\n",
       "\n",
       "    .dataframe thead th {\n",
       "        text-align: right;\n",
       "    }\n",
       "</style>\n",
       "<table border=\"1\" class=\"dataframe\">\n",
       "  <thead>\n",
       "    <tr style=\"text-align: right;\">\n",
       "      <th></th>\n",
       "      <th>from_sentence</th>\n",
       "      <th>doc</th>\n",
       "      <th>sentences</th>\n",
       "      <th>count</th>\n",
       "    </tr>\n",
       "  </thead>\n",
       "  <tbody>\n",
       "    <tr>\n",
       "      <th>93</th>\n",
       "      <td>doc1sent156</td>\n",
       "      <td>doc1</td>\n",
       "      <td>Le dendrogramme présente ensuite une classe su...</td>\n",
       "      <td>3</td>\n",
       "    </tr>\n",
       "    <tr>\n",
       "      <th>192</th>\n",
       "      <td>doc2sent321</td>\n",
       "      <td>doc2</td>\n",
       "      <td>Seule la classe 7 (en bleu tout en haut du gra...</td>\n",
       "      <td>1</td>\n",
       "    </tr>\n",
       "    <tr>\n",
       "      <th>193</th>\n",
       "      <td>doc2sent352</td>\n",
       "      <td>doc2</td>\n",
       "      <td>L’autre partie de l’arbre présente d’abord une...</td>\n",
       "      <td>2</td>\n",
       "    </tr>\n",
       "  </tbody>\n",
       "</table>\n",
       "</div>"
      ],
      "text/plain": [
       "    from_sentence   doc                                          sentences  \\\n",
       "93    doc1sent156  doc1  Le dendrogramme présente ensuite une classe su...   \n",
       "192   doc2sent321  doc2  Seule la classe 7 (en bleu tout en haut du gra...   \n",
       "193   doc2sent352  doc2  L’autre partie de l’arbre présente d’abord une...   \n",
       "\n",
       "     count  \n",
       "93       3  \n",
       "192      1  \n",
       "193      2  "
      ]
     },
     "execution_count": 143,
     "metadata": {},
     "output_type": "execute_result"
    }
   ],
   "source": [
    "df_sentences.drop_duplicates()"
   ]
  },
  {
   "cell_type": "code",
   "execution_count": 163,
   "id": "cca77797-0c77-4115-a279-87acc8e859fd",
   "metadata": {},
   "outputs": [],
   "source": [
    "def concordancier(root_word, dep_word):\n",
    "    df = get_syntagmatic_data(root_word)\n",
    "    df_sentences = df[df['token'] == dep_word][['from_sentence','doc']]\n",
    "    sentences = [sent['content'] for sent in db.collection('sentences').get_many(df_sentences['from_sentence'])]\n",
    "    df_sentences['sentences'] = sentences\n",
    "    df_sentences.drop_duplicates(inplace=True)\n",
    "    list_sentences = []\n",
    "    for sentence, doc, content in zip(df_sentences['from_sentence'],\n",
    "                                      df_sentences['doc'],\n",
    "                                      df_sentences['sentences']):\n",
    "        list_sentences.append(f'Tiré du document : {doc} | ID de la phrase : {sentence} \\n \\n {content} \\n')\n",
    "    return ' '.join(list_sentences)\n",
    "    "
   ]
  },
  {
   "cell_type": "code",
   "execution_count": 165,
   "id": "5574cdc6-9f00-4f59-b7c4-84ed16c34bc6",
   "metadata": {},
   "outputs": [
    {
     "data": {
      "text/plain": [
       "'Tiré du document : doc1 | ID de la phrase : doc1sent233 \\n \\n Il est intéressant de constater que le discours sur l’agriculture d’EELV (classe 7) se rapproche davantage de leur discours sur les énergies (classe 6) que de celui du FN sur l’agriculture (classe 8). - • on applique le calcul à l’ensemble des formes de A, mais seules les formes de B ayant une fréquence attendue dans A supérieure ou égale à 1 seront considérées.86 \\n Tiré du document : doc1 | ID de la phrase : doc1sent236 \\n \\n On retrouve le même phénomène sur le discours du PS à propos de la santé (classe 12), qui se retrouve plus proche du discours du PS sur la justice (classe 11) que du discours du FN sur la santé (classe 9) ou sur le service public (classe 1). \\n Tiré du document : doc1 | ID de la phrase : doc1sent237 \\n \\n La thématique de la justice traitée par EELV (classe 9) se rapproche plus de leur traitement de la situation syrienne (classe 10) que du discours du FN sur la délinquance (classe 14) et même sur les questions liées au Moyen-Orient (classe 3). \\n Tiré du document : doc2 | ID de la phrase : doc2sent348 \\n \\n De gauche à droite dans ce graphique, nous voyons les discours sur l’enseignement scolaire (classe 11) se distinguer de ceux relatifs à l’apprentissage et à l’insertion pro- fessionnelle (classe 10). \\n'"
      ]
     },
     "execution_count": 165,
     "metadata": {},
     "output_type": "execute_result"
    }
   ],
   "source": [
    "concordancier('classe','discours')"
   ]
  },
  {
   "cell_type": "code",
   "execution_count": null,
   "id": "4dce8447-74c8-4aaa-a865-c478818579e3",
   "metadata": {},
   "outputs": [],
   "source": []
  }
 ],
 "metadata": {
  "kernelspec": {
   "display_name": "Python 3 (ipykernel)",
   "language": "python",
   "name": "python3"
  },
  "language_info": {
   "codemirror_mode": {
    "name": "ipython",
    "version": 3
   },
   "file_extension": ".py",
   "mimetype": "text/x-python",
   "name": "python",
   "nbconvert_exporter": "python",
   "pygments_lexer": "ipython3",
   "version": "3.8.8"
  }
 },
 "nbformat": 4,
 "nbformat_minor": 5
}
