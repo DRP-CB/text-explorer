{
 "cells": [
  {
   "cell_type": "code",
   "execution_count": 1,
   "id": "5ea91e7c-ad74-4787-a5ba-80bc6cb71103",
   "metadata": {},
   "outputs": [],
   "source": [
    "import pandas as pd\n",
    "from arango import ArangoClient\n",
    "\n",
    "from sklearn.feature_extraction.text import CountVectorizer\n",
    "from sklearn.preprocessing import minmax_scale\n",
    "import networkx as nx\n",
    "\n",
    "import plotly.graph_objects as go\n",
    "\n",
    "\n",
    "import plotly.io as pio\n",
    "from sklearn.feature_extraction.text import CountVectorizer\n",
    "from sklearn.preprocessing import minmax_scale\n",
    "import networkx as nx\n",
    "import plotly.graph_objects as go\n",
    "import plotly.io as pio\n",
    "\n",
    "import numpy as np\n",
    "from sklearn.preprocessing import minmax_scale\n",
    "client = ArangoClient(hosts=\"http://localhost:8529\")\n",
    "sys_db = client.db('_system', username='root',password='root')\n",
    "db = client.db(\"text\", username=\"root\", password=\"root\")"
   ]
  },
  {
   "cell_type": "markdown",
   "id": "9105c5f1-d263-4cd8-984d-67a73868107a",
   "metadata": {},
   "source": [
    "## Graphe de co-occurence\n"
   ]
  },
  {
   "cell_type": "code",
   "execution_count": 78,
   "id": "c1f17829-783d-4e0c-8c34-73f45f79414e",
   "metadata": {},
   "outputs": [],
   "source": [
    "pio.renderers.default='browser'"
   ]
  },
  {
   "cell_type": "code",
   "execution_count": null,
   "id": "d0c6136b-d31b-4b3a-9185-bdd9e7635e33",
   "metadata": {},
   "outputs": [],
   "source": [
    "lemmas_from_sentences = pd.DataFrame(list(db.aql.execute('''for start_vertex in sentences\n",
    "        for v, e in inbound start_vertex is_from\n",
    "        filter e.type == 'lemmaToSent'\n",
    "        collect sent = e._to, lemmas = v.lemma into groups ={\n",
    "        \"sentence\" : e._to,\n",
    "        \"lemma\" : v.lemma\n",
    "        }\n",
    "        return {\"sentence\":sent,\n",
    "                \"lemma\":lemmas}\n",
    "                '''))).groupby('sentence')['lemma'].apply(' '.join)\n",
    "\n",
    "vectorizer = CountVectorizer(min_df=10)\n",
    "\n",
    "termDocMatrix  = vectorizer.fit_transform(lemmas_from_sentences)\n",
    "\n",
    "coOccurenceMatrix = termDocMatrix.T.dot(termDocMatrix)\n",
    "# retire les liens d'un nodeà lui même dnas la matrice\n",
    "\n",
    "coOccurenceMatrix.setdiag(0)\n",
    "\n",
    "# construction du graphe\n",
    "G = nx.from_scipy_sparse_array(coOccurenceMatrix,\n",
    "                                parallel_edges=False)\n",
    "\n",
    "# retire les arretes qui connectent un noeud à lui même \n",
    "\n",
    "G.remove_edges_from(nx.selfloop_edges(G))\n",
    "\n",
    "\n",
    "\n",
    "# définition de la position des noeuds par spatialisation fruchterman reingold\n",
    "\n",
    "FRL = nx.drawing.layout.fruchterman_reingold_layout(G)\n",
    "\n",
    "# kamada kawai\n",
    "# KMK = nx.drawing.layout.kamada_kawai_layout(G)\n",
    "\n",
    "for i in range(0,len(FRL)):\n",
    "    G.nodes[i]['pos'] = FRL[i]\n",
    "    \n",
    "\n",
    "\n",
    "def make_edge(x, y, width,scaledWidth):\n",
    "    \"\"\"\n",
    "    Args:\n",
    "        x: a tuple of the x from and to, in the form: tuple([x0, x1, None])\n",
    "        y: a tuple of the y from and to, in the form: tuple([y0, y1, None])\n",
    "        width: The width of the line\n",
    "\n",
    "    Returns:\n",
    "        a Scatter plot which represents a line between the two points given. \n",
    "    \"\"\"\n",
    "    return  go.Scatter(\n",
    "                x=x,\n",
    "                y=y,\n",
    "                line=dict(width=width,color='#888'),\n",
    "                hoverinfo='none',\n",
    "                mode='lines',\n",
    "                opacity=scaledWidth)\n",
    "\n",
    "\n",
    "\n",
    "\n",
    "xTupleList = []\n",
    "yTupleList = []\n",
    "\n",
    "for ed in G.edges(): \n",
    "    xfrom = G.nodes()[ed[0]]['pos'][0]\n",
    "    yfrom = G.nodes()[ed[0]]['pos'][1]\n",
    "    \n",
    "    xto = G.nodes()[ed[1]]['pos'][0]\n",
    "    yto = G.nodes()[ed[1]]['pos'][1]\n",
    "    xTupleList.append((xfrom,xto,None))\n",
    "    yTupleList.append((yfrom,yto,None))\n",
    "\n",
    "widthList = np.array([G.edges[ed]['weight'] for ed in G.edges()])\n",
    "\n",
    "scaledWidthList = minmax_scale(widthList)\n",
    "\n",
    "\n",
    "\n",
    "edge_trace = [make_edge(x,y,w,sw) for x,y,w,sw in zip(xTupleList,yTupleList,widthList*0.5,scaledWidthList)]\n",
    "\n",
    "\n",
    "\n",
    "\n",
    "node_x = []\n",
    "node_y = []\n",
    "for node in G.nodes():\n",
    "    x, y = G.nodes[node]['pos']\n",
    "    node_x.append(x)\n",
    "    node_y.append(y)\n",
    "    \n",
    "    \n",
    "    \n",
    "\n",
    "node_trace = go.Scatter(\n",
    "    x=node_x, y=node_y,\n",
    "    mode='markers+text',\n",
    "    text='text',\n",
    "    textposition='top center',\n",
    "    marker=dict(\n",
    "        showscale=True,\n",
    "        # colorscale options\n",
    "        #'Greys' | 'YlGnBu' | 'Greens' | 'YlOrRd' | 'Bluered' | 'RdBu' |\n",
    "        #'Reds' | 'Blues' | 'Picnic' | 'Rainbow' | 'Portland' | 'Jet' |\n",
    "        #'Hot' | 'Blackbody' | 'Earth' | 'Electric' | 'Viridis' |\n",
    "        colorscale='YlGnBu',\n",
    "        reversescale=True,\n",
    "        color=[],\n",
    "        size=10,\n",
    "        colorbar=dict(\n",
    "            thickness=15,\n",
    "            title=\"Nombre d'occurences\",\n",
    "            xanchor='left',\n",
    "            titleside='right'\n",
    "        ),\n",
    "        line_width=2))\n",
    "\n",
    "\n",
    "\n",
    "\n",
    "node_trace.marker.color = list(vectorizer.vocabulary_.values())\n",
    "node_trace.text = list(vectorizer.vocabulary_.keys())\n",
    "\n",
    "\n",
    "layout = go.Layout(\n",
    "    paper_bgcolor='rgba(0,0,0,0)', # transparent background\n",
    "    plot_bgcolor='rgba(0,0,0,0)', # transparent 2nd background\n",
    "    xaxis =  {'showgrid': False, 'zeroline': False}, # no gridlines\n",
    "    yaxis = {'showgrid': False, 'zeroline': False}, # no gridlines\n",
    ")\n",
    "\n",
    "\n",
    "fig = go.Figure(layout = layout)\n",
    "\n",
    "# Add all edge traces\n",
    "for trace in edge_trace:\n",
    "    fig.add_trace(trace)# Add node trace\n",
    "fig.add_trace(node_trace)# Remove legend\n",
    "fig.update_layout(showlegend = False)"
   ]
  },
  {
   "cell_type": "markdown",
   "id": "46a84094-6450-43ee-9c43-2ca9cd309a86",
   "metadata": {},
   "source": [
    "## visualisation de relations syntagmatiques"
   ]
  },
  {
   "cell_type": "code",
   "execution_count": 2,
   "id": "3bf73f74-fc73-45fd-8ff6-bab18753cabc",
   "metadata": {},
   "outputs": [],
   "source": [
    "def get_syntagmatic_data(word):\n",
    "    data = pd.DataFrame(list(db.aql.execute(f'''\n",
    "    for token in tokens\n",
    "    filter token.token == '{word}'\n",
    "    let selected_token = token._id\n",
    "\n",
    "    for v, e in 1..1 \n",
    "    any selected_token\n",
    "    syntagmatic_link\n",
    "    filter e.dep_relation != 'ROOT'\n",
    "\n",
    "    return {{\"token\": v.token,\n",
    "            \"relation\" : e.dep_relation,\n",
    "            \"from_sentence\" : e.from_sentence_number,\n",
    "            \"head_pos_tag\" : e.head_pos_tag\n",
    "            }}\n",
    "\n",
    "\n",
    "                    ''')))    \n",
    "    \n",
    "    # à remplacer avec une requette donnant le titre du document\n",
    "    if data.shape == (0,0):\n",
    "        return \"Mot non trouvé\"\n",
    "    else :\n",
    "        data['doc'] = data['from_sentence'].str.extract('(doc\\d+)')\n",
    "        return data"
   ]
  },
  {
   "cell_type": "code",
   "execution_count": 3,
   "id": "94eb6175-5d1e-43e5-aa23-76a51025d3c7",
   "metadata": {},
   "outputs": [],
   "source": [
    "def make_edge(x, y, width,scaledWidth):\n",
    "    \"\"\"\n",
    "    Args:\n",
    "        x: a tuple of the x from and to, in the form: tuple([x0, x1, None])\n",
    "        y: a tuple of the y from and to, in the form: tuple([y0, y1, None])\n",
    "        width: The width of the line\n",
    "\n",
    "    Returns:\n",
    "        a Scatter plot which represents a line between the two points given. \n",
    "    \"\"\"\n",
    "    return  go.Scatter(\n",
    "                x=x,\n",
    "                y=y,\n",
    "                line=dict(width=width,color='#888'),\n",
    "                hoverinfo='none',\n",
    "                mode='lines',\n",
    "                opacity=scaledWidth)"
   ]
  },
  {
   "cell_type": "markdown",
   "id": "fa4aac26-d13b-4f8f-a15f-1addd0feafb2",
   "metadata": {},
   "source": [
    "# todo :\n",
    "- ajouter dans full edgelist des données pour : \n",
    "    - donner les informations sur combien de fois le mot est apparu en hover\n",
    "- extraire le titre du document pour l'insérer dans le graphe"
   ]
  },
  {
   "cell_type": "code",
   "execution_count": 4,
   "id": "7d760f0b-158f-4c32-ae37-550b916093a3",
   "metadata": {},
   "outputs": [],
   "source": [
    "def plot_word_of_interest(word_of_interest):\n",
    "    \n",
    "# récupération table de relations syntagmatiques depuis la db\n",
    "    syntagmatic_data = get_syntagmatic_data(word_of_interest)\n",
    "    \n",
    "    if type(syntagmatic_data) == str :\n",
    "        return syntagmatic_data\n",
    "    else:\n",
    "        \n",
    "        size_of_interest = 10\n",
    "\n",
    "        syntagmatic_data = syntagmatic_data.sort_values('from_sentence')\n",
    "    # ajout d'un 1 pour calculer les fréquences par aggrégation\n",
    "        syntagmatic_data['count'] = 1\n",
    "\n",
    "        # construction d'une edgelist pour créer le graphe\n",
    "        edgelist = syntagmatic_data.groupby(['token','doc']).aggregate('sum')\n",
    "        # l'index est multiple, on l'applatit\n",
    "        edgelist = pd.DataFrame(edgelist.to_records())\n",
    "\n",
    "        edgelist.rename(columns={\"token\":'from',\n",
    "                                      'doc':'to'}, inplace=True)\n",
    "        # on calcule la fréquence sur le lien racine / document\n",
    "        edgelist_token_doc = pd.DataFrame(edgelist.groupby('to').aggregate('sum').to_records())\n",
    "        edgelist_token_doc['from'] = word_of_interest\n",
    "\n",
    "        # concaténation des docs et mots en une edgelist\n",
    "        full_edgelist = pd.concat([edgelist, edgelist_token_doc])\n",
    "\n",
    "        # création du graphe et calcul de la spatialisation\n",
    "        G = nx.from_pandas_edgelist(full_edgelist,'from','to',edge_attr='count')\n",
    "        KKL = nx.drawing.layout.kamada_kawai_layout(G)\n",
    "\n",
    "        # insertion de la spatialisation pour la construction des arrêtes\n",
    "        x_from_to = []\n",
    "        y_from_to = []\n",
    "        for from_vertex, to_vertex in zip(full_edgelist['from'], full_edgelist['to']):\n",
    "            x_from_to.append((KKL[from_vertex][0], KKL[to_vertex][0]))\n",
    "            y_from_to.append((KKL[from_vertex][1], KKL[to_vertex][1]))\n",
    "\n",
    "        full_edgelist['from_and_to_x'] = x_from_to\n",
    "        full_edgelist['from_and_to_y'] = y_from_to\n",
    "        full_edgelist.reset_index(inplace=True,drop=True)\n",
    "\n",
    "        # construction d'une échelle allant de 0.1 à 1 pour la transparence et épaisseur des arrêtes\n",
    "        mask = full_edgelist['from'] == word_of_interest\n",
    "        indexes_root_word, indexes_doc_words = full_edgelist[mask].index, full_edgelist[~mask].index\n",
    "\n",
    "        full_edgelist.loc[indexes_root_word,'adjusted_count'] = minmax_scale(full_edgelist['count'][indexes_root_word]) +1\n",
    "        full_edgelist.loc[indexes_doc_words,'adjusted_count'] = minmax_scale(full_edgelist['count'][indexes_doc_words]) +1\n",
    "\n",
    "        # Sans le +0.1 le minmax donne 0 et donc pas de ligne. Si on ajout 0.1 on sort du range 0 - 1 autorisé par la valeur de transparence\n",
    "\n",
    "        full_edgelist['opacity'] = minmax_scale(full_edgelist['adjusted_count'])+0.1\n",
    "        full_edgelist['opacity'] = full_edgelist['opacity'].clip(upper=1)\n",
    "\n",
    "        # création de la disposition des arrêtes\n",
    "        edge_trace = [make_edge(x,y,w,sw) for x,y,w,sw in zip(full_edgelist['from_and_to_x'],\n",
    "                                                              full_edgelist['from_and_to_y'],\n",
    "                                                              full_edgelist['adjusted_count'],\n",
    "                                                              full_edgelist['opacity'])]\n",
    "\n",
    "        # Disposition des noeuds\n",
    "        df_KKL = pd.DataFrame(KKL).T\n",
    "        df_KKL.columns = ['x','y']\n",
    "\n",
    "        # coloration en fonction du mot racine, document et mot relié\n",
    "\n",
    "        df_KKL['color'] = 'rgb(255,102,102)'\n",
    "\n",
    "        df_KKL.loc[word_of_interest,'color'] = 'rgb(0,204,0)'\n",
    "\n",
    "\n",
    "        # A MODIFIER : besoin d'un filtre capable de repérer les documents finit par .txt ? \n",
    "        mask_doc = df_KKL.index.str.match('(doc)')\n",
    "\n",
    "\n",
    "\n",
    "\n",
    "        df_KKL.loc[df_KKL.index[mask_doc],'color'] = 'rgb(0,128,255)'\n",
    "        \n",
    "        ######\n",
    "        # faire un merge de ces infos sur df_KKL et ajouter le word of interest avec une tailel arbitraire\n",
    "        ######\n",
    "        doc_count = syntagmatic_data.groupby('doc').sum('count')\n",
    "        doc_count['count'] =( minmax_scale(doc_count['count']) +1) *5\n",
    "        token_count = syntagmatic_data.groupby('token').sum('count')\n",
    "        token_count['count'] = (minmax_scale(token_count['count']) +1) *5\n",
    "\n",
    "        df_count = pd.concat([doc_count,token_count,pd.DataFrame({'count':[size_of_interest]},index=[word_of_interest])])\n",
    "        \n",
    "        df_KKL = df_KKL.join(df_count)\n",
    "        node_trace = go.Scatter(\n",
    "        x=df_KKL['x'], y=df_KKL['y'],\n",
    "        mode='markers+text',\n",
    "        textposition='top center',\n",
    "        marker_color=df_KKL['color'],\n",
    "        marker_size=df_KKL['count'])\n",
    "        node_trace.text = df_KKL.index\n",
    "\n",
    "        fig = go.Figure()\n",
    "        for trace in edge_trace:\n",
    "            fig.add_trace(trace)# Add node trace\n",
    "        fig.add_trace(node_trace)\n",
    "        # Remove legend\n",
    "        fig.update_layout(showlegend = False)\n",
    "        return fig"
   ]
  },
  {
   "cell_type": "code",
   "execution_count": 38,
   "id": "977d61ca-271d-443e-bf89-a673756b95e4",
   "metadata": {},
   "outputs": [
    {
     "data": {
      "application/vnd.plotly.v1+json": {
       "config": {
        "plotlyServerURL": "https://plot.ly"
       },
       "data": [
        {
         "hoverinfo": "none",
         "line": {
          "color": "#888",
          "width": 1
         },
         "mode": "lines",
         "opacity": 0.1,
         "type": "scatter",
         "x": [
          0.42005380016799354,
          -0.026931402724186888
         ],
         "y": [
          -0.37222919461804443,
          -0.24556953286686584
         ]
        },
        {
         "hoverinfo": "none",
         "line": {
          "color": "#888",
          "width": 2
         },
         "mode": "lines",
         "opacity": 1,
         "type": "scatter",
         "x": [
          0.365145886799928,
          -0.026931402724186888
         ],
         "y": [
          -0.08096343274447897,
          -0.24556953286686584
         ]
        },
        {
         "hoverinfo": "none",
         "line": {
          "color": "#888",
          "width": 1
         },
         "mode": "lines",
         "opacity": 0.1,
         "type": "scatter",
         "x": [
          0.41990547490064745,
          0.07358134517693192
         ],
         "y": [
          0.931133245143657,
          0.6709270506533117
         ]
        },
        {
         "hoverinfo": "none",
         "line": {
          "color": "#888",
          "width": 1
         },
         "mode": "lines",
         "opacity": 0.1,
         "type": "scatter",
         "x": [
          -0.3740133224688477,
          -0.026931402724186888
         ],
         "y": [
          0.00010516275478984841,
          -0.24556953286686584
         ]
        },
        {
         "hoverinfo": "none",
         "line": {
          "color": "#888",
          "width": 1
         },
         "mode": "lines",
         "opacity": 0.1,
         "type": "scatter",
         "x": [
          -0.49074351455898246,
          -0.026931402724186888
         ],
         "y": [
          -0.2723428912630266,
          -0.24556953286686584
         ]
        },
        {
         "hoverinfo": "none",
         "line": {
          "color": "#888",
          "width": 1
         },
         "mode": "lines",
         "opacity": 0.1,
         "type": "scatter",
         "x": [
          -0.36099794584487116,
          -0.026931402724186888
         ],
         "y": [
          -0.5531653530968809,
          -0.24556953286686584
         ]
        },
        {
         "hoverinfo": "none",
         "line": {
          "color": "#888",
          "width": 1
         },
         "mode": "lines",
         "opacity": 0.1,
         "type": "scatter",
         "x": [
          -0.07585447549908196,
          -0.026931402724186888
         ],
         "y": [
          -0.6916587574350906,
          -0.24556953286686584
         ]
        },
        {
         "hoverinfo": "none",
         "line": {
          "color": "#888",
          "width": 1
         },
         "mode": "lines",
         "opacity": 0.1,
         "type": "scatter",
         "x": [
          -0.20812346537488738,
          0.07358134517693192
         ],
         "y": [
          1,
          0.6709270506533117
         ]
        },
        {
         "hoverinfo": "none",
         "line": {
          "color": "#888",
          "width": 1
         },
         "mode": "lines",
         "opacity": 0.1,
         "type": "scatter",
         "x": [
          0.23252732239095983,
          -0.026931402724186888
         ],
         "y": [
          -0.618257854522401,
          -0.24556953286686584
         ]
        },
        {
         "hoverinfo": "none",
         "line": {
          "color": "#888",
          "width": 1
         },
         "mode": "lines",
         "opacity": 0.1,
         "type": "scatter",
         "x": [
          0.0254502970343968,
          0.07358134517693192
         ],
         "y": [
          0.2320215579950296,
          0.6709270506533117
         ]
        },
        {
         "hoverinfo": "none",
         "line": {
          "color": "#888",
          "width": 2
         },
         "mode": "lines",
         "opacity": 1,
         "type": "scatter",
         "x": [
          0.0254502970343968,
          -0.026931402724186888
         ],
         "y": [
          0.2320215579950296,
          -0.24556953286686584
         ]
        },
        {
         "marker": {
          "color": [
           "rgb(255,102,102)",
           "rgb(0,128,255)",
           "rgb(255,102,102)",
           "rgb(255,102,102)",
           "rgb(0,128,255)",
           "rgb(255,102,102)",
           "rgb(255,102,102)",
           "rgb(255,102,102)",
           "rgb(255,102,102)",
           "rgb(255,102,102)",
           "rgb(255,102,102)",
           "rgb(0,204,0)"
          ],
          "size": [
           5,
           10,
           10,
           5,
           5,
           5,
           5,
           5,
           5,
           5,
           5,
           10
          ]
         },
         "mode": "markers+text",
         "text": [
          "devenue",
          "doc4",
          "foyer",
          "homme/",
          "doc2",
          "ingénieur",
          "issue",
          "multinationale",
          "mére",
          "égalité",
          "étudié",
          "femme"
         ],
         "textposition": "top center",
         "type": "scatter",
         "x": [
          0.42005380016799354,
          -0.026931402724186888,
          0.365145886799928,
          0.41990547490064745,
          0.07358134517693192,
          -0.3740133224688477,
          -0.49074351455898246,
          -0.36099794584487116,
          -0.07585447549908196,
          -0.20812346537488738,
          0.23252732239095983,
          0.0254502970343968
         ],
         "y": [
          -0.37222919461804443,
          -0.24556953286686584,
          -0.08096343274447897,
          0.931133245143657,
          0.6709270506533117,
          0.00010516275478984841,
          -0.2723428912630266,
          -0.5531653530968809,
          -0.6916587574350906,
          1,
          -0.618257854522401,
          0.2320215579950296
         ]
        }
       ],
       "layout": {
        "autosize": true,
        "showlegend": false,
        "template": {
         "data": {
          "bar": [
           {
            "error_x": {
             "color": "#2a3f5f"
            },
            "error_y": {
             "color": "#2a3f5f"
            },
            "marker": {
             "line": {
              "color": "#E5ECF6",
              "width": 0.5
             },
             "pattern": {
              "fillmode": "overlay",
              "size": 10,
              "solidity": 0.2
             }
            },
            "type": "bar"
           }
          ],
          "barpolar": [
           {
            "marker": {
             "line": {
              "color": "#E5ECF6",
              "width": 0.5
             },
             "pattern": {
              "fillmode": "overlay",
              "size": 10,
              "solidity": 0.2
             }
            },
            "type": "barpolar"
           }
          ],
          "carpet": [
           {
            "aaxis": {
             "endlinecolor": "#2a3f5f",
             "gridcolor": "white",
             "linecolor": "white",
             "minorgridcolor": "white",
             "startlinecolor": "#2a3f5f"
            },
            "baxis": {
             "endlinecolor": "#2a3f5f",
             "gridcolor": "white",
             "linecolor": "white",
             "minorgridcolor": "white",
             "startlinecolor": "#2a3f5f"
            },
            "type": "carpet"
           }
          ],
          "choropleth": [
           {
            "colorbar": {
             "outlinewidth": 0,
             "ticks": ""
            },
            "type": "choropleth"
           }
          ],
          "contour": [
           {
            "colorbar": {
             "outlinewidth": 0,
             "ticks": ""
            },
            "colorscale": [
             [
              0,
              "#0d0887"
             ],
             [
              0.1111111111111111,
              "#46039f"
             ],
             [
              0.2222222222222222,
              "#7201a8"
             ],
             [
              0.3333333333333333,
              "#9c179e"
             ],
             [
              0.4444444444444444,
              "#bd3786"
             ],
             [
              0.5555555555555556,
              "#d8576b"
             ],
             [
              0.6666666666666666,
              "#ed7953"
             ],
             [
              0.7777777777777778,
              "#fb9f3a"
             ],
             [
              0.8888888888888888,
              "#fdca26"
             ],
             [
              1,
              "#f0f921"
             ]
            ],
            "type": "contour"
           }
          ],
          "contourcarpet": [
           {
            "colorbar": {
             "outlinewidth": 0,
             "ticks": ""
            },
            "type": "contourcarpet"
           }
          ],
          "heatmap": [
           {
            "colorbar": {
             "outlinewidth": 0,
             "ticks": ""
            },
            "colorscale": [
             [
              0,
              "#0d0887"
             ],
             [
              0.1111111111111111,
              "#46039f"
             ],
             [
              0.2222222222222222,
              "#7201a8"
             ],
             [
              0.3333333333333333,
              "#9c179e"
             ],
             [
              0.4444444444444444,
              "#bd3786"
             ],
             [
              0.5555555555555556,
              "#d8576b"
             ],
             [
              0.6666666666666666,
              "#ed7953"
             ],
             [
              0.7777777777777778,
              "#fb9f3a"
             ],
             [
              0.8888888888888888,
              "#fdca26"
             ],
             [
              1,
              "#f0f921"
             ]
            ],
            "type": "heatmap"
           }
          ],
          "heatmapgl": [
           {
            "colorbar": {
             "outlinewidth": 0,
             "ticks": ""
            },
            "colorscale": [
             [
              0,
              "#0d0887"
             ],
             [
              0.1111111111111111,
              "#46039f"
             ],
             [
              0.2222222222222222,
              "#7201a8"
             ],
             [
              0.3333333333333333,
              "#9c179e"
             ],
             [
              0.4444444444444444,
              "#bd3786"
             ],
             [
              0.5555555555555556,
              "#d8576b"
             ],
             [
              0.6666666666666666,
              "#ed7953"
             ],
             [
              0.7777777777777778,
              "#fb9f3a"
             ],
             [
              0.8888888888888888,
              "#fdca26"
             ],
             [
              1,
              "#f0f921"
             ]
            ],
            "type": "heatmapgl"
           }
          ],
          "histogram": [
           {
            "marker": {
             "pattern": {
              "fillmode": "overlay",
              "size": 10,
              "solidity": 0.2
             }
            },
            "type": "histogram"
           }
          ],
          "histogram2d": [
           {
            "colorbar": {
             "outlinewidth": 0,
             "ticks": ""
            },
            "colorscale": [
             [
              0,
              "#0d0887"
             ],
             [
              0.1111111111111111,
              "#46039f"
             ],
             [
              0.2222222222222222,
              "#7201a8"
             ],
             [
              0.3333333333333333,
              "#9c179e"
             ],
             [
              0.4444444444444444,
              "#bd3786"
             ],
             [
              0.5555555555555556,
              "#d8576b"
             ],
             [
              0.6666666666666666,
              "#ed7953"
             ],
             [
              0.7777777777777778,
              "#fb9f3a"
             ],
             [
              0.8888888888888888,
              "#fdca26"
             ],
             [
              1,
              "#f0f921"
             ]
            ],
            "type": "histogram2d"
           }
          ],
          "histogram2dcontour": [
           {
            "colorbar": {
             "outlinewidth": 0,
             "ticks": ""
            },
            "colorscale": [
             [
              0,
              "#0d0887"
             ],
             [
              0.1111111111111111,
              "#46039f"
             ],
             [
              0.2222222222222222,
              "#7201a8"
             ],
             [
              0.3333333333333333,
              "#9c179e"
             ],
             [
              0.4444444444444444,
              "#bd3786"
             ],
             [
              0.5555555555555556,
              "#d8576b"
             ],
             [
              0.6666666666666666,
              "#ed7953"
             ],
             [
              0.7777777777777778,
              "#fb9f3a"
             ],
             [
              0.8888888888888888,
              "#fdca26"
             ],
             [
              1,
              "#f0f921"
             ]
            ],
            "type": "histogram2dcontour"
           }
          ],
          "mesh3d": [
           {
            "colorbar": {
             "outlinewidth": 0,
             "ticks": ""
            },
            "type": "mesh3d"
           }
          ],
          "parcoords": [
           {
            "line": {
             "colorbar": {
              "outlinewidth": 0,
              "ticks": ""
             }
            },
            "type": "parcoords"
           }
          ],
          "pie": [
           {
            "automargin": true,
            "type": "pie"
           }
          ],
          "scatter": [
           {
            "fillpattern": {
             "fillmode": "overlay",
             "size": 10,
             "solidity": 0.2
            },
            "type": "scatter"
           }
          ],
          "scatter3d": [
           {
            "line": {
             "colorbar": {
              "outlinewidth": 0,
              "ticks": ""
             }
            },
            "marker": {
             "colorbar": {
              "outlinewidth": 0,
              "ticks": ""
             }
            },
            "type": "scatter3d"
           }
          ],
          "scattercarpet": [
           {
            "marker": {
             "colorbar": {
              "outlinewidth": 0,
              "ticks": ""
             }
            },
            "type": "scattercarpet"
           }
          ],
          "scattergeo": [
           {
            "marker": {
             "colorbar": {
              "outlinewidth": 0,
              "ticks": ""
             }
            },
            "type": "scattergeo"
           }
          ],
          "scattergl": [
           {
            "marker": {
             "colorbar": {
              "outlinewidth": 0,
              "ticks": ""
             }
            },
            "type": "scattergl"
           }
          ],
          "scattermapbox": [
           {
            "marker": {
             "colorbar": {
              "outlinewidth": 0,
              "ticks": ""
             }
            },
            "type": "scattermapbox"
           }
          ],
          "scatterpolar": [
           {
            "marker": {
             "colorbar": {
              "outlinewidth": 0,
              "ticks": ""
             }
            },
            "type": "scatterpolar"
           }
          ],
          "scatterpolargl": [
           {
            "marker": {
             "colorbar": {
              "outlinewidth": 0,
              "ticks": ""
             }
            },
            "type": "scatterpolargl"
           }
          ],
          "scatterternary": [
           {
            "marker": {
             "colorbar": {
              "outlinewidth": 0,
              "ticks": ""
             }
            },
            "type": "scatterternary"
           }
          ],
          "surface": [
           {
            "colorbar": {
             "outlinewidth": 0,
             "ticks": ""
            },
            "colorscale": [
             [
              0,
              "#0d0887"
             ],
             [
              0.1111111111111111,
              "#46039f"
             ],
             [
              0.2222222222222222,
              "#7201a8"
             ],
             [
              0.3333333333333333,
              "#9c179e"
             ],
             [
              0.4444444444444444,
              "#bd3786"
             ],
             [
              0.5555555555555556,
              "#d8576b"
             ],
             [
              0.6666666666666666,
              "#ed7953"
             ],
             [
              0.7777777777777778,
              "#fb9f3a"
             ],
             [
              0.8888888888888888,
              "#fdca26"
             ],
             [
              1,
              "#f0f921"
             ]
            ],
            "type": "surface"
           }
          ],
          "table": [
           {
            "cells": {
             "fill": {
              "color": "#EBF0F8"
             },
             "line": {
              "color": "white"
             }
            },
            "header": {
             "fill": {
              "color": "#C8D4E3"
             },
             "line": {
              "color": "white"
             }
            },
            "type": "table"
           }
          ]
         },
         "layout": {
          "annotationdefaults": {
           "arrowcolor": "#2a3f5f",
           "arrowhead": 0,
           "arrowwidth": 1
          },
          "autotypenumbers": "strict",
          "coloraxis": {
           "colorbar": {
            "outlinewidth": 0,
            "ticks": ""
           }
          },
          "colorscale": {
           "diverging": [
            [
             0,
             "#8e0152"
            ],
            [
             0.1,
             "#c51b7d"
            ],
            [
             0.2,
             "#de77ae"
            ],
            [
             0.3,
             "#f1b6da"
            ],
            [
             0.4,
             "#fde0ef"
            ],
            [
             0.5,
             "#f7f7f7"
            ],
            [
             0.6,
             "#e6f5d0"
            ],
            [
             0.7,
             "#b8e186"
            ],
            [
             0.8,
             "#7fbc41"
            ],
            [
             0.9,
             "#4d9221"
            ],
            [
             1,
             "#276419"
            ]
           ],
           "sequential": [
            [
             0,
             "#0d0887"
            ],
            [
             0.1111111111111111,
             "#46039f"
            ],
            [
             0.2222222222222222,
             "#7201a8"
            ],
            [
             0.3333333333333333,
             "#9c179e"
            ],
            [
             0.4444444444444444,
             "#bd3786"
            ],
            [
             0.5555555555555556,
             "#d8576b"
            ],
            [
             0.6666666666666666,
             "#ed7953"
            ],
            [
             0.7777777777777778,
             "#fb9f3a"
            ],
            [
             0.8888888888888888,
             "#fdca26"
            ],
            [
             1,
             "#f0f921"
            ]
           ],
           "sequentialminus": [
            [
             0,
             "#0d0887"
            ],
            [
             0.1111111111111111,
             "#46039f"
            ],
            [
             0.2222222222222222,
             "#7201a8"
            ],
            [
             0.3333333333333333,
             "#9c179e"
            ],
            [
             0.4444444444444444,
             "#bd3786"
            ],
            [
             0.5555555555555556,
             "#d8576b"
            ],
            [
             0.6666666666666666,
             "#ed7953"
            ],
            [
             0.7777777777777778,
             "#fb9f3a"
            ],
            [
             0.8888888888888888,
             "#fdca26"
            ],
            [
             1,
             "#f0f921"
            ]
           ]
          },
          "colorway": [
           "#636efa",
           "#EF553B",
           "#00cc96",
           "#ab63fa",
           "#FFA15A",
           "#19d3f3",
           "#FF6692",
           "#B6E880",
           "#FF97FF",
           "#FECB52"
          ],
          "font": {
           "color": "#2a3f5f"
          },
          "geo": {
           "bgcolor": "white",
           "lakecolor": "white",
           "landcolor": "#E5ECF6",
           "showlakes": true,
           "showland": true,
           "subunitcolor": "white"
          },
          "hoverlabel": {
           "align": "left"
          },
          "hovermode": "closest",
          "mapbox": {
           "style": "light"
          },
          "paper_bgcolor": "white",
          "plot_bgcolor": "#E5ECF6",
          "polar": {
           "angularaxis": {
            "gridcolor": "white",
            "linecolor": "white",
            "ticks": ""
           },
           "bgcolor": "#E5ECF6",
           "radialaxis": {
            "gridcolor": "white",
            "linecolor": "white",
            "ticks": ""
           }
          },
          "scene": {
           "xaxis": {
            "backgroundcolor": "#E5ECF6",
            "gridcolor": "white",
            "gridwidth": 2,
            "linecolor": "white",
            "showbackground": true,
            "ticks": "",
            "zerolinecolor": "white"
           },
           "yaxis": {
            "backgroundcolor": "#E5ECF6",
            "gridcolor": "white",
            "gridwidth": 2,
            "linecolor": "white",
            "showbackground": true,
            "ticks": "",
            "zerolinecolor": "white"
           },
           "zaxis": {
            "backgroundcolor": "#E5ECF6",
            "gridcolor": "white",
            "gridwidth": 2,
            "linecolor": "white",
            "showbackground": true,
            "ticks": "",
            "zerolinecolor": "white"
           }
          },
          "shapedefaults": {
           "line": {
            "color": "#2a3f5f"
           }
          },
          "ternary": {
           "aaxis": {
            "gridcolor": "white",
            "linecolor": "white",
            "ticks": ""
           },
           "baxis": {
            "gridcolor": "white",
            "linecolor": "white",
            "ticks": ""
           },
           "bgcolor": "#E5ECF6",
           "caxis": {
            "gridcolor": "white",
            "linecolor": "white",
            "ticks": ""
           }
          },
          "title": {
           "x": 0.05
          },
          "xaxis": {
           "automargin": true,
           "gridcolor": "white",
           "linecolor": "white",
           "ticks": "",
           "title": {
            "standoff": 15
           },
           "zerolinecolor": "white",
           "zerolinewidth": 2
          },
          "yaxis": {
           "automargin": true,
           "gridcolor": "white",
           "linecolor": "white",
           "ticks": "",
           "title": {
            "standoff": 15
           },
           "zerolinecolor": "white",
           "zerolinewidth": 2
          }
         }
        },
        "xaxis": {
         "autorange": true,
         "range": [
          -0.5459848722035003,
          0.47529515781251147
         ],
         "type": "linear"
        },
        "yaxis": {
         "autorange": true,
         "range": [
          -0.8233528982627021,
          1.1316941408276113
         ],
         "type": "linear"
        }
       }
      },
      "image/png": "[encoded data removed]",
      "text/html": [
       "<div>                            <div id=\"26b000fb-babc-4c37-a478-ee0695fb18f5\" class=\"plotly-graph-div\" style=\"height:525px; width:100%;\"></div>            <script type=\"text/javascript\">                require([\"plotly\"], function(Plotly) {                    window.PLOTLYENV=window.PLOTLYENV || {};                                    if (document.getElementById(\"26b000fb-babc-4c37-a478-ee0695fb18f5\")) {                    Plotly.newPlot(                        \"26b000fb-babc-4c37-a478-ee0695fb18f5\",                        [{\"hoverinfo\":\"none\",\"line\":{\"color\":\"#888\",\"width\":1.0},\"mode\":\"lines\",\"opacity\":0.1,\"x\":[0.42005380016799354,-0.026931402724186888],\"y\":[-0.37222919461804443,-0.24556953286686584],\"type\":\"scatter\"},{\"hoverinfo\":\"none\",\"line\":{\"color\":\"#888\",\"width\":2.0},\"mode\":\"lines\",\"opacity\":1.0,\"x\":[0.365145886799928,-0.026931402724186888],\"y\":[-0.08096343274447897,-0.24556953286686584],\"type\":\"scatter\"},{\"hoverinfo\":\"none\",\"line\":{\"color\":\"#888\",\"width\":1.0},\"mode\":\"lines\",\"opacity\":0.1,\"x\":[0.41990547490064745,0.07358134517693192],\"y\":[0.931133245143657,0.6709270506533117],\"type\":\"scatter\"},{\"hoverinfo\":\"none\",\"line\":{\"color\":\"#888\",\"width\":1.0},\"mode\":\"lines\",\"opacity\":0.1,\"x\":[-0.3740133224688477,-0.026931402724186888],\"y\":[0.00010516275478984841,-0.24556953286686584],\"type\":\"scatter\"},{\"hoverinfo\":\"none\",\"line\":{\"color\":\"#888\",\"width\":1.0},\"mode\":\"lines\",\"opacity\":0.1,\"x\":[-0.49074351455898246,-0.026931402724186888],\"y\":[-0.2723428912630266,-0.24556953286686584],\"type\":\"scatter\"},{\"hoverinfo\":\"none\",\"line\":{\"color\":\"#888\",\"width\":1.0},\"mode\":\"lines\",\"opacity\":0.1,\"x\":[-0.36099794584487116,-0.026931402724186888],\"y\":[-0.5531653530968809,-0.24556953286686584],\"type\":\"scatter\"},{\"hoverinfo\":\"none\",\"line\":{\"color\":\"#888\",\"width\":1.0},\"mode\":\"lines\",\"opacity\":0.1,\"x\":[-0.07585447549908196,-0.026931402724186888],\"y\":[-0.6916587574350906,-0.24556953286686584],\"type\":\"scatter\"},{\"hoverinfo\":\"none\",\"line\":{\"color\":\"#888\",\"width\":1.0},\"mode\":\"lines\",\"opacity\":0.1,\"x\":[-0.20812346537488738,0.07358134517693192],\"y\":[1.0,0.6709270506533117],\"type\":\"scatter\"},{\"hoverinfo\":\"none\",\"line\":{\"color\":\"#888\",\"width\":1.0},\"mode\":\"lines\",\"opacity\":0.1,\"x\":[0.23252732239095983,-0.026931402724186888],\"y\":[-0.618257854522401,-0.24556953286686584],\"type\":\"scatter\"},{\"hoverinfo\":\"none\",\"line\":{\"color\":\"#888\",\"width\":1.0},\"mode\":\"lines\",\"opacity\":0.1,\"x\":[0.0254502970343968,0.07358134517693192],\"y\":[0.2320215579950296,0.6709270506533117],\"type\":\"scatter\"},{\"hoverinfo\":\"none\",\"line\":{\"color\":\"#888\",\"width\":2.0},\"mode\":\"lines\",\"opacity\":1.0,\"x\":[0.0254502970343968,-0.026931402724186888],\"y\":[0.2320215579950296,-0.24556953286686584],\"type\":\"scatter\"},{\"marker\":{\"color\":[\"rgb(255,102,102)\",\"rgb(0,128,255)\",\"rgb(255,102,102)\",\"rgb(255,102,102)\",\"rgb(0,128,255)\",\"rgb(255,102,102)\",\"rgb(255,102,102)\",\"rgb(255,102,102)\",\"rgb(255,102,102)\",\"rgb(255,102,102)\",\"rgb(255,102,102)\",\"rgb(0,204,0)\"],\"size\":[5.0,10.0,10.0,5.0,5.0,5.0,5.0,5.0,5.0,5.0,5.0,10.0]},\"mode\":\"markers+text\",\"text\":[\"devenue\",\"doc4\",\"foyer\",\"homme/\",\"doc2\",\"ing\\u00e9nieur\",\"issue\",\"multinationale\",\"m\\u00e9re\",\"\\u00e9galit\\u00e9\",\"\\u00e9tudi\\u00e9\",\"femme\"],\"textposition\":\"top center\",\"x\":[0.42005380016799354,-0.026931402724186888,0.365145886799928,0.41990547490064745,0.07358134517693192,-0.3740133224688477,-0.49074351455898246,-0.36099794584487116,-0.07585447549908196,-0.20812346537488738,0.23252732239095983,0.0254502970343968],\"y\":[-0.37222919461804443,-0.24556953286686584,-0.08096343274447897,0.931133245143657,0.6709270506533117,0.00010516275478984841,-0.2723428912630266,-0.5531653530968809,-0.6916587574350906,1.0,-0.618257854522401,0.2320215579950296],\"type\":\"scatter\"}],                        {\"template\":{\"data\":{\"histogram2dcontour\":[{\"type\":\"histogram2dcontour\",\"colorbar\":{\"outlinewidth\":0,\"ticks\":\"\"},\"colorscale\":[[0.0,\"#0d0887\"],[0.1111111111111111,\"#46039f\"],[0.2222222222222222,\"#7201a8\"],[0.3333333333333333,\"#9c179e\"],[0.4444444444444444,\"#bd3786\"],[0.5555555555555556,\"#d8576b\"],[0.6666666666666666,\"#ed7953\"],[0.7777777777777778,\"#fb9f3a\"],[0.8888888888888888,\"#fdca26\"],[1.0,\"#f0f921\"]]}],\"choropleth\":[{\"type\":\"choropleth\",\"colorbar\":{\"outlinewidth\":0,\"ticks\":\"\"}}],\"histogram2d\":[{\"type\":\"histogram2d\",\"colorbar\":{\"outlinewidth\":0,\"ticks\":\"\"},\"colorscale\":[[0.0,\"#0d0887\"],[0.1111111111111111,\"#46039f\"],[0.2222222222222222,\"#7201a8\"],[0.3333333333333333,\"#9c179e\"],[0.4444444444444444,\"#bd3786\"],[0.5555555555555556,\"#d8576b\"],[0.6666666666666666,\"#ed7953\"],[0.7777777777777778,\"#fb9f3a\"],[0.8888888888888888,\"#fdca26\"],[1.0,\"#f0f921\"]]}],\"heatmap\":[{\"type\":\"heatmap\",\"colorbar\":{\"outlinewidth\":0,\"ticks\":\"\"},\"colorscale\":[[0.0,\"#0d0887\"],[0.1111111111111111,\"#46039f\"],[0.2222222222222222,\"#7201a8\"],[0.3333333333333333,\"#9c179e\"],[0.4444444444444444,\"#bd3786\"],[0.5555555555555556,\"#d8576b\"],[0.6666666666666666,\"#ed7953\"],[0.7777777777777778,\"#fb9f3a\"],[0.8888888888888888,\"#fdca26\"],[1.0,\"#f0f921\"]]}],\"heatmapgl\":[{\"type\":\"heatmapgl\",\"colorbar\":{\"outlinewidth\":0,\"ticks\":\"\"},\"colorscale\":[[0.0,\"#0d0887\"],[0.1111111111111111,\"#46039f\"],[0.2222222222222222,\"#7201a8\"],[0.3333333333333333,\"#9c179e\"],[0.4444444444444444,\"#bd3786\"],[0.5555555555555556,\"#d8576b\"],[0.6666666666666666,\"#ed7953\"],[0.7777777777777778,\"#fb9f3a\"],[0.8888888888888888,\"#fdca26\"],[1.0,\"#f0f921\"]]}],\"contourcarpet\":[{\"type\":\"contourcarpet\",\"colorbar\":{\"outlinewidth\":0,\"ticks\":\"\"}}],\"contour\":[{\"type\":\"contour\",\"colorbar\":{\"outlinewidth\":0,\"ticks\":\"\"},\"colorscale\":[[0.0,\"#0d0887\"],[0.1111111111111111,\"#46039f\"],[0.2222222222222222,\"#7201a8\"],[0.3333333333333333,\"#9c179e\"],[0.4444444444444444,\"#bd3786\"],[0.5555555555555556,\"#d8576b\"],[0.6666666666666666,\"#ed7953\"],[0.7777777777777778,\"#fb9f3a\"],[0.8888888888888888,\"#fdca26\"],[1.0,\"#f0f921\"]]}],\"surface\":[{\"type\":\"surface\",\"colorbar\":{\"outlinewidth\":0,\"ticks\":\"\"},\"colorscale\":[[0.0,\"#0d0887\"],[0.1111111111111111,\"#46039f\"],[0.2222222222222222,\"#7201a8\"],[0.3333333333333333,\"#9c179e\"],[0.4444444444444444,\"#bd3786\"],[0.5555555555555556,\"#d8576b\"],[0.6666666666666666,\"#ed7953\"],[0.7777777777777778,\"#fb9f3a\"],[0.8888888888888888,\"#fdca26\"],[1.0,\"#f0f921\"]]}],\"mesh3d\":[{\"type\":\"mesh3d\",\"colorbar\":{\"outlinewidth\":0,\"ticks\":\"\"}}],\"scatter\":[{\"fillpattern\":{\"fillmode\":\"overlay\",\"size\":10,\"solidity\":0.2},\"type\":\"scatter\"}],\"parcoords\":[{\"type\":\"parcoords\",\"line\":{\"colorbar\":{\"outlinewidth\":0,\"ticks\":\"\"}}}],\"scatterpolargl\":[{\"type\":\"scatterpolargl\",\"marker\":{\"colorbar\":{\"outlinewidth\":0,\"ticks\":\"\"}}}],\"bar\":[{\"error_x\":{\"color\":\"#2a3f5f\"},\"error_y\":{\"color\":\"#2a3f5f\"},\"marker\":{\"line\":{\"color\":\"#E5ECF6\",\"width\":0.5},\"pattern\":{\"fillmode\":\"overlay\",\"size\":10,\"solidity\":0.2}},\"type\":\"bar\"}],\"scattergeo\":[{\"type\":\"scattergeo\",\"marker\":{\"colorbar\":{\"outlinewidth\":0,\"ticks\":\"\"}}}],\"scatterpolar\":[{\"type\":\"scatterpolar\",\"marker\":{\"colorbar\":{\"outlinewidth\":0,\"ticks\":\"\"}}}],\"histogram\":[{\"marker\":{\"pattern\":{\"fillmode\":\"overlay\",\"size\":10,\"solidity\":0.2}},\"type\":\"histogram\"}],\"scattergl\":[{\"type\":\"scattergl\",\"marker\":{\"colorbar\":{\"outlinewidth\":0,\"ticks\":\"\"}}}],\"scatter3d\":[{\"type\":\"scatter3d\",\"line\":{\"colorbar\":{\"outlinewidth\":0,\"ticks\":\"\"}},\"marker\":{\"colorbar\":{\"outlinewidth\":0,\"ticks\":\"\"}}}],\"scattermapbox\":[{\"type\":\"scattermapbox\",\"marker\":{\"colorbar\":{\"outlinewidth\":0,\"ticks\":\"\"}}}],\"scatterternary\":[{\"type\":\"scatterternary\",\"marker\":{\"colorbar\":{\"outlinewidth\":0,\"ticks\":\"\"}}}],\"scattercarpet\":[{\"type\":\"scattercarpet\",\"marker\":{\"colorbar\":{\"outlinewidth\":0,\"ticks\":\"\"}}}],\"carpet\":[{\"aaxis\":{\"endlinecolor\":\"#2a3f5f\",\"gridcolor\":\"white\",\"linecolor\":\"white\",\"minorgridcolor\":\"white\",\"startlinecolor\":\"#2a3f5f\"},\"baxis\":{\"endlinecolor\":\"#2a3f5f\",\"gridcolor\":\"white\",\"linecolor\":\"white\",\"minorgridcolor\":\"white\",\"startlinecolor\":\"#2a3f5f\"},\"type\":\"carpet\"}],\"table\":[{\"cells\":{\"fill\":{\"color\":\"#EBF0F8\"},\"line\":{\"color\":\"white\"}},\"header\":{\"fill\":{\"color\":\"#C8D4E3\"},\"line\":{\"color\":\"white\"}},\"type\":\"table\"}],\"barpolar\":[{\"marker\":{\"line\":{\"color\":\"#E5ECF6\",\"width\":0.5},\"pattern\":{\"fillmode\":\"overlay\",\"size\":10,\"solidity\":0.2}},\"type\":\"barpolar\"}],\"pie\":[{\"automargin\":true,\"type\":\"pie\"}]},\"layout\":{\"autotypenumbers\":\"strict\",\"colorway\":[\"#636efa\",\"#EF553B\",\"#00cc96\",\"#ab63fa\",\"#FFA15A\",\"#19d3f3\",\"#FF6692\",\"#B6E880\",\"#FF97FF\",\"#FECB52\"],\"font\":{\"color\":\"#2a3f5f\"},\"hovermode\":\"closest\",\"hoverlabel\":{\"align\":\"left\"},\"paper_bgcolor\":\"white\",\"plot_bgcolor\":\"#E5ECF6\",\"polar\":{\"bgcolor\":\"#E5ECF6\",\"angularaxis\":{\"gridcolor\":\"white\",\"linecolor\":\"white\",\"ticks\":\"\"},\"radialaxis\":{\"gridcolor\":\"white\",\"linecolor\":\"white\",\"ticks\":\"\"}},\"ternary\":{\"bgcolor\":\"#E5ECF6\",\"aaxis\":{\"gridcolor\":\"white\",\"linecolor\":\"white\",\"ticks\":\"\"},\"baxis\":{\"gridcolor\":\"white\",\"linecolor\":\"white\",\"ticks\":\"\"},\"caxis\":{\"gridcolor\":\"white\",\"linecolor\":\"white\",\"ticks\":\"\"}},\"coloraxis\":{\"colorbar\":{\"outlinewidth\":0,\"ticks\":\"\"}},\"colorscale\":{\"sequential\":[[0.0,\"#0d0887\"],[0.1111111111111111,\"#46039f\"],[0.2222222222222222,\"#7201a8\"],[0.3333333333333333,\"#9c179e\"],[0.4444444444444444,\"#bd3786\"],[0.5555555555555556,\"#d8576b\"],[0.6666666666666666,\"#ed7953\"],[0.7777777777777778,\"#fb9f3a\"],[0.8888888888888888,\"#fdca26\"],[1.0,\"#f0f921\"]],\"sequentialminus\":[[0.0,\"#0d0887\"],[0.1111111111111111,\"#46039f\"],[0.2222222222222222,\"#7201a8\"],[0.3333333333333333,\"#9c179e\"],[0.4444444444444444,\"#bd3786\"],[0.5555555555555556,\"#d8576b\"],[0.6666666666666666,\"#ed7953\"],[0.7777777777777778,\"#fb9f3a\"],[0.8888888888888888,\"#fdca26\"],[1.0,\"#f0f921\"]],\"diverging\":[[0,\"#8e0152\"],[0.1,\"#c51b7d\"],[0.2,\"#de77ae\"],[0.3,\"#f1b6da\"],[0.4,\"#fde0ef\"],[0.5,\"#f7f7f7\"],[0.6,\"#e6f5d0\"],[0.7,\"#b8e186\"],[0.8,\"#7fbc41\"],[0.9,\"#4d9221\"],[1,\"#276419\"]]},\"xaxis\":{\"gridcolor\":\"white\",\"linecolor\":\"white\",\"ticks\":\"\",\"title\":{\"standoff\":15},\"zerolinecolor\":\"white\",\"automargin\":true,\"zerolinewidth\":2},\"yaxis\":{\"gridcolor\":\"white\",\"linecolor\":\"white\",\"ticks\":\"\",\"title\":{\"standoff\":15},\"zerolinecolor\":\"white\",\"automargin\":true,\"zerolinewidth\":2},\"scene\":{\"xaxis\":{\"backgroundcolor\":\"#E5ECF6\",\"gridcolor\":\"white\",\"linecolor\":\"white\",\"showbackground\":true,\"ticks\":\"\",\"zerolinecolor\":\"white\",\"gridwidth\":2},\"yaxis\":{\"backgroundcolor\":\"#E5ECF6\",\"gridcolor\":\"white\",\"linecolor\":\"white\",\"showbackground\":true,\"ticks\":\"\",\"zerolinecolor\":\"white\",\"gridwidth\":2},\"zaxis\":{\"backgroundcolor\":\"#E5ECF6\",\"gridcolor\":\"white\",\"linecolor\":\"white\",\"showbackground\":true,\"ticks\":\"\",\"zerolinecolor\":\"white\",\"gridwidth\":2}},\"shapedefaults\":{\"line\":{\"color\":\"#2a3f5f\"}},\"annotationdefaults\":{\"arrowcolor\":\"#2a3f5f\",\"arrowhead\":0,\"arrowwidth\":1},\"geo\":{\"bgcolor\":\"white\",\"landcolor\":\"#E5ECF6\",\"subunitcolor\":\"white\",\"showland\":true,\"showlakes\":true,\"lakecolor\":\"white\"},\"title\":{\"x\":0.05},\"mapbox\":{\"style\":\"light\"}}},\"showlegend\":false},                        {\"responsive\": true}                    ).then(function(){\n",
       "                            \n",
       "var gd = document.getElementById('26b000fb-babc-4c37-a478-ee0695fb18f5');\n",
       "var x = new MutationObserver(function (mutations, observer) {{\n",
       "        var display = window.getComputedStyle(gd).display;\n",
       "        if (!display || display === 'none') {{\n",
       "            console.log([gd, 'removed!']);\n",
       "            Plotly.purge(gd);\n",
       "            observer.disconnect();\n",
       "        }}\n",
       "}});\n",
       "\n",
       "// Listen for the removal of the full notebook cells\n",
       "var notebookContainer = gd.closest('#notebook-container');\n",
       "if (notebookContainer) {{\n",
       "    x.observe(notebookContainer, {childList: true});\n",
       "}}\n",
       "\n",
       "// Listen for the clearing of the current output cell\n",
       "var outputEl = gd.closest('.output');\n",
       "if (outputEl) {{\n",
       "    x.observe(outputEl, {childList: true});\n",
       "}}\n",
       "\n",
       "                        })                };                });            </script>        </div>"
      ]
     },
     "metadata": {},
     "output_type": "display_data"
    }
   ],
   "source": [
    "plot_word_of_interest('femme')"
   ]
  },
  {
   "cell_type": "markdown",
   "id": "308bf791-8f4b-415f-9f5a-af90d6228fb7",
   "metadata": {},
   "source": [
    "## Concordancier"
   ]
  },
  {
   "cell_type": "code",
   "execution_count": 28,
   "id": "4126de43-deb9-47ac-bc66-ce9514f924c5",
   "metadata": {},
   "outputs": [
    {
     "data": {
      "text/html": [
       "<div>\n",
       "<style scoped>\n",
       "    .dataframe tbody tr th:only-of-type {\n",
       "        vertical-align: middle;\n",
       "    }\n",
       "\n",
       "    .dataframe tbody tr th {\n",
       "        vertical-align: top;\n",
       "    }\n",
       "\n",
       "    .dataframe thead th {\n",
       "        text-align: right;\n",
       "    }\n",
       "</style>\n",
       "<table border=\"1\" class=\"dataframe\">\n",
       "  <thead>\n",
       "    <tr style=\"text-align: right;\">\n",
       "      <th></th>\n",
       "      <th>token</th>\n",
       "      <th>relation</th>\n",
       "      <th>from_sentence</th>\n",
       "      <th>head_pos_tag</th>\n",
       "      <th>doc</th>\n",
       "    </tr>\n",
       "  </thead>\n",
       "  <tbody>\n",
       "    <tr>\n",
       "      <th>0</th>\n",
       "      <td>différencié</td>\n",
       "      <td>acl</td>\n",
       "      <td>doc1sent42</td>\n",
       "      <td>NOUN</td>\n",
       "      <td>doc1</td>\n",
       "    </tr>\n",
       "    <tr>\n",
       "      <th>1</th>\n",
       "      <td>termes</td>\n",
       "      <td>nmod</td>\n",
       "      <td>doc1sent42</td>\n",
       "      <td>NOUN</td>\n",
       "      <td>doc1</td>\n",
       "    </tr>\n",
       "    <tr>\n",
       "      <th>2</th>\n",
       "      <td>indice</td>\n",
       "      <td>nmod</td>\n",
       "      <td>doc1sent222</td>\n",
       "      <td>NOUN</td>\n",
       "      <td>doc1</td>\n",
       "    </tr>\n",
       "    <tr>\n",
       "      <th>3</th>\n",
       "      <td>développement</td>\n",
       "      <td>conj</td>\n",
       "      <td>doc2sent192</td>\n",
       "      <td>NOUN</td>\n",
       "      <td>doc2</td>\n",
       "    </tr>\n",
       "    <tr>\n",
       "      <th>4</th>\n",
       "      <td>territoires</td>\n",
       "      <td>conj</td>\n",
       "      <td>doc2sent192</td>\n",
       "      <td>NOUN</td>\n",
       "      <td>doc2</td>\n",
       "    </tr>\n",
       "    <tr>\n",
       "      <th>...</th>\n",
       "      <td>...</td>\n",
       "      <td>...</td>\n",
       "      <td>...</td>\n",
       "      <td>...</td>\n",
       "      <td>...</td>\n",
       "    </tr>\n",
       "    <tr>\n",
       "      <th>128</th>\n",
       "      <td>succéde</td>\n",
       "      <td>nsubj</td>\n",
       "      <td>doc4sent606</td>\n",
       "      <td>VERB</td>\n",
       "      <td>doc4</td>\n",
       "    </tr>\n",
       "    <tr>\n",
       "      <th>129</th>\n",
       "      <td>perd</td>\n",
       "      <td>nsubj</td>\n",
       "      <td>doc4sent609</td>\n",
       "      <td>VERB</td>\n",
       "      <td>doc4</td>\n",
       "    </tr>\n",
       "    <tr>\n",
       "      <th>130</th>\n",
       "      <td>appréhender</td>\n",
       "      <td>obj</td>\n",
       "      <td>doc4sent623</td>\n",
       "      <td>VERB</td>\n",
       "      <td>doc4</td>\n",
       "    </tr>\n",
       "    <tr>\n",
       "      <th>131</th>\n",
       "      <td>pourraient</td>\n",
       "      <td>obj</td>\n",
       "      <td>doc4sent630</td>\n",
       "      <td>VERB</td>\n",
       "      <td>doc4</td>\n",
       "    </tr>\n",
       "    <tr>\n",
       "      <th>132</th>\n",
       "      <td>normes</td>\n",
       "      <td>nmod</td>\n",
       "      <td>doc4sent643</td>\n",
       "      <td>NOUN</td>\n",
       "      <td>doc4</td>\n",
       "    </tr>\n",
       "  </tbody>\n",
       "</table>\n",
       "<p>133 rows × 5 columns</p>\n",
       "</div>"
      ],
      "text/plain": [
       "             token relation from_sentence head_pos_tag   doc\n",
       "0      différencié      acl    doc1sent42         NOUN  doc1\n",
       "1           termes     nmod    doc1sent42         NOUN  doc1\n",
       "2           indice     nmod   doc1sent222         NOUN  doc1\n",
       "3    développement     conj   doc2sent192         NOUN  doc2\n",
       "4      territoires     conj   doc2sent192         NOUN  doc2\n",
       "..             ...      ...           ...          ...   ...\n",
       "128        succéde    nsubj   doc4sent606         VERB  doc4\n",
       "129           perd    nsubj   doc4sent609         VERB  doc4\n",
       "130    appréhender      obj   doc4sent623         VERB  doc4\n",
       "131     pourraient      obj   doc4sent630         VERB  doc4\n",
       "132         normes     nmod   doc4sent643         NOUN  doc4\n",
       "\n",
       "[133 rows x 5 columns]"
      ]
     },
     "execution_count": 28,
     "metadata": {},
     "output_type": "execute_result"
    }
   ],
   "source": [
    "get_syntagmatic_data('emploi')"
   ]
  },
  {
   "cell_type": "code",
   "execution_count": 18,
   "id": "a0ec8059-c9e3-4615-8d75-a0b3b7d9ae38",
   "metadata": {},
   "outputs": [],
   "source": [
    "test_sent = list(db.aql.execute('''\n",
    "    FOR sent in sentences\n",
    "    FILTER sent._key == 'doc4sent623'\n",
    "    RETURN sent.content\n",
    "'''))[0]"
   ]
  },
  {
   "cell_type": "code",
   "execution_count": 9,
   "id": "6df1453a-260b-4470-9a92-a0589b6f1998",
   "metadata": {},
   "outputs": [],
   "source": [
    "import matplotlib.pyplot as plt\n",
    "from matplotlib import transforms\n",
    "\n",
    "\n",
    "def rainbow_text(x, y, strings, colors, ax=None, **kw):\n",
    "    \"\"\"\n",
    "    Take a list of ``strings`` and ``colors`` and place them next to each\n",
    "    other, with text strings[i] being shown in colors[i].\n",
    "\n",
    "    This example shows how to do both vertical and horizontal text, and will\n",
    "    pass all keyword arguments to plt.text, so you can set the font size,\n",
    "    family, etc.\n",
    "\n",
    "    The text will get added to the ``ax`` axes, if provided, otherwise the\n",
    "    currently active axes will be used.\n",
    "    \"\"\"\n",
    "    if ax is None:\n",
    "        ax = plt.gca()\n",
    "    t = ax.transData\n",
    "    canvas = ax.figure.canvas\n",
    "    ax.axis('off')\n",
    "    # horizontal version\n",
    "    for s, c in zip(strings, colors):\n",
    "        text = ax.text(x, y, \" \" + s + \" \", color=c, transform=t, **kw)\n",
    "        text.draw(canvas.get_renderer())\n",
    "        ex = text.get_window_extent()\n",
    "        t = transforms.offset_copy(text._transform, x=ex.width, units='dots')"
   ]
  },
  {
   "cell_type": "code",
   "execution_count": 32,
   "id": "cc2f2ef6-b564-42c3-ada8-692d96fe965b",
   "metadata": {},
   "outputs": [
    {
     "data": {
      "image/png": "[encoded data removed]",
      "text/plain": [
       "<Figure size 432x288 with 1 Axes>"
      ]
     },
     "metadata": {
      "needs_background": "light"
     },
     "output_type": "display_data"
    }
   ],
   "source": [
    "rainbow_text(0,1,test_sent.split(),('black ' * 52).split() )"
   ]
  },
  {
   "cell_type": "code",
   "execution_count": 20,
   "id": "f9f49ad2-4bf1-4920-a05d-2727d30d6b41",
   "metadata": {},
   "outputs": [],
   "source": [
    "len(test_sent.split())"
   ]
  },
  {
   "cell_type": "code",
   "execution_count": 34,
   "id": "658f224f-0acc-4785-9a9a-0699d1a81682",
   "metadata": {},
   "outputs": [],
   "source": [
    "('black ' * 52).split()"
   ]
  },
  {
   "cell_type": "code",
   "execution_count": 35,
   "id": "b1c9233f-9e2e-47a5-91ac-2391b0d69303",
   "metadata": {},
   "outputs": [
    {
     "data": {
      "text/plain": [
       "'A cette période de leur vie, elles ne disposaient déja plus des mémes chan- ces objectives de réussite universitaire et d’accés a des emplois autres que celui d’employé peu qualifié, inégalités de destin qui permettent d’expliquer les dif- férences dans leurs fagons d’appréhender leur emploi de téléactrice et les études qu’elles ménent.'"
      ]
     },
     "execution_count": 35,
     "metadata": {},
     "output_type": "execute_result"
    }
   ],
   "source": [
    "test_sent"
   ]
  },
  {
   "cell_type": "code",
   "execution_count": 33,
   "id": "7f8b80b2-dad6-49ea-adec-375000244ebc",
   "metadata": {},
   "outputs": [
    {
     "data": {
      "application/vnd.plotly.v1+json": {
       "config": {
        "plotlyServerURL": "https://plot.ly"
       },
       "data": [
        {
         "mode": "text",
         "text": "A cette période de leur vie, elles ne disposaient déja plus des mémes \r chan- ces objectives de réussite universitaire et d’accés a des emplois autres que celui d’employé peu qualifié, inégalités de destin qui permettent d’expliquer les dif- férences dans leurs fagons d’appréhender leur emploi de téléactrice et les études qu’elles ménent.",
         "type": "scatter",
         "x": [
          0
         ],
         "y": [
          0
         ]
        }
       ],
       "layout": {
        "autosize": true,
        "template": {
         "data": {
          "bar": [
           {
            "error_x": {
             "color": "#2a3f5f"
            },
            "error_y": {
             "color": "#2a3f5f"
            },
            "marker": {
             "line": {
              "color": "#E5ECF6",
              "width": 0.5
             },
             "pattern": {
              "fillmode": "overlay",
              "size": 10,
              "solidity": 0.2
             }
            },
            "type": "bar"
           }
          ],
          "barpolar": [
           {
            "marker": {
             "line": {
              "color": "#E5ECF6",
              "width": 0.5
             },
             "pattern": {
              "fillmode": "overlay",
              "size": 10,
              "solidity": 0.2
             }
            },
            "type": "barpolar"
           }
          ],
          "carpet": [
           {
            "aaxis": {
             "endlinecolor": "#2a3f5f",
             "gridcolor": "white",
             "linecolor": "white",
             "minorgridcolor": "white",
             "startlinecolor": "#2a3f5f"
            },
            "baxis": {
             "endlinecolor": "#2a3f5f",
             "gridcolor": "white",
             "linecolor": "white",
             "minorgridcolor": "white",
             "startlinecolor": "#2a3f5f"
            },
            "type": "carpet"
           }
          ],
          "choropleth": [
           {
            "colorbar": {
             "outlinewidth": 0,
             "ticks": ""
            },
            "type": "choropleth"
           }
          ],
          "contour": [
           {
            "colorbar": {
             "outlinewidth": 0,
             "ticks": ""
            },
            "colorscale": [
             [
              0,
              "#0d0887"
             ],
             [
              0.1111111111111111,
              "#46039f"
             ],
             [
              0.2222222222222222,
              "#7201a8"
             ],
             [
              0.3333333333333333,
              "#9c179e"
             ],
             [
              0.4444444444444444,
              "#bd3786"
             ],
             [
              0.5555555555555556,
              "#d8576b"
             ],
             [
              0.6666666666666666,
              "#ed7953"
             ],
             [
              0.7777777777777778,
              "#fb9f3a"
             ],
             [
              0.8888888888888888,
              "#fdca26"
             ],
             [
              1,
              "#f0f921"
             ]
            ],
            "type": "contour"
           }
          ],
          "contourcarpet": [
           {
            "colorbar": {
             "outlinewidth": 0,
             "ticks": ""
            },
            "type": "contourcarpet"
           }
          ],
          "heatmap": [
           {
            "colorbar": {
             "outlinewidth": 0,
             "ticks": ""
            },
            "colorscale": [
             [
              0,
              "#0d0887"
             ],
             [
              0.1111111111111111,
              "#46039f"
             ],
             [
              0.2222222222222222,
              "#7201a8"
             ],
             [
              0.3333333333333333,
              "#9c179e"
             ],
             [
              0.4444444444444444,
              "#bd3786"
             ],
             [
              0.5555555555555556,
              "#d8576b"
             ],
             [
              0.6666666666666666,
              "#ed7953"
             ],
             [
              0.7777777777777778,
              "#fb9f3a"
             ],
             [
              0.8888888888888888,
              "#fdca26"
             ],
             [
              1,
              "#f0f921"
             ]
            ],
            "type": "heatmap"
           }
          ],
          "heatmapgl": [
           {
            "colorbar": {
             "outlinewidth": 0,
             "ticks": ""
            },
            "colorscale": [
             [
              0,
              "#0d0887"
             ],
             [
              0.1111111111111111,
              "#46039f"
             ],
             [
              0.2222222222222222,
              "#7201a8"
             ],
             [
              0.3333333333333333,
              "#9c179e"
             ],
             [
              0.4444444444444444,
              "#bd3786"
             ],
             [
              0.5555555555555556,
              "#d8576b"
             ],
             [
              0.6666666666666666,
              "#ed7953"
             ],
             [
              0.7777777777777778,
              "#fb9f3a"
             ],
             [
              0.8888888888888888,
              "#fdca26"
             ],
             [
              1,
              "#f0f921"
             ]
            ],
            "type": "heatmapgl"
           }
          ],
          "histogram": [
           {
            "marker": {
             "pattern": {
              "fillmode": "overlay",
              "size": 10,
              "solidity": 0.2
             }
            },
            "type": "histogram"
           }
          ],
          "histogram2d": [
           {
            "colorbar": {
             "outlinewidth": 0,
             "ticks": ""
            },
            "colorscale": [
             [
              0,
              "#0d0887"
             ],
             [
              0.1111111111111111,
              "#46039f"
             ],
             [
              0.2222222222222222,
              "#7201a8"
             ],
             [
              0.3333333333333333,
              "#9c179e"
             ],
             [
              0.4444444444444444,
              "#bd3786"
             ],
             [
              0.5555555555555556,
              "#d8576b"
             ],
             [
              0.6666666666666666,
              "#ed7953"
             ],
             [
              0.7777777777777778,
              "#fb9f3a"
             ],
             [
              0.8888888888888888,
              "#fdca26"
             ],
             [
              1,
              "#f0f921"
             ]
            ],
            "type": "histogram2d"
           }
          ],
          "histogram2dcontour": [
           {
            "colorbar": {
             "outlinewidth": 0,
             "ticks": ""
            },
            "colorscale": [
             [
              0,
              "#0d0887"
             ],
             [
              0.1111111111111111,
              "#46039f"
             ],
             [
              0.2222222222222222,
              "#7201a8"
             ],
             [
              0.3333333333333333,
              "#9c179e"
             ],
             [
              0.4444444444444444,
              "#bd3786"
             ],
             [
              0.5555555555555556,
              "#d8576b"
             ],
             [
              0.6666666666666666,
              "#ed7953"
             ],
             [
              0.7777777777777778,
              "#fb9f3a"
             ],
             [
              0.8888888888888888,
              "#fdca26"
             ],
             [
              1,
              "#f0f921"
             ]
            ],
            "type": "histogram2dcontour"
           }
          ],
          "mesh3d": [
           {
            "colorbar": {
             "outlinewidth": 0,
             "ticks": ""
            },
            "type": "mesh3d"
           }
          ],
          "parcoords": [
           {
            "line": {
             "colorbar": {
              "outlinewidth": 0,
              "ticks": ""
             }
            },
            "type": "parcoords"
           }
          ],
          "pie": [
           {
            "automargin": true,
            "type": "pie"
           }
          ],
          "scatter": [
           {
            "fillpattern": {
             "fillmode": "overlay",
             "size": 10,
             "solidity": 0.2
            },
            "type": "scatter"
           }
          ],
          "scatter3d": [
           {
            "line": {
             "colorbar": {
              "outlinewidth": 0,
              "ticks": ""
             }
            },
            "marker": {
             "colorbar": {
              "outlinewidth": 0,
              "ticks": ""
             }
            },
            "type": "scatter3d"
           }
          ],
          "scattercarpet": [
           {
            "marker": {
             "colorbar": {
              "outlinewidth": 0,
              "ticks": ""
             }
            },
            "type": "scattercarpet"
           }
          ],
          "scattergeo": [
           {
            "marker": {
             "colorbar": {
              "outlinewidth": 0,
              "ticks": ""
             }
            },
            "type": "scattergeo"
           }
          ],
          "scattergl": [
           {
            "marker": {
             "colorbar": {
              "outlinewidth": 0,
              "ticks": ""
             }
            },
            "type": "scattergl"
           }
          ],
          "scattermapbox": [
           {
            "marker": {
             "colorbar": {
              "outlinewidth": 0,
              "ticks": ""
             }
            },
            "type": "scattermapbox"
           }
          ],
          "scatterpolar": [
           {
            "marker": {
             "colorbar": {
              "outlinewidth": 0,
              "ticks": ""
             }
            },
            "type": "scatterpolar"
           }
          ],
          "scatterpolargl": [
           {
            "marker": {
             "colorbar": {
              "outlinewidth": 0,
              "ticks": ""
             }
            },
            "type": "scatterpolargl"
           }
          ],
          "scatterternary": [
           {
            "marker": {
             "colorbar": {
              "outlinewidth": 0,
              "ticks": ""
             }
            },
            "type": "scatterternary"
           }
          ],
          "surface": [
           {
            "colorbar": {
             "outlinewidth": 0,
             "ticks": ""
            },
            "colorscale": [
             [
              0,
              "#0d0887"
             ],
             [
              0.1111111111111111,
              "#46039f"
             ],
             [
              0.2222222222222222,
              "#7201a8"
             ],
             [
              0.3333333333333333,
              "#9c179e"
             ],
             [
              0.4444444444444444,
              "#bd3786"
             ],
             [
              0.5555555555555556,
              "#d8576b"
             ],
             [
              0.6666666666666666,
              "#ed7953"
             ],
             [
              0.7777777777777778,
              "#fb9f3a"
             ],
             [
              0.8888888888888888,
              "#fdca26"
             ],
             [
              1,
              "#f0f921"
             ]
            ],
            "type": "surface"
           }
          ],
          "table": [
           {
            "cells": {
             "fill": {
              "color": "#EBF0F8"
             },
             "line": {
              "color": "white"
             }
            },
            "header": {
             "fill": {
              "color": "#C8D4E3"
             },
             "line": {
              "color": "white"
             }
            },
            "type": "table"
           }
          ]
         },
         "layout": {
          "annotationdefaults": {
           "arrowcolor": "#2a3f5f",
           "arrowhead": 0,
           "arrowwidth": 1
          },
          "autotypenumbers": "strict",
          "coloraxis": {
           "colorbar": {
            "outlinewidth": 0,
            "ticks": ""
           }
          },
          "colorscale": {
           "diverging": [
            [
             0,
             "#8e0152"
            ],
            [
             0.1,
             "#c51b7d"
            ],
            [
             0.2,
             "#de77ae"
            ],
            [
             0.3,
             "#f1b6da"
            ],
            [
             0.4,
             "#fde0ef"
            ],
            [
             0.5,
             "#f7f7f7"
            ],
            [
             0.6,
             "#e6f5d0"
            ],
            [
             0.7,
             "#b8e186"
            ],
            [
             0.8,
             "#7fbc41"
            ],
            [
             0.9,
             "#4d9221"
            ],
            [
             1,
             "#276419"
            ]
           ],
           "sequential": [
            [
             0,
             "#0d0887"
            ],
            [
             0.1111111111111111,
             "#46039f"
            ],
            [
             0.2222222222222222,
             "#7201a8"
            ],
            [
             0.3333333333333333,
             "#9c179e"
            ],
            [
             0.4444444444444444,
             "#bd3786"
            ],
            [
             0.5555555555555556,
             "#d8576b"
            ],
            [
             0.6666666666666666,
             "#ed7953"
            ],
            [
             0.7777777777777778,
             "#fb9f3a"
            ],
            [
             0.8888888888888888,
             "#fdca26"
            ],
            [
             1,
             "#f0f921"
            ]
           ],
           "sequentialminus": [
            [
             0,
             "#0d0887"
            ],
            [
             0.1111111111111111,
             "#46039f"
            ],
            [
             0.2222222222222222,
             "#7201a8"
            ],
            [
             0.3333333333333333,
             "#9c179e"
            ],
            [
             0.4444444444444444,
             "#bd3786"
            ],
            [
             0.5555555555555556,
             "#d8576b"
            ],
            [
             0.6666666666666666,
             "#ed7953"
            ],
            [
             0.7777777777777778,
             "#fb9f3a"
            ],
            [
             0.8888888888888888,
             "#fdca26"
            ],
            [
             1,
             "#f0f921"
            ]
           ]
          },
          "colorway": [
           "#636efa",
           "#EF553B",
           "#00cc96",
           "#ab63fa",
           "#FFA15A",
           "#19d3f3",
           "#FF6692",
           "#B6E880",
           "#FF97FF",
           "#FECB52"
          ],
          "font": {
           "color": "#2a3f5f"
          },
          "geo": {
           "bgcolor": "white",
           "lakecolor": "white",
           "landcolor": "#E5ECF6",
           "showlakes": true,
           "showland": true,
           "subunitcolor": "white"
          },
          "hoverlabel": {
           "align": "left"
          },
          "hovermode": "closest",
          "mapbox": {
           "style": "light"
          },
          "paper_bgcolor": "white",
          "plot_bgcolor": "#E5ECF6",
          "polar": {
           "angularaxis": {
            "gridcolor": "white",
            "linecolor": "white",
            "ticks": ""
           },
           "bgcolor": "#E5ECF6",
           "radialaxis": {
            "gridcolor": "white",
            "linecolor": "white",
            "ticks": ""
           }
          },
          "scene": {
           "xaxis": {
            "backgroundcolor": "#E5ECF6",
            "gridcolor": "white",
            "gridwidth": 2,
            "linecolor": "white",
            "showbackground": true,
            "ticks": "",
            "zerolinecolor": "white"
           },
           "yaxis": {
            "backgroundcolor": "#E5ECF6",
            "gridcolor": "white",
            "gridwidth": 2,
            "linecolor": "white",
            "showbackground": true,
            "ticks": "",
            "zerolinecolor": "white"
           },
           "zaxis": {
            "backgroundcolor": "#E5ECF6",
            "gridcolor": "white",
            "gridwidth": 2,
            "linecolor": "white",
            "showbackground": true,
            "ticks": "",
            "zerolinecolor": "white"
           }
          },
          "shapedefaults": {
           "line": {
            "color": "#2a3f5f"
           }
          },
          "ternary": {
           "aaxis": {
            "gridcolor": "white",
            "linecolor": "white",
            "ticks": ""
           },
           "baxis": {
            "gridcolor": "white",
            "linecolor": "white",
            "ticks": ""
           },
           "bgcolor": "#E5ECF6",
           "caxis": {
            "gridcolor": "white",
            "linecolor": "white",
            "ticks": ""
           }
          },
          "title": {
           "x": 0.05
          },
          "xaxis": {
           "automargin": true,
           "gridcolor": "white",
           "linecolor": "white",
           "ticks": "",
           "title": {
            "standoff": 15
           },
           "zerolinecolor": "white",
           "zerolinewidth": 2
          },
          "yaxis": {
           "automargin": true,
           "gridcolor": "white",
           "linecolor": "white",
           "ticks": "",
           "title": {
            "standoff": 15
           },
           "zerolinecolor": "white",
           "zerolinewidth": 2
          }
         }
        },
        "xaxis": {
         "autorange": true,
         "range": [
          -1,
          1
         ],
         "type": "linear"
        },
        "yaxis": {
         "autorange": true,
         "range": [
          -1,
          1
         ],
         "type": "linear"
        }
       }
      },
      "image/png": "[encoded data removed]",
      "text/html": [
       "<div>                            <div id=\"840205cd-822e-47f2-af71-29dbd24981fa\" class=\"plotly-graph-div\" style=\"height:525px; width:100%;\"></div>            <script type=\"text/javascript\">                require([\"plotly\"], function(Plotly) {                    window.PLOTLYENV=window.PLOTLYENV || {};                                    if (document.getElementById(\"840205cd-822e-47f2-af71-29dbd24981fa\")) {                    Plotly.newPlot(                        \"840205cd-822e-47f2-af71-29dbd24981fa\",                        [{\"mode\":\"text\",\"text\":\"A cette p\\u00e9riode de leur vie, elles ne disposaient d\\u00e9ja plus des m\\u00e9mes \\r chan- ces objectives de r\\u00e9ussite universitaire et d\\u2019acc\\u00e9s a des emplois autres que celui d\\u2019employ\\u00e9 peu qualifi\\u00e9, in\\u00e9galit\\u00e9s de destin qui permettent d\\u2019expliquer les dif- f\\u00e9rences dans leurs fagons d\\u2019appr\\u00e9hender leur emploi de t\\u00e9l\\u00e9actrice et les \\u00e9tudes qu\\u2019elles m\\u00e9nent.\",\"x\":[0],\"y\":[0],\"type\":\"scatter\"}],                        {\"template\":{\"data\":{\"histogram2dcontour\":[{\"type\":\"histogram2dcontour\",\"colorbar\":{\"outlinewidth\":0,\"ticks\":\"\"},\"colorscale\":[[0.0,\"#0d0887\"],[0.1111111111111111,\"#46039f\"],[0.2222222222222222,\"#7201a8\"],[0.3333333333333333,\"#9c179e\"],[0.4444444444444444,\"#bd3786\"],[0.5555555555555556,\"#d8576b\"],[0.6666666666666666,\"#ed7953\"],[0.7777777777777778,\"#fb9f3a\"],[0.8888888888888888,\"#fdca26\"],[1.0,\"#f0f921\"]]}],\"choropleth\":[{\"type\":\"choropleth\",\"colorbar\":{\"outlinewidth\":0,\"ticks\":\"\"}}],\"histogram2d\":[{\"type\":\"histogram2d\",\"colorbar\":{\"outlinewidth\":0,\"ticks\":\"\"},\"colorscale\":[[0.0,\"#0d0887\"],[0.1111111111111111,\"#46039f\"],[0.2222222222222222,\"#7201a8\"],[0.3333333333333333,\"#9c179e\"],[0.4444444444444444,\"#bd3786\"],[0.5555555555555556,\"#d8576b\"],[0.6666666666666666,\"#ed7953\"],[0.7777777777777778,\"#fb9f3a\"],[0.8888888888888888,\"#fdca26\"],[1.0,\"#f0f921\"]]}],\"heatmap\":[{\"type\":\"heatmap\",\"colorbar\":{\"outlinewidth\":0,\"ticks\":\"\"},\"colorscale\":[[0.0,\"#0d0887\"],[0.1111111111111111,\"#46039f\"],[0.2222222222222222,\"#7201a8\"],[0.3333333333333333,\"#9c179e\"],[0.4444444444444444,\"#bd3786\"],[0.5555555555555556,\"#d8576b\"],[0.6666666666666666,\"#ed7953\"],[0.7777777777777778,\"#fb9f3a\"],[0.8888888888888888,\"#fdca26\"],[1.0,\"#f0f921\"]]}],\"heatmapgl\":[{\"type\":\"heatmapgl\",\"colorbar\":{\"outlinewidth\":0,\"ticks\":\"\"},\"colorscale\":[[0.0,\"#0d0887\"],[0.1111111111111111,\"#46039f\"],[0.2222222222222222,\"#7201a8\"],[0.3333333333333333,\"#9c179e\"],[0.4444444444444444,\"#bd3786\"],[0.5555555555555556,\"#d8576b\"],[0.6666666666666666,\"#ed7953\"],[0.7777777777777778,\"#fb9f3a\"],[0.8888888888888888,\"#fdca26\"],[1.0,\"#f0f921\"]]}],\"contourcarpet\":[{\"type\":\"contourcarpet\",\"colorbar\":{\"outlinewidth\":0,\"ticks\":\"\"}}],\"contour\":[{\"type\":\"contour\",\"colorbar\":{\"outlinewidth\":0,\"ticks\":\"\"},\"colorscale\":[[0.0,\"#0d0887\"],[0.1111111111111111,\"#46039f\"],[0.2222222222222222,\"#7201a8\"],[0.3333333333333333,\"#9c179e\"],[0.4444444444444444,\"#bd3786\"],[0.5555555555555556,\"#d8576b\"],[0.6666666666666666,\"#ed7953\"],[0.7777777777777778,\"#fb9f3a\"],[0.8888888888888888,\"#fdca26\"],[1.0,\"#f0f921\"]]}],\"surface\":[{\"type\":\"surface\",\"colorbar\":{\"outlinewidth\":0,\"ticks\":\"\"},\"colorscale\":[[0.0,\"#0d0887\"],[0.1111111111111111,\"#46039f\"],[0.2222222222222222,\"#7201a8\"],[0.3333333333333333,\"#9c179e\"],[0.4444444444444444,\"#bd3786\"],[0.5555555555555556,\"#d8576b\"],[0.6666666666666666,\"#ed7953\"],[0.7777777777777778,\"#fb9f3a\"],[0.8888888888888888,\"#fdca26\"],[1.0,\"#f0f921\"]]}],\"mesh3d\":[{\"type\":\"mesh3d\",\"colorbar\":{\"outlinewidth\":0,\"ticks\":\"\"}}],\"scatter\":[{\"fillpattern\":{\"fillmode\":\"overlay\",\"size\":10,\"solidity\":0.2},\"type\":\"scatter\"}],\"parcoords\":[{\"type\":\"parcoords\",\"line\":{\"colorbar\":{\"outlinewidth\":0,\"ticks\":\"\"}}}],\"scatterpolargl\":[{\"type\":\"scatterpolargl\",\"marker\":{\"colorbar\":{\"outlinewidth\":0,\"ticks\":\"\"}}}],\"bar\":[{\"error_x\":{\"color\":\"#2a3f5f\"},\"error_y\":{\"color\":\"#2a3f5f\"},\"marker\":{\"line\":{\"color\":\"#E5ECF6\",\"width\":0.5},\"pattern\":{\"fillmode\":\"overlay\",\"size\":10,\"solidity\":0.2}},\"type\":\"bar\"}],\"scattergeo\":[{\"type\":\"scattergeo\",\"marker\":{\"colorbar\":{\"outlinewidth\":0,\"ticks\":\"\"}}}],\"scatterpolar\":[{\"type\":\"scatterpolar\",\"marker\":{\"colorbar\":{\"outlinewidth\":0,\"ticks\":\"\"}}}],\"histogram\":[{\"marker\":{\"pattern\":{\"fillmode\":\"overlay\",\"size\":10,\"solidity\":0.2}},\"type\":\"histogram\"}],\"scattergl\":[{\"type\":\"scattergl\",\"marker\":{\"colorbar\":{\"outlinewidth\":0,\"ticks\":\"\"}}}],\"scatter3d\":[{\"type\":\"scatter3d\",\"line\":{\"colorbar\":{\"outlinewidth\":0,\"ticks\":\"\"}},\"marker\":{\"colorbar\":{\"outlinewidth\":0,\"ticks\":\"\"}}}],\"scattermapbox\":[{\"type\":\"scattermapbox\",\"marker\":{\"colorbar\":{\"outlinewidth\":0,\"ticks\":\"\"}}}],\"scatterternary\":[{\"type\":\"scatterternary\",\"marker\":{\"colorbar\":{\"outlinewidth\":0,\"ticks\":\"\"}}}],\"scattercarpet\":[{\"type\":\"scattercarpet\",\"marker\":{\"colorbar\":{\"outlinewidth\":0,\"ticks\":\"\"}}}],\"carpet\":[{\"aaxis\":{\"endlinecolor\":\"#2a3f5f\",\"gridcolor\":\"white\",\"linecolor\":\"white\",\"minorgridcolor\":\"white\",\"startlinecolor\":\"#2a3f5f\"},\"baxis\":{\"endlinecolor\":\"#2a3f5f\",\"gridcolor\":\"white\",\"linecolor\":\"white\",\"minorgridcolor\":\"white\",\"startlinecolor\":\"#2a3f5f\"},\"type\":\"carpet\"}],\"table\":[{\"cells\":{\"fill\":{\"color\":\"#EBF0F8\"},\"line\":{\"color\":\"white\"}},\"header\":{\"fill\":{\"color\":\"#C8D4E3\"},\"line\":{\"color\":\"white\"}},\"type\":\"table\"}],\"barpolar\":[{\"marker\":{\"line\":{\"color\":\"#E5ECF6\",\"width\":0.5},\"pattern\":{\"fillmode\":\"overlay\",\"size\":10,\"solidity\":0.2}},\"type\":\"barpolar\"}],\"pie\":[{\"automargin\":true,\"type\":\"pie\"}]},\"layout\":{\"autotypenumbers\":\"strict\",\"colorway\":[\"#636efa\",\"#EF553B\",\"#00cc96\",\"#ab63fa\",\"#FFA15A\",\"#19d3f3\",\"#FF6692\",\"#B6E880\",\"#FF97FF\",\"#FECB52\"],\"font\":{\"color\":\"#2a3f5f\"},\"hovermode\":\"closest\",\"hoverlabel\":{\"align\":\"left\"},\"paper_bgcolor\":\"white\",\"plot_bgcolor\":\"#E5ECF6\",\"polar\":{\"bgcolor\":\"#E5ECF6\",\"angularaxis\":{\"gridcolor\":\"white\",\"linecolor\":\"white\",\"ticks\":\"\"},\"radialaxis\":{\"gridcolor\":\"white\",\"linecolor\":\"white\",\"ticks\":\"\"}},\"ternary\":{\"bgcolor\":\"#E5ECF6\",\"aaxis\":{\"gridcolor\":\"white\",\"linecolor\":\"white\",\"ticks\":\"\"},\"baxis\":{\"gridcolor\":\"white\",\"linecolor\":\"white\",\"ticks\":\"\"},\"caxis\":{\"gridcolor\":\"white\",\"linecolor\":\"white\",\"ticks\":\"\"}},\"coloraxis\":{\"colorbar\":{\"outlinewidth\":0,\"ticks\":\"\"}},\"colorscale\":{\"sequential\":[[0.0,\"#0d0887\"],[0.1111111111111111,\"#46039f\"],[0.2222222222222222,\"#7201a8\"],[0.3333333333333333,\"#9c179e\"],[0.4444444444444444,\"#bd3786\"],[0.5555555555555556,\"#d8576b\"],[0.6666666666666666,\"#ed7953\"],[0.7777777777777778,\"#fb9f3a\"],[0.8888888888888888,\"#fdca26\"],[1.0,\"#f0f921\"]],\"sequentialminus\":[[0.0,\"#0d0887\"],[0.1111111111111111,\"#46039f\"],[0.2222222222222222,\"#7201a8\"],[0.3333333333333333,\"#9c179e\"],[0.4444444444444444,\"#bd3786\"],[0.5555555555555556,\"#d8576b\"],[0.6666666666666666,\"#ed7953\"],[0.7777777777777778,\"#fb9f3a\"],[0.8888888888888888,\"#fdca26\"],[1.0,\"#f0f921\"]],\"diverging\":[[0,\"#8e0152\"],[0.1,\"#c51b7d\"],[0.2,\"#de77ae\"],[0.3,\"#f1b6da\"],[0.4,\"#fde0ef\"],[0.5,\"#f7f7f7\"],[0.6,\"#e6f5d0\"],[0.7,\"#b8e186\"],[0.8,\"#7fbc41\"],[0.9,\"#4d9221\"],[1,\"#276419\"]]},\"xaxis\":{\"gridcolor\":\"white\",\"linecolor\":\"white\",\"ticks\":\"\",\"title\":{\"standoff\":15},\"zerolinecolor\":\"white\",\"automargin\":true,\"zerolinewidth\":2},\"yaxis\":{\"gridcolor\":\"white\",\"linecolor\":\"white\",\"ticks\":\"\",\"title\":{\"standoff\":15},\"zerolinecolor\":\"white\",\"automargin\":true,\"zerolinewidth\":2},\"scene\":{\"xaxis\":{\"backgroundcolor\":\"#E5ECF6\",\"gridcolor\":\"white\",\"linecolor\":\"white\",\"showbackground\":true,\"ticks\":\"\",\"zerolinecolor\":\"white\",\"gridwidth\":2},\"yaxis\":{\"backgroundcolor\":\"#E5ECF6\",\"gridcolor\":\"white\",\"linecolor\":\"white\",\"showbackground\":true,\"ticks\":\"\",\"zerolinecolor\":\"white\",\"gridwidth\":2},\"zaxis\":{\"backgroundcolor\":\"#E5ECF6\",\"gridcolor\":\"white\",\"linecolor\":\"white\",\"showbackground\":true,\"ticks\":\"\",\"zerolinecolor\":\"white\",\"gridwidth\":2}},\"shapedefaults\":{\"line\":{\"color\":\"#2a3f5f\"}},\"annotationdefaults\":{\"arrowcolor\":\"#2a3f5f\",\"arrowhead\":0,\"arrowwidth\":1},\"geo\":{\"bgcolor\":\"white\",\"landcolor\":\"#E5ECF6\",\"subunitcolor\":\"white\",\"showland\":true,\"showlakes\":true,\"lakecolor\":\"white\"},\"title\":{\"x\":0.05},\"mapbox\":{\"style\":\"light\"}}}},                        {\"responsive\": true}                    ).then(function(){\n",
       "                            \n",
       "var gd = document.getElementById('840205cd-822e-47f2-af71-29dbd24981fa');\n",
       "var x = new MutationObserver(function (mutations, observer) {{\n",
       "        var display = window.getComputedStyle(gd).display;\n",
       "        if (!display || display === 'none') {{\n",
       "            console.log([gd, 'removed!']);\n",
       "            Plotly.purge(gd);\n",
       "            observer.disconnect();\n",
       "        }}\n",
       "}});\n",
       "\n",
       "// Listen for the removal of the full notebook cells\n",
       "var notebookContainer = gd.closest('#notebook-container');\n",
       "if (notebookContainer) {{\n",
       "    x.observe(notebookContainer, {childList: true});\n",
       "}}\n",
       "\n",
       "// Listen for the clearing of the current output cell\n",
       "var outputEl = gd.closest('.output');\n",
       "if (outputEl) {{\n",
       "    x.observe(outputEl, {childList: true});\n",
       "}}\n",
       "\n",
       "                        })                };                });            </script>        </div>"
      ]
     },
     "metadata": {},
     "output_type": "display_data"
    }
   ],
   "source": [
    "fig = go.Figure()\n",
    "\n",
    "fig.add_trace(go.Scatter(\n",
    "    x = [0],\n",
    "    y = [0],\n",
    "    mode = 'text',\n",
    "    text='A cette période de leur vie, elles ne disposaient déja plus des mémes \\r chan- ces objectives de réussite universitaire et d’accés a des emplois autres que celui d’employé peu qualifié, inégalités de destin qui permettent d’expliquer les dif- férences dans leurs fagons d’appréhender leur emploi de téléactrice et les études qu’elles ménent.'))"
   ]
  },
  {
   "cell_type": "code",
   "execution_count": null,
   "id": "adf904a9-47f0-49bc-8671-595e4f133db5",
   "metadata": {},
   "outputs": [],
   "source": []
  }
 ],
 "metadata": {
  "kernelspec": {
   "display_name": "Python 3 (ipykernel)",
   "language": "python",
   "name": "python3"
  },
  "language_info": {
   "codemirror_mode": {
    "name": "ipython",
    "version": 3
   },
   "file_extension": ".py",
   "mimetype": "text/x-python",
   "name": "python",
   "nbconvert_exporter": "python",
   "pygments_lexer": "ipython3",
   "version": "3.8.8"
  }
 },
 "nbformat": 4,
 "nbformat_minor": 5
}
